{
  "cells": [
    {
      "cell_type": "code",
      "source": [
        "# plot sph-exa results (linux \"nteract\" notebook)\n",
        "import json\n",
        "import pandas as pd"
      ],
      "outputs": [],
      "execution_count": 3,
      "metadata": {
        "collapsed": true,
        "jupyter": {
          "source_hidden": false,
          "outputs_hidden": false
        },
        "nteract": {
          "transient": {
            "deleting": false
          }
        },
        "execution": {
          "iopub.status.busy": "2020-12-03T17:47:20.984Z",
          "iopub.execute_input": "2020-12-03T17:47:21.016Z",
          "shell.execute_reply": "2020-12-03T17:47:21.209Z",
          "iopub.status.idle": "2020-12-03T17:47:21.199Z"
        }
      }
    },
    {
      "cell_type": "code",
      "source": [
        "jsonfile = '/tmp/JG/PLOT/EIGER/ptl_eiger_OK_cce+gnu.json'\n",
        "f = open(jsonfile)\n",
        "d = json.load(f)\n",
        "f.close()"
      ],
      "outputs": [],
      "execution_count": 4,
      "metadata": {
        "collapsed": true,
        "jupyter": {
          "source_hidden": false,
          "outputs_hidden": false
        },
        "nteract": {
          "transient": {
            "deleting": false
          }
        },
        "execution": {
          "iopub.status.busy": "2020-12-03T17:47:21.704Z",
          "iopub.execute_input": "2020-12-03T17:47:21.715Z",
          "iopub.status.idle": "2020-12-03T17:47:21.732Z",
          "shell.execute_reply": "2020-12-03T17:47:21.742Z"
        }
      }
    },
    {
      "cell_type": "code",
      "source": [
        "dd = d['runs'][0]['testcases']\n",
        "dd[0].keys()"
      ],
      "outputs": [
        {
          "output_type": "execute_result",
          "execution_count": 5,
          "data": {
            "text/plain": "dict_keys(['build_stderr', 'build_stdout', 'dependencies_actual', 'dependencies_conceptual', 'description', 'environment', 'fail_phase', 'fail_reason', 'jobid', 'job_stderr', 'job_stdout', 'maintainers', 'name', 'nodelist', 'outputdir', 'perfvars', 'result', 'stagedir', 'scheduler', 'system', 'tags', 'time_compile', 'time_performance', 'time_run', 'time_sanity', 'time_setup', 'time_total'])"
          },
          "metadata": {}
        }
      ],
      "execution_count": 5,
      "metadata": {
        "collapsed": true,
        "jupyter": {
          "source_hidden": false,
          "outputs_hidden": false
        },
        "nteract": {
          "transient": {
            "deleting": false
          }
        },
        "execution": {
          "iopub.status.busy": "2020-12-03T17:47:24.913Z",
          "iopub.execute_input": "2020-12-03T17:47:24.921Z",
          "iopub.status.idle": "2020-12-03T17:47:24.941Z",
          "shell.execute_reply": "2020-12-03T17:47:24.949Z"
        }
      }
    },
    {
      "cell_type": "code",
      "source": [
        "job = 0\n",
        "dd[job]['name'].split('_')"
      ],
      "outputs": [
        {
          "output_type": "execute_result",
          "execution_count": 6,
          "data": {
            "text/plain": "['sphexa', 'ptlbug', 'sedov', '128mpi', '001omp', '337n', '1steps']"
          },
          "metadata": {}
        }
      ],
      "execution_count": 6,
      "metadata": {
        "collapsed": true,
        "jupyter": {
          "source_hidden": false,
          "outputs_hidden": false
        },
        "nteract": {
          "transient": {
            "deleting": false
          }
        },
        "execution": {
          "iopub.status.busy": "2020-12-03T17:47:33.539Z",
          "iopub.execute_input": "2020-12-03T17:47:33.547Z",
          "iopub.status.idle": "2020-12-03T17:47:33.566Z",
          "shell.execute_reply": "2020-12-03T17:47:33.576Z"
        }
      }
    },
    {
      "cell_type": "code",
      "source": [
        "dd[job+2]['name'].split('_')"
      ],
      "outputs": [
        {
          "output_type": "execute_result",
          "execution_count": 8,
          "data": {
            "text/plain": "['sphexa', 'ptlbug', 'sedov', '256mpi', '001omp', '425n', '1steps']"
          },
          "metadata": {}
        }
      ],
      "execution_count": 8,
      "metadata": {
        "collapsed": true,
        "jupyter": {
          "source_hidden": false,
          "outputs_hidden": false
        },
        "nteract": {
          "transient": {
            "deleting": false
          }
        },
        "execution": {
          "iopub.status.busy": "2020-12-03T17:48:23.857Z",
          "iopub.execute_input": "2020-12-03T17:48:23.867Z",
          "iopub.status.idle": "2020-12-03T17:48:23.886Z",
          "shell.execute_reply": "2020-12-03T17:48:23.895Z"
        }
      }
    },
    {
      "cell_type": "code",
      "source": [
        "mpiL = [] ;ompL = [] ;sideL = [] ;stepL = [] ;commitL = [] ;peL = []\n",
        "elapsedL = [] ;unitL = []\n",
        "aL = [];bL = [];cL = [];dL = [];eL = [];fL = [];gL = [];hL = [];iL = []\n",
        "jL = [];kL = [];lL = [];mL = [];nL = [];oL = []\n",
        "job = 0\n",
        "name = dd[job]['name'].split('_')\n",
        "mpiL.append(int(name[3].replace('mpi', '')))\n",
        "ompL.append(int(name[4].replace('omp', '')))\n",
        "sideL.append(int(name[5].replace('n', '')))\n",
        "stepL.append(int(name[6].replace('steps', '')))\n",
        "# commitL.append(name[7])\n",
        "commitL.append('#')\n",
        "pe = dd[job]['environment']\n",
        "peL.append(pe)\n",
        "print(f'{name}\\n mpiL={mpiL}\\n ompL={ompL}\\n sideL={sideL}\\n stepL={stepL}\\n commitL={commitL}\\n pe={pe}\\n peL={peL}\\n')"
      ],
      "outputs": [
        {
          "output_type": "stream",
          "name": "stdout",
          "text": [
            "['sphexa', 'ptlbug', 'sedov', '128mpi', '001omp', '337n', '1steps']\n",
            " mpiL=[128]\n",
            " ompL=[1]\n",
            " sideL=[337]\n",
            " stepL=[1]\n",
            " commitL=['#']\n",
            " pe=PrgEnv-cray\n",
            " peL=['PrgEnv-cray']\n",
            "\n"
          ]
        }
      ],
      "execution_count": 14,
      "metadata": {
        "collapsed": true,
        "jupyter": {
          "source_hidden": false,
          "outputs_hidden": false
        },
        "nteract": {
          "transient": {
            "deleting": false
          }
        },
        "execution": {
          "iopub.status.busy": "2020-12-03T17:53:11.941Z",
          "iopub.execute_input": "2020-12-03T17:53:11.951Z",
          "iopub.status.idle": "2020-12-03T17:53:11.971Z",
          "shell.execute_reply": "2020-12-03T17:53:11.980Z"
        }
      }
    },
    {
      "cell_type": "code",
      "source": [
        "for i in range(len(dd[job]['perfvars'])):\n",
        "  print(i, dd[job]['perfvars'][i]['name'])"
      ],
      "outputs": [
        {
          "output_type": "stream",
          "name": "stdout",
          "text": [
            "0 Elapsed\n",
            "1 _Elapsed\n",
            "2 domain_distribute\n",
            "3 mpi_synchronizeHalos\n",
            "4 BuildTree\n",
            "5 FindNeighbors\n",
            "6 Density\n",
            "7 EquationOfState\n",
            "8 IAD\n",
            "9 MomentumEnergyIAD\n",
            "10 Timestep\n",
            "11 UpdateQuantities\n",
            "12 EnergyConservation\n",
            "13 SmoothingLength\n",
            "14 %MomentumEnergyIAD\n",
            "15 %Timestep\n",
            "16 %mpi_synchronizeHalos\n",
            "17 %FindNeighbors\n",
            "18 %IAD\n",
            "19 patrun_cn\n",
            "20 ptl_high_mem\n",
            "21 ptl_high_mem_c\n",
            "22 %patrun_user\n",
            "23 %patrun_mpi\n",
            "24 %patrun_etc\n",
            "25 %patrun_total\n",
            "26 %patrun_user_slowest\n",
            "27 %patrun_mpi_slowest\n",
            "28 %patrun_etc_slowest\n",
            "29 %patrun_user_fastest\n",
            "30 %patrun_mpi_fastest\n",
            "31 %patrun_etc_fastest\n",
            "32 %patrun_avg_usr_reported\n",
            "33 %patrun_avg_mpi_reported\n",
            "34 %patrun_avg_etc_reported\n",
            "35 %patrun_hotspot1\n",
            "36 %patrun_mpi_h1\n",
            "37 %patrun_mpi_h1_imb\n",
            "38 patrun_avg_energy\n",
            "39 patrun_avg_power\n"
          ]
        }
      ],
      "execution_count": 10,
      "metadata": {
        "collapsed": true,
        "jupyter": {
          "source_hidden": false,
          "outputs_hidden": false
        },
        "nteract": {
          "transient": {
            "deleting": false
          }
        },
        "execution": {
          "iopub.status.busy": "2020-12-03T17:49:21.170Z",
          "iopub.execute_input": "2020-12-03T17:49:21.180Z",
          "iopub.status.idle": "2020-12-03T17:49:21.199Z",
          "shell.execute_reply": "2020-12-03T17:49:21.209Z"
        }
      }
    },
    {
      "cell_type": "code",
      "source": [
        "for job in range(len(dd)):\n",
        "  if dd[job]['outputdir'] is None:\n",
        "    print(job, dd[job]['outputdir'])"
      ],
      "outputs": [],
      "execution_count": 11,
      "metadata": {
        "collapsed": true,
        "jupyter": {
          "source_hidden": false,
          "outputs_hidden": false
        },
        "nteract": {
          "transient": {
            "deleting": false
          }
        },
        "execution": {
          "iopub.status.busy": "2020-12-03T17:49:34.721Z",
          "iopub.execute_input": "2020-12-03T17:49:34.731Z",
          "iopub.status.idle": "2020-12-03T17:49:34.748Z",
          "shell.execute_reply": "2020-12-03T17:49:34.757Z"
        }
      }
    },
    {
      "cell_type": "code",
      "source": [
        "# 20 %scorep_USR\n",
        "# 21 %scorep_MPI\n",
        "\n",
        "#19 patrun_cn\n",
        "#22 %patrun_user\n",
        "#23 %patrun_mpi\n",
        "#24 %patrun_etc\n",
        "\n",
        "#32 %patrun_avg_usr_reported\n",
        "#33 %patrun_avg_mpi_reported\n",
        "#34 %patrun_avg_etc_reported\n",
        "\n",
        "#38 patrun_avg_energy\n",
        "#39 patrun_avg_power\n",
        "\n",
        "dd[job]['perfvars'][38]['name']"
      ],
      "outputs": [
        {
          "output_type": "execute_result",
          "execution_count": 13,
          "data": {
            "text/plain": "'patrun_avg_energy'"
          },
          "metadata": {}
        }
      ],
      "execution_count": 13,
      "metadata": {
        "collapsed": true,
        "jupyter": {
          "source_hidden": false,
          "outputs_hidden": false
        },
        "nteract": {
          "transient": {
            "deleting": false
          }
        },
        "execution": {
          "iopub.status.busy": "2020-12-03T17:51:22.696Z",
          "iopub.execute_input": "2020-12-03T17:51:22.706Z",
          "iopub.status.idle": "2020-12-03T17:51:22.725Z",
          "shell.execute_reply": "2020-12-03T17:51:22.734Z"
        }
      }
    },
    {
      "cell_type": "code",
      "source": [
        "mpiL = [] ;ompL = [] ;sideL = [] ;stepL = [] ;commitL = [] ;peL = []\n",
        "elapsedL = [] ;unitL = []\n",
        "aL = [];bL = [];cL = [];dL = [];eL = [];fL = [];gL = [];hL = [];iL = []\n",
        "jL = [];kL = [];lL = [];mL = [];nL = [];oL = []\n",
        "for job in range(len(dd)):\n",
        "    name = dd[job]['name'].split('_')\n",
        "    mpiL.append(int(name[3].replace('mpi', '')))\n",
        "    ompL.append(int(name[4].replace('omp', '')))\n",
        "    sideL.append(int(name[5].replace('n', '')))\n",
        "    stepL.append(int(name[6].replace('steps', '')))\n",
        "    # commitL.append(name[7])\n",
        "    commitL.append('#')\n",
        "    pe = dd[job]['environment']\n",
        "    peL.append(pe)\n",
        "    # {'name': '_Elapsed', 'reference': 0, 'thres_lower': None, 'thres_upper': None, 'unit': 's', 'value': 8}\n",
        "    if dd[job]['outputdir'] is None:\n",
        "        # failed = no perfvars\n",
        "        elapsedL.append(0)\n",
        "        aL.append(0)\n",
        "        bL.append(0)\n",
        "        cL.append(0)\n",
        "        dL.append(0)\n",
        "        eL.append(0)\n",
        "        fL.append(0)\n",
        "        gL.append(0)\n",
        "        hL.append(0)\n",
        "        iL.append(0)\n",
        "        jL.append(0)\n",
        "        kL.append(0)\n",
        "        lL.append(0)\n",
        "        mL.append(0)\n",
        "        nL.append(0)\n",
        "    else:        \n",
        "        for metric in range(len(dd[job]['perfvars'])):\n",
        "            if dd[job]['perfvars'][metric]['name'] == 'Elapsed': elapsedL.append(dd[job]['perfvars'][metric]['value'])\n",
        "            if dd[job]['perfvars'][metric]['name'] == 'domain_distribute': aL.append(dd[job]['perfvars'][metric]['value'])\n",
        "            if dd[job]['perfvars'][metric]['name'] == 'mpi_synchronizeHalos': bL.append(dd[job]['perfvars'][metric]['value'])\n",
        "            if dd[job]['perfvars'][metric]['name'] == 'BuildTree': cL.append(dd[job]['perfvars'][metric]['value'])\n",
        "            if dd[job]['perfvars'][metric]['name'] == 'FindNeighbors': dL.append(dd[job]['perfvars'][metric]['value'])\n",
        "            if dd[job]['perfvars'][metric]['name'] == 'Density': eL.append(dd[job]['perfvars'][metric]['value'])\n",
        "            if dd[job]['perfvars'][metric]['name'] == 'EquationOfState': fL.append(dd[job]['perfvars'][metric]['value'])\n",
        "            if dd[job]['perfvars'][metric]['name'] == 'IAD': gL.append(dd[job]['perfvars'][metric]['value'])\n",
        "            if dd[job]['perfvars'][metric]['name'] == 'MomentumEnergyIAD': hL.append(dd[job]['perfvars'][metric]['value'])\n",
        "            if dd[job]['perfvars'][metric]['name'] == 'Timestep': iL.append(dd[job]['perfvars'][metric]['value'])\n",
        "            if dd[job]['perfvars'][metric]['name'] == 'UpdateQuantities': jL.append(dd[job]['perfvars'][metric]['value'])\n",
        "            if dd[job]['perfvars'][metric]['name'] == 'EnergyConservation': kL.append(dd[job]['perfvars'][metric]['value'])\n",
        "            if dd[job]['perfvars'][metric]['name'] == 'SmoothingLength': lL.append(dd[job]['perfvars'][metric]['value'])\n",
        "            # unitL.append(dd[job]['perfvars'][metric]['unit'])\n",
        "            # scorep: 20 %scorep_USR / 21 %scorep_MPI\n",
        "            # if dd[job]['perfvars'][metric]['name'] == '%scorep_USR': mL.append(dd[job]['perfvars'][metric]['value'])\n",
        "            # if dd[job]['perfvars'][metric]['name'] == '%scorep_MPI': nL.append(dd[job]['perfvars'][metric]['value'])"
      ],
      "outputs": [],
      "execution_count": 15,
      "metadata": {
        "collapsed": true,
        "jupyter": {
          "source_hidden": false,
          "outputs_hidden": false
        },
        "nteract": {
          "transient": {
            "deleting": false
          }
        },
        "execution": {
          "iopub.status.busy": "2020-12-03T17:54:48.994Z",
          "iopub.execute_input": "2020-12-03T17:54:49.005Z",
          "iopub.status.idle": "2020-12-03T17:54:49.022Z",
          "shell.execute_reply": "2020-12-03T17:54:49.032Z"
        }
      }
    },
    {
      "cell_type": "code",
      "source": [
        "df_dict = {'mpi': mpiL, 'openmp': ompL, 'cubeside': sideL, 'steps': stepL,\n",
        "           'gitcommit': commitL, 'pe': peL, 'elapsed': elapsedL,\n",
        "           'domain_distribute': aL, 'mpi_synchronizeHalos': bL, 'BuildTree': cL,\n",
        "           'FindNeighbors': dL, 'Density': eL, 'EquationOfState': fL,\n",
        "           'IAD': gL, 'MomentumEnergyIAD': hL, 'Timestep': iL, 'UpdateQuantities': jL,\n",
        "           'EnergyConservation': kL, 'SmoothingLength': lL,\n",
        "           }  # , 'unit': unitL}\n",
        "# print(mpiL, ompL, sideL, stepL, peL)\n",
        "df_dict.keys()"
      ],
      "outputs": [
        {
          "output_type": "execute_result",
          "execution_count": 16,
          "data": {
            "text/plain": "dict_keys(['mpi', 'openmp', 'cubeside', 'steps', 'gitcommit', 'pe', 'elapsed', 'domain_distribute', 'mpi_synchronizeHalos', 'BuildTree', 'FindNeighbors', 'Density', 'EquationOfState', 'IAD', 'MomentumEnergyIAD', 'Timestep', 'UpdateQuantities', 'EnergyConservation', 'SmoothingLength'])"
          },
          "metadata": {}
        }
      ],
      "execution_count": 16,
      "metadata": {
        "collapsed": true,
        "jupyter": {
          "source_hidden": false,
          "outputs_hidden": false
        },
        "nteract": {
          "transient": {
            "deleting": false
          }
        },
        "execution": {
          "iopub.status.busy": "2020-12-03T17:54:50.381Z",
          "iopub.execute_input": "2020-12-03T17:54:50.392Z",
          "iopub.status.idle": "2020-12-03T17:54:50.412Z",
          "shell.execute_reply": "2020-12-03T17:54:50.421Z"
        }
      }
    },
    {
      "cell_type": "code",
      "source": [
        "df_dict_keys = list(df_dict.keys())\n",
        "df_dict_keys"
      ],
      "outputs": [
        {
          "output_type": "execute_result",
          "execution_count": 17,
          "data": {
            "text/plain": "['mpi',\n 'openmp',\n 'cubeside',\n 'steps',\n 'gitcommit',\n 'pe',\n 'elapsed',\n 'domain_distribute',\n 'mpi_synchronizeHalos',\n 'BuildTree',\n 'FindNeighbors',\n 'Density',\n 'EquationOfState',\n 'IAD',\n 'MomentumEnergyIAD',\n 'Timestep',\n 'UpdateQuantities',\n 'EnergyConservation',\n 'SmoothingLength']"
          },
          "metadata": {}
        }
      ],
      "execution_count": 17,
      "metadata": {
        "collapsed": true,
        "jupyter": {
          "source_hidden": false,
          "outputs_hidden": false
        },
        "nteract": {
          "transient": {
            "deleting": false
          }
        },
        "execution": {
          "iopub.status.busy": "2020-12-03T17:54:53.821Z",
          "iopub.execute_input": "2020-12-03T17:54:53.831Z",
          "iopub.status.idle": "2020-12-03T17:54:53.854Z",
          "shell.execute_reply": "2020-12-03T17:54:53.864Z"
        }
      }
    },
    {
      "cell_type": "code",
      "source": [
        "for k in df_dict_keys:\n",
        "  print(k, df_dict[k], len(df_dict[k]))"
      ],
      "outputs": [
        {
          "output_type": "stream",
          "name": "stdout",
          "text": [
            "mpi [128, 128, 256, 256, 512, 512, 1024, 1024, 2048, 2048, 4096, 4096] 12\n",
            "openmp [1, 1, 1, 1, 1, 1, 1, 1, 1, 1, 1, 1] 12\n",
            "cubeside [337, 337, 425, 425, 535, 535, 674, 674, 850, 850, 1071, 1071] 12\n",
            "steps [1, 1, 1, 1, 1, 1, 1, 1, 1, 1, 1, 1] 12\n",
            "gitcommit ['#', '#', '#', '#', '#', '#', '#', '#', '#', '#', '#', '#'] 12\n",
            "pe ['PrgEnv-cray', 'PrgEnv-gnu', 'PrgEnv-cray', 'PrgEnv-gnu', 'PrgEnv-cray', 'PrgEnv-gnu', 'PrgEnv-cray', 'PrgEnv-gnu', 'PrgEnv-cray', 'PrgEnv-gnu', 'PrgEnv-cray', 'PrgEnv-gnu'] 12\n",
            "elapsed [16.1715, 16.3373, 14.9308, 12.0362, 14.1303, 14.4361, 33.9516, 38.4329, 14.5999, 15.96, 14.8298, 17.1206] 12\n",
            "domain_distribute [1.8714, 1.9283, 1.4034, 1.5061, 1.6156, 1.6715, 2.2434, 2.4006, 1.9413, 1.9928, 2.1912, 2.1398] 12\n",
            "mpi_synchronizeHalos [3.3253, 3.8641, 2.7649, 2.0507, 2.6276, 2.6799, 15.9932, 17.5557, 1.9765, 2.2663, 2.6392, 2.5217] 12\n",
            "BuildTree [1.6066, 1.7092, 0.9473, 0.7788, 1.0199, 1.1392, 1.7528, 1.8215, 1.3057, 1.2487, 1.5724, 1.7507] 12\n",
            "FindNeighbors [1.9186, 2.0483, 2.185, 2.0304, 2.0511, 2.0136, 2.0081, 1.9295, 2.245, 2.1839, 2.288, 2.2624] 12\n",
            "Density [0.66, 0.8605, 0.7384, 0.855, 0.7047, 0.8374, 0.6838, 0.7954, 0.6971, 0.8024, 0.6899, 0.8249] 12\n",
            "EquationOfState [0.0041, 0.0043, 0.0045, 0.0043, 0.0042, 0.0043, 0.0048, 0.0041, 0.0042, 0.0043, 0.0046, 0.0044] 12\n",
            "IAD [1.0703, 1.3873, 1.1916, 1.2784, 1.104, 1.293, 1.0253, 1.1776, 1.141, 1.2932, 1.1744, 1.3829] 12\n",
            "MomentumEnergyIAD [2.3983, 3.1241, 2.7541, 3.0669, 2.5508, 2.9718, 2.26, 2.718, 2.6522, 2.977, 2.6909, 3.1863] 12\n",
            "Timestep [3.2097, 1.2823, 2.8384, 0.3422, 2.3292, 1.6773, 7.7756, 9.7847, 2.5155, 3.0417, 1.407, 2.8961] 12\n",
            "UpdateQuantities [0.064, 0.0634, 0.0654, 0.0656, 0.0654, 0.0649, 0.0639, 0.0636, 0.0663, 0.0662, 0.0635, 0.0652] 12\n",
            "EnergyConservation [0.0178, 0.0193, 0.0139, 0.0137, 0.0332, 0.0433, 0.0698, 0.0587, 0.0289, 0.0392, 0.0866, 0.045] 12\n",
            "SmoothingLength [0.0162, 0.0305, 0.0181, 0.0347, 0.0161, 0.0275, 0.0161, 0.0268, 0.0168, 0.029, 0.0167, 0.0283] 12\n"
          ]
        }
      ],
      "execution_count": 18,
      "metadata": {
        "collapsed": true,
        "jupyter": {
          "source_hidden": false,
          "outputs_hidden": false
        },
        "nteract": {
          "transient": {
            "deleting": false
          }
        },
        "execution": {
          "iopub.status.busy": "2020-12-03T17:55:05.078Z",
          "iopub.execute_input": "2020-12-03T17:55:05.087Z",
          "iopub.status.idle": "2020-12-03T17:55:05.107Z",
          "shell.execute_reply": "2020-12-03T17:55:05.116Z"
        }
      }
    },
    {
      "cell_type": "code",
      "source": [
        "# df_dict_keys = list(df_dict.keys())\n",
        "df = pd.DataFrame(df_dict, columns = df_dict_keys)\n",
        "\n",
        "# print(df)\n",
        "# print(df[['pe', 'cubeside', 'mpi', 'elapsed', 'openmp', 'steps', 'MomentumEnergyIAD']])"
      ],
      "outputs": [],
      "execution_count": 19,
      "metadata": {
        "collapsed": true,
        "jupyter": {
          "source_hidden": false,
          "outputs_hidden": false
        },
        "nteract": {
          "transient": {
            "deleting": false
          }
        },
        "execution": {
          "iopub.status.busy": "2020-12-03T17:55:21.674Z",
          "iopub.execute_input": "2020-12-03T17:55:21.683Z",
          "iopub.status.idle": "2020-12-03T17:55:21.698Z",
          "shell.execute_reply": "2020-12-03T17:55:21.707Z"
        }
      }
    },
    {
      "cell_type": "code",
      "source": [
        "df"
      ],
      "outputs": [
        {
          "output_type": "execute_result",
          "execution_count": 20,
          "data": {
            "text/plain": "     mpi  openmp  cubeside  steps gitcommit           pe  elapsed  \\\n0    128       1       337      1         #  PrgEnv-cray  16.1715   \n1    128       1       337      1         #   PrgEnv-gnu  16.3373   \n2    256       1       425      1         #  PrgEnv-cray  14.9308   \n3    256       1       425      1         #   PrgEnv-gnu  12.0362   \n4    512       1       535      1         #  PrgEnv-cray  14.1303   \n5    512       1       535      1         #   PrgEnv-gnu  14.4361   \n6   1024       1       674      1         #  PrgEnv-cray  33.9516   \n7   1024       1       674      1         #   PrgEnv-gnu  38.4329   \n8   2048       1       850      1         #  PrgEnv-cray  14.5999   \n9   2048       1       850      1         #   PrgEnv-gnu  15.9600   \n10  4096       1      1071      1         #  PrgEnv-cray  14.8298   \n11  4096       1      1071      1         #   PrgEnv-gnu  17.1206   \n\n    domain_distribute  mpi_synchronizeHalos  BuildTree  FindNeighbors  \\\n0              1.8714                3.3253     1.6066         1.9186   \n1              1.9283                3.8641     1.7092         2.0483   \n2              1.4034                2.7649     0.9473         2.1850   \n3              1.5061                2.0507     0.7788         2.0304   \n4              1.6156                2.6276     1.0199         2.0511   \n5              1.6715                2.6799     1.1392         2.0136   \n6              2.2434               15.9932     1.7528         2.0081   \n7              2.4006               17.5557     1.8215         1.9295   \n8              1.9413                1.9765     1.3057         2.2450   \n9              1.9928                2.2663     1.2487         2.1839   \n10             2.1912                2.6392     1.5724         2.2880   \n11             2.1398                2.5217     1.7507         2.2624   \n\n    Density  EquationOfState     IAD  MomentumEnergyIAD  Timestep  \\\n0    0.6600           0.0041  1.0703             2.3983    3.2097   \n1    0.8605           0.0043  1.3873             3.1241    1.2823   \n2    0.7384           0.0045  1.1916             2.7541    2.8384   \n3    0.8550           0.0043  1.2784             3.0669    0.3422   \n4    0.7047           0.0042  1.1040             2.5508    2.3292   \n5    0.8374           0.0043  1.2930             2.9718    1.6773   \n6    0.6838           0.0048  1.0253             2.2600    7.7756   \n7    0.7954           0.0041  1.1776             2.7180    9.7847   \n8    0.6971           0.0042  1.1410             2.6522    2.5155   \n9    0.8024           0.0043  1.2932             2.9770    3.0417   \n10   0.6899           0.0046  1.1744             2.6909    1.4070   \n11   0.8249           0.0044  1.3829             3.1863    2.8961   \n\n    UpdateQuantities  EnergyConservation  SmoothingLength  \n0             0.0640              0.0178           0.0162  \n1             0.0634              0.0193           0.0305  \n2             0.0654              0.0139           0.0181  \n3             0.0656              0.0137           0.0347  \n4             0.0654              0.0332           0.0161  \n5             0.0649              0.0433           0.0275  \n6             0.0639              0.0698           0.0161  \n7             0.0636              0.0587           0.0268  \n8             0.0663              0.0289           0.0168  \n9             0.0662              0.0392           0.0290  \n10            0.0635              0.0866           0.0167  \n11            0.0652              0.0450           0.0283  ",
            "text/html": "<div>\n<style scoped>\n    .dataframe tbody tr th:only-of-type {\n        vertical-align: middle;\n    }\n\n    .dataframe tbody tr th {\n        vertical-align: top;\n    }\n\n    .dataframe thead th {\n        text-align: right;\n    }\n</style>\n<table border=\"1\" class=\"dataframe\">\n  <thead>\n    <tr style=\"text-align: right;\">\n      <th></th>\n      <th>mpi</th>\n      <th>openmp</th>\n      <th>cubeside</th>\n      <th>steps</th>\n      <th>gitcommit</th>\n      <th>pe</th>\n      <th>elapsed</th>\n      <th>domain_distribute</th>\n      <th>mpi_synchronizeHalos</th>\n      <th>BuildTree</th>\n      <th>FindNeighbors</th>\n      <th>Density</th>\n      <th>EquationOfState</th>\n      <th>IAD</th>\n      <th>MomentumEnergyIAD</th>\n      <th>Timestep</th>\n      <th>UpdateQuantities</th>\n      <th>EnergyConservation</th>\n      <th>SmoothingLength</th>\n    </tr>\n  </thead>\n  <tbody>\n    <tr>\n      <th>0</th>\n      <td>128</td>\n      <td>1</td>\n      <td>337</td>\n      <td>1</td>\n      <td>#</td>\n      <td>PrgEnv-cray</td>\n      <td>16.1715</td>\n      <td>1.8714</td>\n      <td>3.3253</td>\n      <td>1.6066</td>\n      <td>1.9186</td>\n      <td>0.6600</td>\n      <td>0.0041</td>\n      <td>1.0703</td>\n      <td>2.3983</td>\n      <td>3.2097</td>\n      <td>0.0640</td>\n      <td>0.0178</td>\n      <td>0.0162</td>\n    </tr>\n    <tr>\n      <th>1</th>\n      <td>128</td>\n      <td>1</td>\n      <td>337</td>\n      <td>1</td>\n      <td>#</td>\n      <td>PrgEnv-gnu</td>\n      <td>16.3373</td>\n      <td>1.9283</td>\n      <td>3.8641</td>\n      <td>1.7092</td>\n      <td>2.0483</td>\n      <td>0.8605</td>\n      <td>0.0043</td>\n      <td>1.3873</td>\n      <td>3.1241</td>\n      <td>1.2823</td>\n      <td>0.0634</td>\n      <td>0.0193</td>\n      <td>0.0305</td>\n    </tr>\n    <tr>\n      <th>2</th>\n      <td>256</td>\n      <td>1</td>\n      <td>425</td>\n      <td>1</td>\n      <td>#</td>\n      <td>PrgEnv-cray</td>\n      <td>14.9308</td>\n      <td>1.4034</td>\n      <td>2.7649</td>\n      <td>0.9473</td>\n      <td>2.1850</td>\n      <td>0.7384</td>\n      <td>0.0045</td>\n      <td>1.1916</td>\n      <td>2.7541</td>\n      <td>2.8384</td>\n      <td>0.0654</td>\n      <td>0.0139</td>\n      <td>0.0181</td>\n    </tr>\n    <tr>\n      <th>3</th>\n      <td>256</td>\n      <td>1</td>\n      <td>425</td>\n      <td>1</td>\n      <td>#</td>\n      <td>PrgEnv-gnu</td>\n      <td>12.0362</td>\n      <td>1.5061</td>\n      <td>2.0507</td>\n      <td>0.7788</td>\n      <td>2.0304</td>\n      <td>0.8550</td>\n      <td>0.0043</td>\n      <td>1.2784</td>\n      <td>3.0669</td>\n      <td>0.3422</td>\n      <td>0.0656</td>\n      <td>0.0137</td>\n      <td>0.0347</td>\n    </tr>\n    <tr>\n      <th>4</th>\n      <td>512</td>\n      <td>1</td>\n      <td>535</td>\n      <td>1</td>\n      <td>#</td>\n      <td>PrgEnv-cray</td>\n      <td>14.1303</td>\n      <td>1.6156</td>\n      <td>2.6276</td>\n      <td>1.0199</td>\n      <td>2.0511</td>\n      <td>0.7047</td>\n      <td>0.0042</td>\n      <td>1.1040</td>\n      <td>2.5508</td>\n      <td>2.3292</td>\n      <td>0.0654</td>\n      <td>0.0332</td>\n      <td>0.0161</td>\n    </tr>\n    <tr>\n      <th>5</th>\n      <td>512</td>\n      <td>1</td>\n      <td>535</td>\n      <td>1</td>\n      <td>#</td>\n      <td>PrgEnv-gnu</td>\n      <td>14.4361</td>\n      <td>1.6715</td>\n      <td>2.6799</td>\n      <td>1.1392</td>\n      <td>2.0136</td>\n      <td>0.8374</td>\n      <td>0.0043</td>\n      <td>1.2930</td>\n      <td>2.9718</td>\n      <td>1.6773</td>\n      <td>0.0649</td>\n      <td>0.0433</td>\n      <td>0.0275</td>\n    </tr>\n    <tr>\n      <th>6</th>\n      <td>1024</td>\n      <td>1</td>\n      <td>674</td>\n      <td>1</td>\n      <td>#</td>\n      <td>PrgEnv-cray</td>\n      <td>33.9516</td>\n      <td>2.2434</td>\n      <td>15.9932</td>\n      <td>1.7528</td>\n      <td>2.0081</td>\n      <td>0.6838</td>\n      <td>0.0048</td>\n      <td>1.0253</td>\n      <td>2.2600</td>\n      <td>7.7756</td>\n      <td>0.0639</td>\n      <td>0.0698</td>\n      <td>0.0161</td>\n    </tr>\n    <tr>\n      <th>7</th>\n      <td>1024</td>\n      <td>1</td>\n      <td>674</td>\n      <td>1</td>\n      <td>#</td>\n      <td>PrgEnv-gnu</td>\n      <td>38.4329</td>\n      <td>2.4006</td>\n      <td>17.5557</td>\n      <td>1.8215</td>\n      <td>1.9295</td>\n      <td>0.7954</td>\n      <td>0.0041</td>\n      <td>1.1776</td>\n      <td>2.7180</td>\n      <td>9.7847</td>\n      <td>0.0636</td>\n      <td>0.0587</td>\n      <td>0.0268</td>\n    </tr>\n    <tr>\n      <th>8</th>\n      <td>2048</td>\n      <td>1</td>\n      <td>850</td>\n      <td>1</td>\n      <td>#</td>\n      <td>PrgEnv-cray</td>\n      <td>14.5999</td>\n      <td>1.9413</td>\n      <td>1.9765</td>\n      <td>1.3057</td>\n      <td>2.2450</td>\n      <td>0.6971</td>\n      <td>0.0042</td>\n      <td>1.1410</td>\n      <td>2.6522</td>\n      <td>2.5155</td>\n      <td>0.0663</td>\n      <td>0.0289</td>\n      <td>0.0168</td>\n    </tr>\n    <tr>\n      <th>9</th>\n      <td>2048</td>\n      <td>1</td>\n      <td>850</td>\n      <td>1</td>\n      <td>#</td>\n      <td>PrgEnv-gnu</td>\n      <td>15.9600</td>\n      <td>1.9928</td>\n      <td>2.2663</td>\n      <td>1.2487</td>\n      <td>2.1839</td>\n      <td>0.8024</td>\n      <td>0.0043</td>\n      <td>1.2932</td>\n      <td>2.9770</td>\n      <td>3.0417</td>\n      <td>0.0662</td>\n      <td>0.0392</td>\n      <td>0.0290</td>\n    </tr>\n    <tr>\n      <th>10</th>\n      <td>4096</td>\n      <td>1</td>\n      <td>1071</td>\n      <td>1</td>\n      <td>#</td>\n      <td>PrgEnv-cray</td>\n      <td>14.8298</td>\n      <td>2.1912</td>\n      <td>2.6392</td>\n      <td>1.5724</td>\n      <td>2.2880</td>\n      <td>0.6899</td>\n      <td>0.0046</td>\n      <td>1.1744</td>\n      <td>2.6909</td>\n      <td>1.4070</td>\n      <td>0.0635</td>\n      <td>0.0866</td>\n      <td>0.0167</td>\n    </tr>\n    <tr>\n      <th>11</th>\n      <td>4096</td>\n      <td>1</td>\n      <td>1071</td>\n      <td>1</td>\n      <td>#</td>\n      <td>PrgEnv-gnu</td>\n      <td>17.1206</td>\n      <td>2.1398</td>\n      <td>2.5217</td>\n      <td>1.7507</td>\n      <td>2.2624</td>\n      <td>0.8249</td>\n      <td>0.0044</td>\n      <td>1.3829</td>\n      <td>3.1863</td>\n      <td>2.8961</td>\n      <td>0.0652</td>\n      <td>0.0450</td>\n      <td>0.0283</td>\n    </tr>\n  </tbody>\n</table>\n</div>"
          },
          "metadata": {}
        }
      ],
      "execution_count": 20,
      "metadata": {
        "collapsed": true,
        "jupyter": {
          "source_hidden": false,
          "outputs_hidden": false
        },
        "nteract": {
          "transient": {
            "deleting": false
          }
        },
        "execution": {
          "iopub.status.busy": "2020-12-03T17:55:23.902Z",
          "iopub.execute_input": "2020-12-03T17:55:23.910Z",
          "iopub.status.idle": "2020-12-03T17:55:23.931Z",
          "shell.execute_reply": "2020-12-03T17:55:23.939Z"
        }
      }
    },
    {
      "cell_type": "code",
      "source": [
        "# PE = 'PrgEnv-cray'\n",
        "PE = 'PrgEnv-gnu'\n",
        "df[df['pe'].isin([PE])]  # [::3]\n",
        "                                 "
      ],
      "outputs": [
        {
          "output_type": "execute_result",
          "execution_count": 22,
          "data": {
            "text/plain": "     mpi  openmp  cubeside  steps gitcommit          pe  elapsed  \\\n1    128       1       337      1         #  PrgEnv-gnu  16.3373   \n3    256       1       425      1         #  PrgEnv-gnu  12.0362   \n5    512       1       535      1         #  PrgEnv-gnu  14.4361   \n7   1024       1       674      1         #  PrgEnv-gnu  38.4329   \n9   2048       1       850      1         #  PrgEnv-gnu  15.9600   \n11  4096       1      1071      1         #  PrgEnv-gnu  17.1206   \n\n    domain_distribute  mpi_synchronizeHalos  BuildTree  FindNeighbors  \\\n1              1.9283                3.8641     1.7092         2.0483   \n3              1.5061                2.0507     0.7788         2.0304   \n5              1.6715                2.6799     1.1392         2.0136   \n7              2.4006               17.5557     1.8215         1.9295   \n9              1.9928                2.2663     1.2487         2.1839   \n11             2.1398                2.5217     1.7507         2.2624   \n\n    Density  EquationOfState     IAD  MomentumEnergyIAD  Timestep  \\\n1    0.8605           0.0043  1.3873             3.1241    1.2823   \n3    0.8550           0.0043  1.2784             3.0669    0.3422   \n5    0.8374           0.0043  1.2930             2.9718    1.6773   \n7    0.7954           0.0041  1.1776             2.7180    9.7847   \n9    0.8024           0.0043  1.2932             2.9770    3.0417   \n11   0.8249           0.0044  1.3829             3.1863    2.8961   \n\n    UpdateQuantities  EnergyConservation  SmoothingLength  \n1             0.0634              0.0193           0.0305  \n3             0.0656              0.0137           0.0347  \n5             0.0649              0.0433           0.0275  \n7             0.0636              0.0587           0.0268  \n9             0.0662              0.0392           0.0290  \n11            0.0652              0.0450           0.0283  ",
            "text/html": "<div>\n<style scoped>\n    .dataframe tbody tr th:only-of-type {\n        vertical-align: middle;\n    }\n\n    .dataframe tbody tr th {\n        vertical-align: top;\n    }\n\n    .dataframe thead th {\n        text-align: right;\n    }\n</style>\n<table border=\"1\" class=\"dataframe\">\n  <thead>\n    <tr style=\"text-align: right;\">\n      <th></th>\n      <th>mpi</th>\n      <th>openmp</th>\n      <th>cubeside</th>\n      <th>steps</th>\n      <th>gitcommit</th>\n      <th>pe</th>\n      <th>elapsed</th>\n      <th>domain_distribute</th>\n      <th>mpi_synchronizeHalos</th>\n      <th>BuildTree</th>\n      <th>FindNeighbors</th>\n      <th>Density</th>\n      <th>EquationOfState</th>\n      <th>IAD</th>\n      <th>MomentumEnergyIAD</th>\n      <th>Timestep</th>\n      <th>UpdateQuantities</th>\n      <th>EnergyConservation</th>\n      <th>SmoothingLength</th>\n    </tr>\n  </thead>\n  <tbody>\n    <tr>\n      <th>1</th>\n      <td>128</td>\n      <td>1</td>\n      <td>337</td>\n      <td>1</td>\n      <td>#</td>\n      <td>PrgEnv-gnu</td>\n      <td>16.3373</td>\n      <td>1.9283</td>\n      <td>3.8641</td>\n      <td>1.7092</td>\n      <td>2.0483</td>\n      <td>0.8605</td>\n      <td>0.0043</td>\n      <td>1.3873</td>\n      <td>3.1241</td>\n      <td>1.2823</td>\n      <td>0.0634</td>\n      <td>0.0193</td>\n      <td>0.0305</td>\n    </tr>\n    <tr>\n      <th>3</th>\n      <td>256</td>\n      <td>1</td>\n      <td>425</td>\n      <td>1</td>\n      <td>#</td>\n      <td>PrgEnv-gnu</td>\n      <td>12.0362</td>\n      <td>1.5061</td>\n      <td>2.0507</td>\n      <td>0.7788</td>\n      <td>2.0304</td>\n      <td>0.8550</td>\n      <td>0.0043</td>\n      <td>1.2784</td>\n      <td>3.0669</td>\n      <td>0.3422</td>\n      <td>0.0656</td>\n      <td>0.0137</td>\n      <td>0.0347</td>\n    </tr>\n    <tr>\n      <th>5</th>\n      <td>512</td>\n      <td>1</td>\n      <td>535</td>\n      <td>1</td>\n      <td>#</td>\n      <td>PrgEnv-gnu</td>\n      <td>14.4361</td>\n      <td>1.6715</td>\n      <td>2.6799</td>\n      <td>1.1392</td>\n      <td>2.0136</td>\n      <td>0.8374</td>\n      <td>0.0043</td>\n      <td>1.2930</td>\n      <td>2.9718</td>\n      <td>1.6773</td>\n      <td>0.0649</td>\n      <td>0.0433</td>\n      <td>0.0275</td>\n    </tr>\n    <tr>\n      <th>7</th>\n      <td>1024</td>\n      <td>1</td>\n      <td>674</td>\n      <td>1</td>\n      <td>#</td>\n      <td>PrgEnv-gnu</td>\n      <td>38.4329</td>\n      <td>2.4006</td>\n      <td>17.5557</td>\n      <td>1.8215</td>\n      <td>1.9295</td>\n      <td>0.7954</td>\n      <td>0.0041</td>\n      <td>1.1776</td>\n      <td>2.7180</td>\n      <td>9.7847</td>\n      <td>0.0636</td>\n      <td>0.0587</td>\n      <td>0.0268</td>\n    </tr>\n    <tr>\n      <th>9</th>\n      <td>2048</td>\n      <td>1</td>\n      <td>850</td>\n      <td>1</td>\n      <td>#</td>\n      <td>PrgEnv-gnu</td>\n      <td>15.9600</td>\n      <td>1.9928</td>\n      <td>2.2663</td>\n      <td>1.2487</td>\n      <td>2.1839</td>\n      <td>0.8024</td>\n      <td>0.0043</td>\n      <td>1.2932</td>\n      <td>2.9770</td>\n      <td>3.0417</td>\n      <td>0.0662</td>\n      <td>0.0392</td>\n      <td>0.0290</td>\n    </tr>\n    <tr>\n      <th>11</th>\n      <td>4096</td>\n      <td>1</td>\n      <td>1071</td>\n      <td>1</td>\n      <td>#</td>\n      <td>PrgEnv-gnu</td>\n      <td>17.1206</td>\n      <td>2.1398</td>\n      <td>2.5217</td>\n      <td>1.7507</td>\n      <td>2.2624</td>\n      <td>0.8249</td>\n      <td>0.0044</td>\n      <td>1.3829</td>\n      <td>3.1863</td>\n      <td>2.8961</td>\n      <td>0.0652</td>\n      <td>0.0450</td>\n      <td>0.0283</td>\n    </tr>\n  </tbody>\n</table>\n</div>"
          },
          "metadata": {}
        }
      ],
      "execution_count": 22,
      "metadata": {
        "collapsed": true,
        "jupyter": {
          "source_hidden": false,
          "outputs_hidden": false
        },
        "nteract": {
          "transient": {
            "deleting": false
          }
        },
        "execution": {
          "iopub.status.busy": "2020-12-03T17:56:01.293Z",
          "iopub.execute_input": "2020-12-03T17:56:01.303Z",
          "iopub.status.idle": "2020-12-03T17:56:01.327Z",
          "shell.execute_reply": "2020-12-03T17:56:01.336Z"
        }
      }
    },
    {
      "cell_type": "code",
      "source": [
        "# prepare data for plot\n",
        "tmpdf1 = df[df['pe'].isin([PE])] # [::3]  # np/c = 1e5\n",
        "# tmpdf1\n",
        "\n",
        "sph_regions_l = ['domain_distribute', 'mpi_synchronizeHalos', 'BuildTree', 'FindNeighbors', 'Density', 'EquationOfState', 'IAD', 'MomentumEnergyIAD', 'Timestep', 'UpdateQuantities', 'EnergyConservation', 'SmoothingLength']\n",
        "sph_regions = ['mpi'] ;sph_regions.extend(sph_regions_l)\n",
        "tmpdf3 = tmpdf1[sph_regions]\n",
        "tmpdf3\n",
        "# tmpdf2.plot.area(stacked=True).legend(loc='center left',bbox_to_anchor=(1.0, 0.5));\n",
        "\n"
      ],
      "outputs": [
        {
          "output_type": "execute_result",
          "execution_count": 23,
          "data": {
            "text/plain": "     mpi  domain_distribute  mpi_synchronizeHalos  BuildTree  FindNeighbors  \\\n1    128             1.9283                3.8641     1.7092         2.0483   \n3    256             1.5061                2.0507     0.7788         2.0304   \n5    512             1.6715                2.6799     1.1392         2.0136   \n7   1024             2.4006               17.5557     1.8215         1.9295   \n9   2048             1.9928                2.2663     1.2487         2.1839   \n11  4096             2.1398                2.5217     1.7507         2.2624   \n\n    Density  EquationOfState     IAD  MomentumEnergyIAD  Timestep  \\\n1    0.8605           0.0043  1.3873             3.1241    1.2823   \n3    0.8550           0.0043  1.2784             3.0669    0.3422   \n5    0.8374           0.0043  1.2930             2.9718    1.6773   \n7    0.7954           0.0041  1.1776             2.7180    9.7847   \n9    0.8024           0.0043  1.2932             2.9770    3.0417   \n11   0.8249           0.0044  1.3829             3.1863    2.8961   \n\n    UpdateQuantities  EnergyConservation  SmoothingLength  \n1             0.0634              0.0193           0.0305  \n3             0.0656              0.0137           0.0347  \n5             0.0649              0.0433           0.0275  \n7             0.0636              0.0587           0.0268  \n9             0.0662              0.0392           0.0290  \n11            0.0652              0.0450           0.0283  ",
            "text/html": "<div>\n<style scoped>\n    .dataframe tbody tr th:only-of-type {\n        vertical-align: middle;\n    }\n\n    .dataframe tbody tr th {\n        vertical-align: top;\n    }\n\n    .dataframe thead th {\n        text-align: right;\n    }\n</style>\n<table border=\"1\" class=\"dataframe\">\n  <thead>\n    <tr style=\"text-align: right;\">\n      <th></th>\n      <th>mpi</th>\n      <th>domain_distribute</th>\n      <th>mpi_synchronizeHalos</th>\n      <th>BuildTree</th>\n      <th>FindNeighbors</th>\n      <th>Density</th>\n      <th>EquationOfState</th>\n      <th>IAD</th>\n      <th>MomentumEnergyIAD</th>\n      <th>Timestep</th>\n      <th>UpdateQuantities</th>\n      <th>EnergyConservation</th>\n      <th>SmoothingLength</th>\n    </tr>\n  </thead>\n  <tbody>\n    <tr>\n      <th>1</th>\n      <td>128</td>\n      <td>1.9283</td>\n      <td>3.8641</td>\n      <td>1.7092</td>\n      <td>2.0483</td>\n      <td>0.8605</td>\n      <td>0.0043</td>\n      <td>1.3873</td>\n      <td>3.1241</td>\n      <td>1.2823</td>\n      <td>0.0634</td>\n      <td>0.0193</td>\n      <td>0.0305</td>\n    </tr>\n    <tr>\n      <th>3</th>\n      <td>256</td>\n      <td>1.5061</td>\n      <td>2.0507</td>\n      <td>0.7788</td>\n      <td>2.0304</td>\n      <td>0.8550</td>\n      <td>0.0043</td>\n      <td>1.2784</td>\n      <td>3.0669</td>\n      <td>0.3422</td>\n      <td>0.0656</td>\n      <td>0.0137</td>\n      <td>0.0347</td>\n    </tr>\n    <tr>\n      <th>5</th>\n      <td>512</td>\n      <td>1.6715</td>\n      <td>2.6799</td>\n      <td>1.1392</td>\n      <td>2.0136</td>\n      <td>0.8374</td>\n      <td>0.0043</td>\n      <td>1.2930</td>\n      <td>2.9718</td>\n      <td>1.6773</td>\n      <td>0.0649</td>\n      <td>0.0433</td>\n      <td>0.0275</td>\n    </tr>\n    <tr>\n      <th>7</th>\n      <td>1024</td>\n      <td>2.4006</td>\n      <td>17.5557</td>\n      <td>1.8215</td>\n      <td>1.9295</td>\n      <td>0.7954</td>\n      <td>0.0041</td>\n      <td>1.1776</td>\n      <td>2.7180</td>\n      <td>9.7847</td>\n      <td>0.0636</td>\n      <td>0.0587</td>\n      <td>0.0268</td>\n    </tr>\n    <tr>\n      <th>9</th>\n      <td>2048</td>\n      <td>1.9928</td>\n      <td>2.2663</td>\n      <td>1.2487</td>\n      <td>2.1839</td>\n      <td>0.8024</td>\n      <td>0.0043</td>\n      <td>1.2932</td>\n      <td>2.9770</td>\n      <td>3.0417</td>\n      <td>0.0662</td>\n      <td>0.0392</td>\n      <td>0.0290</td>\n    </tr>\n    <tr>\n      <th>11</th>\n      <td>4096</td>\n      <td>2.1398</td>\n      <td>2.5217</td>\n      <td>1.7507</td>\n      <td>2.2624</td>\n      <td>0.8249</td>\n      <td>0.0044</td>\n      <td>1.3829</td>\n      <td>3.1863</td>\n      <td>2.8961</td>\n      <td>0.0652</td>\n      <td>0.0450</td>\n      <td>0.0283</td>\n    </tr>\n  </tbody>\n</table>\n</div>"
          },
          "metadata": {}
        }
      ],
      "execution_count": 23,
      "metadata": {
        "collapsed": true,
        "jupyter": {
          "source_hidden": false,
          "outputs_hidden": false
        },
        "nteract": {
          "transient": {
            "deleting": false
          }
        },
        "execution": {
          "iopub.status.busy": "2020-12-03T17:56:50.554Z",
          "iopub.execute_input": "2020-12-03T17:56:50.564Z",
          "iopub.status.idle": "2020-12-03T17:56:50.588Z",
          "shell.execute_reply": "2020-12-03T17:56:50.598Z"
        }
      }
    },
    {
      "cell_type": "code",
      "source": [
        "np_per_c = '3e5'\n",
        "PE = 'PrgEnv-cray'\n",
        "# MPI\n",
        "# tmpdf_cce = df[df['pe'].isin(['PrgEnv-gnu'])][::3]  # np/c = 1e5\n",
        "# tmpdf_cce = df[df['pe'].isin(['PrgEnv-gnu'])][1::3]  # np/c = 2e5\n",
        "# tmpdf_cce = df[df['pe'].isin(['PrgEnv-gnu'])][2::3]  # np/c = 3e5\n",
        "tmpdf_compiler1 = df[df['pe'].isin([PE])]\n",
        "tmpdf_compiler1_mpi = tmpdf_compiler1['mpi']\n",
        "tmpdf_compiler1_mpi"
      ],
      "outputs": [
        {
          "output_type": "execute_result",
          "execution_count": 34,
          "data": {
            "text/plain": "0      128\n2      256\n4      512\n6     1024\n8     2048\n10    4096\nName: mpi, dtype: int64"
          },
          "metadata": {}
        }
      ],
      "execution_count": 34,
      "metadata": {
        "collapsed": true,
        "jupyter": {
          "source_hidden": false,
          "outputs_hidden": false
        },
        "nteract": {
          "transient": {
            "deleting": false
          }
        },
        "execution": {
          "iopub.status.busy": "2020-12-03T18:05:36.127Z",
          "iopub.execute_input": "2020-12-03T18:05:36.139Z",
          "iopub.status.idle": "2020-12-03T18:05:36.163Z",
          "shell.execute_reply": "2020-12-03T18:05:36.172Z"
        }
      }
    },
    {
      "cell_type": "code",
      "source": [
        "# SPH calls\n",
        "# tmpdf_cce = df[df['pe'].isin(['PrgEnv-gnu'])][::3]  # np/c = 1e5\n",
        "# tmpdf_cce = df[df['pe'].isin(['PrgEnv-gnu'])][1::3]  # np/c = 2e5\n",
        "# tmpdf_cce = df[df['pe'].isin(['PrgEnv-gnu'])][2::3]  # np/c = 3e5\n",
        "tmpdf_compiler1 = df[df['pe'].isin([PE])]\n",
        "sph_regions_l = ['domain_distribute', 'mpi_synchronizeHalos', 'BuildTree', 'FindNeighbors', 'Density', 'EquationOfState', 'IAD', 'MomentumEnergyIAD', 'Timestep', 'UpdateQuantities', 'EnergyConservation', 'SmoothingLength']\n",
        "tmpdf_compiler1_sph = tmpdf_compiler1[sph_regions_l]\n",
        "tmpdf_compiler1_sph"
      ],
      "outputs": [
        {
          "output_type": "execute_result",
          "execution_count": 35,
          "data": {
            "text/plain": "    domain_distribute  mpi_synchronizeHalos  BuildTree  FindNeighbors  \\\n0              1.8714                3.3253     1.6066         1.9186   \n2              1.4034                2.7649     0.9473         2.1850   \n4              1.6156                2.6276     1.0199         2.0511   \n6              2.2434               15.9932     1.7528         2.0081   \n8              1.9413                1.9765     1.3057         2.2450   \n10             2.1912                2.6392     1.5724         2.2880   \n\n    Density  EquationOfState     IAD  MomentumEnergyIAD  Timestep  \\\n0    0.6600           0.0041  1.0703             2.3983    3.2097   \n2    0.7384           0.0045  1.1916             2.7541    2.8384   \n4    0.7047           0.0042  1.1040             2.5508    2.3292   \n6    0.6838           0.0048  1.0253             2.2600    7.7756   \n8    0.6971           0.0042  1.1410             2.6522    2.5155   \n10   0.6899           0.0046  1.1744             2.6909    1.4070   \n\n    UpdateQuantities  EnergyConservation  SmoothingLength  \n0             0.0640              0.0178           0.0162  \n2             0.0654              0.0139           0.0181  \n4             0.0654              0.0332           0.0161  \n6             0.0639              0.0698           0.0161  \n8             0.0663              0.0289           0.0168  \n10            0.0635              0.0866           0.0167  ",
            "text/html": "<div>\n<style scoped>\n    .dataframe tbody tr th:only-of-type {\n        vertical-align: middle;\n    }\n\n    .dataframe tbody tr th {\n        vertical-align: top;\n    }\n\n    .dataframe thead th {\n        text-align: right;\n    }\n</style>\n<table border=\"1\" class=\"dataframe\">\n  <thead>\n    <tr style=\"text-align: right;\">\n      <th></th>\n      <th>domain_distribute</th>\n      <th>mpi_synchronizeHalos</th>\n      <th>BuildTree</th>\n      <th>FindNeighbors</th>\n      <th>Density</th>\n      <th>EquationOfState</th>\n      <th>IAD</th>\n      <th>MomentumEnergyIAD</th>\n      <th>Timestep</th>\n      <th>UpdateQuantities</th>\n      <th>EnergyConservation</th>\n      <th>SmoothingLength</th>\n    </tr>\n  </thead>\n  <tbody>\n    <tr>\n      <th>0</th>\n      <td>1.8714</td>\n      <td>3.3253</td>\n      <td>1.6066</td>\n      <td>1.9186</td>\n      <td>0.6600</td>\n      <td>0.0041</td>\n      <td>1.0703</td>\n      <td>2.3983</td>\n      <td>3.2097</td>\n      <td>0.0640</td>\n      <td>0.0178</td>\n      <td>0.0162</td>\n    </tr>\n    <tr>\n      <th>2</th>\n      <td>1.4034</td>\n      <td>2.7649</td>\n      <td>0.9473</td>\n      <td>2.1850</td>\n      <td>0.7384</td>\n      <td>0.0045</td>\n      <td>1.1916</td>\n      <td>2.7541</td>\n      <td>2.8384</td>\n      <td>0.0654</td>\n      <td>0.0139</td>\n      <td>0.0181</td>\n    </tr>\n    <tr>\n      <th>4</th>\n      <td>1.6156</td>\n      <td>2.6276</td>\n      <td>1.0199</td>\n      <td>2.0511</td>\n      <td>0.7047</td>\n      <td>0.0042</td>\n      <td>1.1040</td>\n      <td>2.5508</td>\n      <td>2.3292</td>\n      <td>0.0654</td>\n      <td>0.0332</td>\n      <td>0.0161</td>\n    </tr>\n    <tr>\n      <th>6</th>\n      <td>2.2434</td>\n      <td>15.9932</td>\n      <td>1.7528</td>\n      <td>2.0081</td>\n      <td>0.6838</td>\n      <td>0.0048</td>\n      <td>1.0253</td>\n      <td>2.2600</td>\n      <td>7.7756</td>\n      <td>0.0639</td>\n      <td>0.0698</td>\n      <td>0.0161</td>\n    </tr>\n    <tr>\n      <th>8</th>\n      <td>1.9413</td>\n      <td>1.9765</td>\n      <td>1.3057</td>\n      <td>2.2450</td>\n      <td>0.6971</td>\n      <td>0.0042</td>\n      <td>1.1410</td>\n      <td>2.6522</td>\n      <td>2.5155</td>\n      <td>0.0663</td>\n      <td>0.0289</td>\n      <td>0.0168</td>\n    </tr>\n    <tr>\n      <th>10</th>\n      <td>2.1912</td>\n      <td>2.6392</td>\n      <td>1.5724</td>\n      <td>2.2880</td>\n      <td>0.6899</td>\n      <td>0.0046</td>\n      <td>1.1744</td>\n      <td>2.6909</td>\n      <td>1.4070</td>\n      <td>0.0635</td>\n      <td>0.0866</td>\n      <td>0.0167</td>\n    </tr>\n  </tbody>\n</table>\n</div>"
          },
          "metadata": {}
        }
      ],
      "execution_count": 35,
      "metadata": {
        "collapsed": true,
        "jupyter": {
          "source_hidden": false,
          "outputs_hidden": false
        },
        "nteract": {
          "transient": {
            "deleting": false
          }
        },
        "execution": {
          "iopub.status.busy": "2020-12-03T18:05:42.712Z",
          "iopub.execute_input": "2020-12-03T18:05:42.721Z",
          "iopub.status.idle": "2020-12-03T18:05:42.746Z",
          "shell.execute_reply": "2020-12-03T18:05:42.756Z"
        }
      }
    },
    {
      "cell_type": "code",
      "source": [
        "list(tmpdf_compiler1_sph.keys())"
      ],
      "outputs": [
        {
          "output_type": "execute_result",
          "execution_count": 28,
          "data": {
            "text/plain": "['domain_distribute',\n 'mpi_synchronizeHalos',\n 'BuildTree',\n 'FindNeighbors',\n 'Density',\n 'EquationOfState',\n 'IAD',\n 'MomentumEnergyIAD',\n 'Timestep',\n 'UpdateQuantities',\n 'EnergyConservation',\n 'SmoothingLength']"
          },
          "metadata": {}
        }
      ],
      "execution_count": 28,
      "metadata": {
        "collapsed": true,
        "jupyter": {
          "source_hidden": false,
          "outputs_hidden": false
        },
        "nteract": {
          "transient": {
            "deleting": false
          }
        },
        "execution": {
          "iopub.status.busy": "2020-12-03T17:58:40.732Z",
          "iopub.execute_input": "2020-12-03T17:58:40.742Z",
          "iopub.status.idle": "2020-12-03T17:58:40.767Z",
          "shell.execute_reply": "2020-12-03T17:58:40.776Z"
        }
      }
    },
    {
      "cell_type": "code",
      "source": [
        "# matplotlib: area (= stackplot)\n",
        "import matplotlib.pyplot as plt\n",
        "# compute percentages\n",
        "# tmpdf_cce_sph\n",
        "tmpdf_compiler1_sph_pct = tmpdf_compiler1_sph.divide(tmpdf_compiler1_sph.sum(axis=1), axis=0)\n",
        "tmpdf_compiler1_sph_pct *= 100\n",
        "\n",
        "# tmpdf_cce_sph\n",
        "# print(tmpdf3['mpi'])\n",
        "# plt.stackplot(tmpdf3.index,\n",
        "# plt.stackplot(tmpdf_cce_mpi, list(tmpdf_cce_sph), \n",
        "#               labels = ['domain_distribute', 'mpi_synchronizeHalos', 'BuildTree', 'FindNeighbors', 'Density', 'EquationOfState', 'IAD', \n",
        "# 'MomentumEnergyIAD', 'Timestep', 'UpdateQuantities', 'EnergyConservation', 'SmoothingLength'], alpha=0.8)\n",
        "fig, ax = plt.subplots()\n",
        "# ax.set_xticklabels(labels_l)\n",
        "ax.set_xscale('log', base=2)\n",
        "# ax.set_yscale('log', base=2)\n",
        "# ax.set_xlabel(f'# of cores ([{min(tmpdf_cce_mpi)}:{max(tmpdf_cce_mpi)}])')\n",
        "ax.set_xlabel(f'# of cores ({list(tmpdf_compiler1_mpi)})')\n",
        "# ax.set_xticks(tmpdf_cce_mpi) # [128, 256, 512, 1024, 2048, 4096, 8192, 16384, 32768]\n",
        "ax.set_ylabel('Elapsed / %')\n",
        "ax.set_title(f'AMD Eiger Weak scaling (np/c={np_per_c}, {PE}, -s 1)')\n",
        "\n",
        "labels_l = list(tmpdf_compiler1_sph.keys())\n",
        "plt.stackplot(tmpdf_compiler1_mpi,\n",
        "     [tmpdf_compiler1_sph_pct['domain_distribute'],\n",
        "      tmpdf_compiler1_sph_pct['mpi_synchronizeHalos'],\n",
        "      tmpdf_compiler1_sph_pct['BuildTree'],\n",
        "      tmpdf_compiler1_sph_pct['FindNeighbors'],\n",
        "      tmpdf_compiler1_sph_pct['Density'],\n",
        "      tmpdf_compiler1_sph_pct['EquationOfState'],\n",
        "      tmpdf_compiler1_sph_pct['IAD'],\n",
        "      tmpdf_compiler1_sph_pct['MomentumEnergyIAD'],\n",
        "      tmpdf_compiler1_sph_pct['Timestep'],\n",
        "      tmpdf_compiler1_sph_pct['UpdateQuantities'],\n",
        "      tmpdf_compiler1_sph_pct['EnergyConservation'],\n",
        "      tmpdf_compiler1_sph_pct['SmoothingLength'],\n",
        "     ],\n",
        "#     [tmpdf_cce_sph['domain_distribute'],\n",
        "#      tmpdf_cce_sph['mpi_synchronizeHalos'],\n",
        "#      tmpdf_cce_sph['BuildTree'],\n",
        "#      tmpdf_cce_sph['FindNeighbors'],\n",
        "#      tmpdf_cce_sph['Density'],\n",
        "#      tmpdf_cce_sph['EquationOfState'],\n",
        "#      tmpdf_cce_sph['IAD'],\n",
        "#      tmpdf_cce_sph['MomentumEnergyIAD'],\n",
        "#      tmpdf_cce_sph['Timestep'],\n",
        "#      tmpdf_cce_sph['UpdateQuantities'],\n",
        "#      tmpdf_cce_sph['EnergyConservation'],\n",
        "#      tmpdf_cce_sph['SmoothingLength'],\n",
        "#     ],\n",
        "     labels = labels_l,\n",
        "     # labels = ['domain_distribute', 'mpi_synchronizeHalos'],\n",
        "     alpha=0.8)\n",
        "\n",
        "plt.grid()\n",
        "# plt.legend(loc=2, fontsize='large')\n",
        "leg_handles, leg_labels = ax.get_legend_handles_labels()\n",
        "plt.legend(reversed(leg_handles), reversed(leg_labels), bbox_to_anchor=(1.0, 1.0), loc='upper left')\n",
        "# plt.legend(bbox_to_anchor=(1.0, 1.0), loc='upper left')\n",
        "#screenshot instead: plt.savefig('gnu.pdf')\n",
        "plt.show()"
      ],
      "outputs": [
        {
          "output_type": "display_data",
          "data": {
            "text/plain": "<Figure size 432x288 with 1 Axes>",
            "image/png": "[encoded data removed]"
          },
          "metadata": {
            "needs_background": "light"
          }
        }
      ],
      "execution_count": 36,
      "metadata": {
        "collapsed": true,
        "jupyter": {
          "source_hidden": false,
          "outputs_hidden": false
        },
        "nteract": {
          "transient": {
            "deleting": false
          }
        },
        "execution": {
          "iopub.status.busy": "2020-12-03T18:05:48.355Z",
          "iopub.execute_input": "2020-12-03T18:05:48.365Z",
          "iopub.status.idle": "2020-12-03T18:05:48.590Z",
          "shell.execute_reply": "2020-12-03T18:05:48.611Z"
        }
      }
    },
    {
      "cell_type": "markdown",
      "source": [
        "# Cray Perftools (data)"
      ],
      "metadata": {
        "nteract": {
          "transient": {
            "deleting": false
          }
        }
      }
    },
    {
      "cell_type": "code",
      "source": [
        "mpiL = [] ;ompL = [] ;sideL = [] ;stepL = [] ;commitL = [] ;peL = []\n",
        "elapsedL = [] ;user_pctL = [] ;mpi_pctL = [] ;etc_pctL = [] ;\n",
        "\n",
        "for job in range(len(dd)):\n",
        "    name = dd[job]['name'].split('_')\n",
        "    mpiL.append(int(name[3].replace('mpi', '')))\n",
        "    ompL.append(int(name[4].replace('omp', '')))\n",
        "    sideL.append(int(name[5].replace('n', '')))\n",
        "    stepL.append(int(name[6].replace('steps', '')))\n",
        "    commitL.append('#')\n",
        "    pe = dd[job]['environment']\n",
        "    peL.append(pe)\n",
        "    # {'name': '_Elapsed', 'reference': 0, 'thres_lower': None, 'thres_upper': None, 'unit': 's', 'value': 8}\n",
        "    #19 patrun_cn\n",
        "    #22 %patrun_user\n",
        "    #23 %patrun_mpi\n",
        "    #24 %patrun_etc\n",
        "    if dd[job]['outputdir'] is None:\n",
        "        # failed = no perfvars\n",
        "        elapsedL.append(0)\n",
        "        user_pctL.append(0)\n",
        "        mpi_pctL.append(0)\n",
        "        etc_pctL.append(0)\n",
        "    else:        \n",
        "        for metric in range(len(dd[job]['perfvars'])):\n",
        "            if dd[job]['perfvars'][metric]['name'] == 'Elapsed': elapsedL.append(dd[job]['perfvars'][metric]['value'])\n",
        "            if dd[job]['perfvars'][metric]['name'] == '%patrun_user': user_pctL.append(dd[job]['perfvars'][metric]['value'])\n",
        "            if dd[job]['perfvars'][metric]['name'] == '%patrun_mpi': mpi_pctL.append(dd[job]['perfvars'][metric]['value'])\n",
        "            if dd[job]['perfvars'][metric]['name'] == '%patrun_etc': etc_pctL.append(dd[job]['perfvars'][metric]['value'])\n",
        "            # if dd[job]['perfvars'][metric]['name'] == 'SmoothingLength': lL.append(dd[job]['perfvars'][metric]['value'])\n",
        "            \n",
        "df_dict = {'mpi': mpiL, 'openmp': ompL, 'cubeside': sideL, 'steps': stepL,\n",
        "           'gitcommit': commitL, 'pe': peL, 'elapsed': elapsedL,\n",
        "           '%usr': user_pctL, '%mpi': mpi_pctL, '%etc': etc_pctL,\n",
        "           }\n",
        "df_dict_keys = df_dict.keys()\n",
        "print(\"keys=\", df_dict.keys())\n",
        "# df = df.drop(['domain_distribute'], axis=1)\n",
        "df = pd.DataFrame(df_dict, columns = df_dict_keys)\n",
        "print(\"df=\", df)\n",
        "\n",
        "np_per_c = '3e5'\n",
        "PE = 'PrgEnv-cray'\n",
        "tmpdf_compiler1 = df[df['pe'].isin([PE])]\n",
        "tmpdf_compiler1_mpi = tmpdf_compiler1['mpi']\n",
        "print(f'\\ntmpdf={tmpdf_compiler1_mpi}')"
      ],
      "outputs": [
        {
          "output_type": "stream",
          "name": "stdout",
          "text": [
            "keys= dict_keys(['mpi', 'openmp', 'cubeside', 'steps', 'gitcommit', 'pe', 'elapsed', '%usr', '%mpi', '%etc'])\n",
            "df=      mpi  openmp  cubeside  steps gitcommit           pe  elapsed  %usr  %mpi  \\\n",
            "0    128       1       337      1         #  PrgEnv-cray  16.1715  54.4  35.2   \n",
            "1    128       1       337      1         #   PrgEnv-gnu  16.3373  63.0  26.4   \n",
            "2    256       1       425      1         #  PrgEnv-cray  14.9308  56.5  35.2   \n",
            "3    256       1       425      1         #   PrgEnv-gnu  12.0362  74.8  15.2   \n",
            "4    512       1       535      1         #  PrgEnv-cray  14.1303  54.4  36.7   \n",
            "5    512       1       535      1         #   PrgEnv-gnu  14.4361  58.0  33.1   \n",
            "6   1024       1       674      1         #  PrgEnv-cray  33.9516  23.9  71.5   \n",
            "7   1024       1       674      1         #   PrgEnv-gnu  38.4329  24.0  71.9   \n",
            "8   2048       1       850      1         #  PrgEnv-cray  14.5999  40.5  53.5   \n",
            "9   2048       1       850      1         #   PrgEnv-gnu  15.9600  41.7  52.7   \n",
            "10  4096       1      1071      1         #  PrgEnv-cray  14.8298  38.3  56.2   \n",
            "11  4096       1      1071      1         #   PrgEnv-gnu  17.1206  38.3  56.6   \n",
            "\n",
            "    %etc  \n",
            "0   10.4  \n",
            "1   10.6  \n",
            "2    8.4  \n",
            "3   10.1  \n",
            "4    8.9  \n",
            "5    8.9  \n",
            "6    4.6  \n",
            "7    4.2  \n",
            "8    6.0  \n",
            "9    5.6  \n",
            "10   5.5  \n",
            "11   5.1  \n",
            "\n",
            "tmpdf=0      128\n",
            "2      256\n",
            "4      512\n",
            "6     1024\n",
            "8     2048\n",
            "10    4096\n",
            "Name: mpi, dtype: int64\n"
          ]
        }
      ],
      "execution_count": 70,
      "metadata": {
        "collapsed": true,
        "jupyter": {
          "source_hidden": false,
          "outputs_hidden": false
        },
        "nteract": {
          "transient": {
            "deleting": false
          }
        },
        "execution": {
          "iopub.status.busy": "2020-12-03T18:51:13.640Z",
          "iopub.execute_input": "2020-12-03T18:51:13.652Z",
          "iopub.status.idle": "2020-12-03T18:51:13.676Z",
          "shell.execute_reply": "2020-12-03T18:51:13.687Z"
        }
      }
    },
    {
      "cell_type": "code",
      "source": [
        "# PE = 'PrgEnv-cray'\n",
        "PE = 'PrgEnv-gnu'\n",
        "PE"
      ],
      "outputs": [
        {
          "output_type": "execute_result",
          "execution_count": 86,
          "data": {
            "text/plain": "'PrgEnv-gnu'"
          },
          "metadata": {}
        }
      ],
      "execution_count": 86,
      "metadata": {
        "collapsed": true,
        "jupyter": {
          "source_hidden": false,
          "outputs_hidden": false
        },
        "nteract": {
          "transient": {
            "deleting": false
          }
        },
        "execution": {
          "iopub.status.busy": "2020-12-03T19:30:35.628Z",
          "iopub.execute_input": "2020-12-03T19:30:35.642Z",
          "iopub.status.idle": "2020-12-03T19:30:35.670Z",
          "shell.execute_reply": "2020-12-03T19:30:35.683Z"
        }
      }
    },
    {
      "cell_type": "markdown",
      "source": [
        "# Cray Perftools (plot)"
      ],
      "metadata": {
        "nteract": {
          "transient": {
            "deleting": false
          }
        }
      }
    },
    {
      "cell_type": "code",
      "source": [
        "# tmpdf_compiler1_mpi\n",
        "print(f'user={user_pctL} \\nmpi={mpi_pctL} \\nelse={etc_pctL}')\n"
      ],
      "outputs": [
        {
          "output_type": "stream",
          "name": "stdout",
          "text": [
            "user=[54.4, 63.0, 56.5, 74.8, 54.4, 58.0, 23.9, 24.0, 40.5, 41.7, 38.3, 38.3] \n",
            "mpi=[35.2, 26.4, 35.2, 15.2, 36.7, 33.1, 71.5, 71.9, 53.5, 52.7, 56.2, 56.6] \n",
            "else=[10.4, 10.6, 8.4, 10.1, 8.9, 8.9, 4.6, 4.2, 6.0, 5.6, 5.5, 5.1]\n"
          ]
        }
      ],
      "execution_count": 71,
      "metadata": {
        "collapsed": true,
        "jupyter": {
          "source_hidden": false,
          "outputs_hidden": false
        },
        "nteract": {
          "transient": {
            "deleting": false
          }
        },
        "execution": {
          "iopub.status.busy": "2020-12-03T18:51:42.237Z",
          "iopub.execute_input": "2020-12-03T18:51:42.251Z",
          "iopub.status.idle": "2020-12-03T18:51:42.282Z",
          "shell.execute_reply": "2020-12-03T18:51:42.295Z"
        }
      }
    },
    {
      "cell_type": "code",
      "source": [
        "df[df['pe'].isin([PE])]"
      ],
      "outputs": [
        {
          "output_type": "execute_result",
          "execution_count": 87,
          "data": {
            "text/plain": "     mpi  openmp  cubeside  steps gitcommit          pe  elapsed  %usr  %mpi  \\\n1    128       1       337      1         #  PrgEnv-gnu  16.3373  63.0  26.4   \n3    256       1       425      1         #  PrgEnv-gnu  12.0362  74.8  15.2   \n5    512       1       535      1         #  PrgEnv-gnu  14.4361  58.0  33.1   \n7   1024       1       674      1         #  PrgEnv-gnu  38.4329  24.0  71.9   \n9   2048       1       850      1         #  PrgEnv-gnu  15.9600  41.7  52.7   \n11  4096       1      1071      1         #  PrgEnv-gnu  17.1206  38.3  56.6   \n\n    %etc  \n1   10.6  \n3   10.1  \n5    8.9  \n7    4.2  \n9    5.6  \n11   5.1  ",
            "text/html": "<div>\n<style scoped>\n    .dataframe tbody tr th:only-of-type {\n        vertical-align: middle;\n    }\n\n    .dataframe tbody tr th {\n        vertical-align: top;\n    }\n\n    .dataframe thead th {\n        text-align: right;\n    }\n</style>\n<table border=\"1\" class=\"dataframe\">\n  <thead>\n    <tr style=\"text-align: right;\">\n      <th></th>\n      <th>mpi</th>\n      <th>openmp</th>\n      <th>cubeside</th>\n      <th>steps</th>\n      <th>gitcommit</th>\n      <th>pe</th>\n      <th>elapsed</th>\n      <th>%usr</th>\n      <th>%mpi</th>\n      <th>%etc</th>\n    </tr>\n  </thead>\n  <tbody>\n    <tr>\n      <th>1</th>\n      <td>128</td>\n      <td>1</td>\n      <td>337</td>\n      <td>1</td>\n      <td>#</td>\n      <td>PrgEnv-gnu</td>\n      <td>16.3373</td>\n      <td>63.0</td>\n      <td>26.4</td>\n      <td>10.6</td>\n    </tr>\n    <tr>\n      <th>3</th>\n      <td>256</td>\n      <td>1</td>\n      <td>425</td>\n      <td>1</td>\n      <td>#</td>\n      <td>PrgEnv-gnu</td>\n      <td>12.0362</td>\n      <td>74.8</td>\n      <td>15.2</td>\n      <td>10.1</td>\n    </tr>\n    <tr>\n      <th>5</th>\n      <td>512</td>\n      <td>1</td>\n      <td>535</td>\n      <td>1</td>\n      <td>#</td>\n      <td>PrgEnv-gnu</td>\n      <td>14.4361</td>\n      <td>58.0</td>\n      <td>33.1</td>\n      <td>8.9</td>\n    </tr>\n    <tr>\n      <th>7</th>\n      <td>1024</td>\n      <td>1</td>\n      <td>674</td>\n      <td>1</td>\n      <td>#</td>\n      <td>PrgEnv-gnu</td>\n      <td>38.4329</td>\n      <td>24.0</td>\n      <td>71.9</td>\n      <td>4.2</td>\n    </tr>\n    <tr>\n      <th>9</th>\n      <td>2048</td>\n      <td>1</td>\n      <td>850</td>\n      <td>1</td>\n      <td>#</td>\n      <td>PrgEnv-gnu</td>\n      <td>15.9600</td>\n      <td>41.7</td>\n      <td>52.7</td>\n      <td>5.6</td>\n    </tr>\n    <tr>\n      <th>11</th>\n      <td>4096</td>\n      <td>1</td>\n      <td>1071</td>\n      <td>1</td>\n      <td>#</td>\n      <td>PrgEnv-gnu</td>\n      <td>17.1206</td>\n      <td>38.3</td>\n      <td>56.6</td>\n      <td>5.1</td>\n    </tr>\n  </tbody>\n</table>\n</div>"
          },
          "metadata": {}
        }
      ],
      "execution_count": 87,
      "metadata": {
        "collapsed": true,
        "jupyter": {
          "source_hidden": false,
          "outputs_hidden": false
        },
        "nteract": {
          "transient": {
            "deleting": false
          }
        },
        "execution": {
          "iopub.status.busy": "2020-12-03T19:30:44.914Z",
          "iopub.execute_input": "2020-12-03T19:30:44.929Z",
          "iopub.status.idle": "2020-12-03T19:30:44.955Z",
          "shell.execute_reply": "2020-12-03T19:30:44.969Z"
        }
      }
    },
    {
      "cell_type": "code",
      "source": [
        "df[df['pe'].isin([PE])]['mpi']"
      ],
      "outputs": [
        {
          "output_type": "execute_result",
          "execution_count": 88,
          "data": {
            "text/plain": "1      128\n3      256\n5      512\n7     1024\n9     2048\n11    4096\nName: mpi, dtype: int64"
          },
          "metadata": {}
        }
      ],
      "execution_count": 88,
      "metadata": {
        "collapsed": true,
        "jupyter": {
          "source_hidden": false,
          "outputs_hidden": false
        },
        "nteract": {
          "transient": {
            "deleting": false
          }
        },
        "execution": {
          "iopub.status.busy": "2020-12-03T19:30:48.909Z",
          "iopub.execute_input": "2020-12-03T19:30:48.922Z",
          "iopub.status.idle": "2020-12-03T19:30:48.951Z",
          "shell.execute_reply": "2020-12-03T19:30:48.964Z"
        }
      }
    },
    {
      "cell_type": "code",
      "source": [
        "# tmpdf_compiler1_mpi\n",
        "user_pctL[::2]"
      ],
      "outputs": [
        {
          "output_type": "execute_result",
          "execution_count": 89,
          "data": {
            "text/plain": "[54.4, 56.5, 54.4, 23.9, 40.5, 38.3]"
          },
          "metadata": {}
        }
      ],
      "execution_count": 89,
      "metadata": {
        "collapsed": true,
        "jupyter": {
          "source_hidden": false,
          "outputs_hidden": false
        },
        "nteract": {
          "transient": {
            "deleting": false
          }
        },
        "execution": {
          "iopub.status.busy": "2020-12-03T19:30:52.245Z",
          "iopub.execute_input": "2020-12-03T19:30:52.256Z",
          "iopub.status.idle": "2020-12-03T19:30:52.280Z",
          "shell.execute_reply": "2020-12-03T19:30:52.291Z"
        }
      }
    },
    {
      "cell_type": "code",
      "source": [
        "# matplotlib: area (= stackplot)\n",
        "import matplotlib.pyplot as plt\n",
        "\n",
        "tmpdf_mpi = df[df['pe'].isin([PE])]['mpi']\n",
        "fig, ax = plt.subplots()\n",
        "# ax.set_xticklabels(labels_l)\n",
        "ax.set_xscale('log', base=2)\n",
        "# ax.set_yscale('log', base=2)\n",
        "# ax.set_xlabel(f'# of cores ([{min(tmpdf_cce_mpi)}:{max(tmpdf_cce_mpi)}])')\n",
        "mL_round = [ '%.0f' % x for x in user_pctL[::2] ]\n",
        "nL_round = [ '%.0f' % x for x in mpi_pctL[::2] ]\n",
        "etcL_round = [ '%.0f' % x for x in etc_pctL[::2] ]\n",
        "ax.set_xlabel(f'# of cores\\n({list(tmpdf_mpi)})\\n%usr={mL_round}\\n%mpi={nL_round}\\n%etc={etcL_round}')\n",
        "# ax.set_xlabel(f'# of cores ({list(tmpdf_cce_mpi)})')\n",
        "# ax.set_xticks(tmpdf_cce_mpi) # [128, 256, 512, 1024, 2048, 4096, 8192, 16384, 32768]\n",
        "ax.set_ylabel('Elapsed / %')\n",
        "ax.set_title(f'AMD Eiger Weak scaling (np/c={np_per_c}, {PE}, -s 1)')\n",
        "# labels_l = list(tmpdf_cce_sph.keys())\n",
        "# labels_l = ['%scorep_USR', '%scorep_MPI', '%scorep_ETC']\n",
        "labels_l = ['%usr', '%mpi', '%etc']\n",
        "plt.stackplot(tmpdf_compiler1_mpi,\n",
        "     [user_pctL[::2], mpi_pctL[::2], etc_pctL[::2]],\n",
        "     labels = labels_l,\n",
        "     # labels = ['domain_distribute', 'mpi_synchronizeHalos'],\n",
        "     alpha=0.8)\n",
        "\n",
        "plt.grid()\n",
        "# plt.legend(loc=2, fontsize='large')\n",
        "# leg_handles, leg_labels = ax.get_legend_handles_labels()\n",
        "# plt.legend(reversed(leg_handles), reversed(leg_labels), bbox_to_anchor=(1.0, 1.0), loc='upper left')\n",
        "# plt.legend(bbox_to_anchor=(1.0, 1.0), loc='upper left')\n",
        "plt.legend(loc='center')\n",
        "    #best\n",
        "\t#upper right\n",
        "\t#upper left\n",
        "\t#lower left\n",
        "\t#lower right\n",
        "\t#right\n",
        "\t#center left\n",
        "\t#center right\n",
        "\t#lower center\n",
        "\t#upper center\n",
        "\t#center\n",
        "# plt.savefig('mpi.jpg')\n",
        "\n",
        "secaxy = ax.secondary_yaxis('right')\n",
        "secaxy.set_ylabel('Elapsed / %')\n",
        "plt.show()"
      ],
      "outputs": [
        {
          "output_type": "display_data",
          "data": {
            "text/plain": "<Figure size 432x288 with 1 Axes>",
            "image/png": "[encoded data removed]"
          },
          "metadata": {
            "needs_background": "light"
          }
        }
      ],
      "execution_count": 90,
      "metadata": {
        "collapsed": false,
        "jupyter": {
          "source_hidden": false,
          "outputs_hidden": false
        },
        "nteract": {
          "transient": {
            "deleting": false
          }
        },
        "execution": {
          "iopub.status.busy": "2020-12-03T19:30:54.787Z",
          "iopub.execute_input": "2020-12-03T19:30:54.799Z",
          "iopub.status.idle": "2020-12-03T19:30:55.087Z",
          "shell.execute_reply": "2020-12-03T19:30:55.103Z"
        }
      }
    },
    {
      "cell_type": "markdown",
      "source": [
        "# Score-P"
      ],
      "metadata": {
        "nteract": {
          "transient": {
            "deleting": false
          }
        }
      }
    },
    {
      "cell_type": "code",
      "source": [
        "# scorep: 20 %scorep_USR / 21 %scorep_MPI\n",
        "# --> %etc = 100 - %usr - %mpi\n",
        "etcL = []\n",
        "for i in range(len(mL)):\n",
        "  etcL.append(100 - mL[i] - nL[i])\n",
        "\n",
        "print(mL, nL, etcL)"
      ],
      "outputs": [
        {
          "output_type": "stream",
          "name": "stdout",
          "text": [
            "[38.4, 36.9, 28.0, 12.8, 14.8, 14.5, 13.8, 9.7, 9.3, 3.8] [35.0, 39.5, 51.5, 76.2, 72.5, 69.7, 69.2, 76.6, 76.6, 90.0] [26.6, 23.6, 20.5, 11.0, 12.700000000000003, 15.799999999999997, 17.0, 13.700000000000003, 14.100000000000009, 6.200000000000003]\n"
          ]
        }
      ],
      "execution_count": 33,
      "metadata": {
        "collapsed": true,
        "jupyter": {
          "source_hidden": false,
          "outputs_hidden": false
        },
        "nteract": {
          "transient": {
            "deleting": false
          }
        },
        "execution": {
          "iopub.status.busy": "2020-11-19T20:25:13.996Z",
          "iopub.execute_input": "2020-11-19T20:25:14.010Z",
          "iopub.status.idle": "2020-11-19T20:25:14.050Z",
          "shell.execute_reply": "2020-11-19T20:25:14.095Z"
        }
      }
    },
    {
      "cell_type": "code",
      "source": [
        "# matplotlib: area (= stackplot)\n",
        "import matplotlib.pyplot as plt\n",
        "\n",
        "tmpdf_mpi = df[df['pe'].isin([PE])]['mpi']\n",
        "fig, ax = plt.subplots()\n",
        "# ax.set_xticklabels(labels_l)\n",
        "ax.set_xscale('log', base=2)\n",
        "# ax.set_yscale('log', base=2)\n",
        "# ax.set_xlabel(f'# of cores ([{min(tmpdf_cce_mpi)}:{max(tmpdf_cce_mpi)}])')\n",
        "\n",
        "mL_round = [ '%.0f' % x for x in mL ]\n",
        "nL_round = [ '%.0f' % x for x in nL ]\n",
        "etcL_round = [ '%.0f' % x for x in etcL ]\n",
        "ax.set_xlabel(f'# of cores\\n({list(tmpdf_mpi)})\\n%usr={mL_round}\\n%mpi={nL_round}\\n%etc={etcL_round}')\n",
        "# ax.set_xlabel(f'# of cores ({list(tmpdf_cce_mpi)})')\n",
        "\n",
        "# ax.set_xticks(tmpdf_cce_mpi) # [128, 256, 512, 1024, 2048, 4096, 8192, 16384, 32768]\n",
        "ax.set_ylabel('Elapsed / %')\n",
        "ax.set_title(f'AMD Eiger (np/c={np_per_c}, {PE})')\n",
        "\n",
        "# labels_l = list(tmpdf_cce_sph.keys())\n",
        "labels_l = ['%scorep_USR', '%scorep_MPI', '%scorep_ETC']\n",
        "plt.stackplot(tmpdf_cce_mpi,\n",
        "     [mL, nL, etcL],   \n",
        "     labels = labels_l,\n",
        "     # labels = ['domain_distribute', 'mpi_synchronizeHalos'],\n",
        "     alpha=0.8)\n",
        "\n",
        "plt.grid()\n",
        "# plt.legend(loc=2, fontsize='large')\n",
        "# leg_handles, leg_labels = ax.get_legend_handles_labels()\n",
        "# plt.legend(reversed(leg_handles), reversed(leg_labels), bbox_to_anchor=(1.0, 1.0), loc='upper left')\n",
        "# plt.legend(bbox_to_anchor=(1.0, 1.0), loc='upper left')\n",
        "plt.legend(loc='center')\n",
        "    #best\n",
        "\t#upper right\n",
        "\t#upper left\n",
        "\t#lower left\n",
        "\t#lower right\n",
        "\t#right\n",
        "\t#center left\n",
        "\t#center right\n",
        "\t#lower center\n",
        "\t#upper center\n",
        "\t#center\n",
        "plt.savefig('mpi.jpg')\n",
        "plt.show()\n"
      ],
      "outputs": [
        {
          "output_type": "display_data",
          "data": {
            "text/plain": "<Figure size 432x288 with 1 Axes>",
            "image/png": "[encoded data removed]"
          },
          "metadata": {
            "needs_background": "light"
          }
        }
      ],
      "execution_count": 54,
      "metadata": {
        "collapsed": false,
        "jupyter": {
          "source_hidden": false,
          "outputs_hidden": false
        },
        "nteract": {
          "transient": {
            "deleting": false
          }
        },
        "execution": {
          "iopub.status.busy": "2020-11-19T20:46:27.672Z",
          "iopub.execute_input": "2020-11-19T20:46:27.686Z",
          "iopub.status.idle": "2020-11-19T20:46:27.991Z",
          "shell.execute_reply": "2020-11-19T20:46:28.020Z"
        }
      }
    },
    {
      "cell_type": "markdown",
      "source": [
        "# Weak scaling"
      ],
      "metadata": {
        "nteract": {
          "transient": {
            "deleting": false
          }
        }
      }
    },
    {
      "cell_type": "code",
      "source": [
        "# PE = 'PrgEnv-cray'\n",
        "df[df['pe'].isin([PE])][['mpi', 'elapsed']]"
      ],
      "outputs": [
        {
          "output_type": "execute_result",
          "execution_count": 21,
          "data": {
            "text/plain": "    mpi  elapsed\n0   128   8.5476\n1   256   7.5289\n2   512   8.5220\n3  1024  21.7033\n4  2048  13.4176\n5  4096  10.9193\n6  5120  11.2996\n7  6144  17.0042\n8  7168  24.1562\n9  8192  98.4125",
            "text/html": "<div>\n<style scoped>\n    .dataframe tbody tr th:only-of-type {\n        vertical-align: middle;\n    }\n\n    .dataframe tbody tr th {\n        vertical-align: top;\n    }\n\n    .dataframe thead th {\n        text-align: right;\n    }\n</style>\n<table border=\"1\" class=\"dataframe\">\n  <thead>\n    <tr style=\"text-align: right;\">\n      <th></th>\n      <th>mpi</th>\n      <th>elapsed</th>\n    </tr>\n  </thead>\n  <tbody>\n    <tr>\n      <th>0</th>\n      <td>128</td>\n      <td>8.5476</td>\n    </tr>\n    <tr>\n      <th>1</th>\n      <td>256</td>\n      <td>7.5289</td>\n    </tr>\n    <tr>\n      <th>2</th>\n      <td>512</td>\n      <td>8.5220</td>\n    </tr>\n    <tr>\n      <th>3</th>\n      <td>1024</td>\n      <td>21.7033</td>\n    </tr>\n    <tr>\n      <th>4</th>\n      <td>2048</td>\n      <td>13.4176</td>\n    </tr>\n    <tr>\n      <th>5</th>\n      <td>4096</td>\n      <td>10.9193</td>\n    </tr>\n    <tr>\n      <th>6</th>\n      <td>5120</td>\n      <td>11.2996</td>\n    </tr>\n    <tr>\n      <th>7</th>\n      <td>6144</td>\n      <td>17.0042</td>\n    </tr>\n    <tr>\n      <th>8</th>\n      <td>7168</td>\n      <td>24.1562</td>\n    </tr>\n    <tr>\n      <th>9</th>\n      <td>8192</td>\n      <td>98.4125</td>\n    </tr>\n  </tbody>\n</table>\n</div>"
          },
          "metadata": {}
        }
      ],
      "execution_count": 21,
      "metadata": {
        "collapsed": true,
        "jupyter": {
          "source_hidden": false,
          "outputs_hidden": false
        },
        "nteract": {
          "transient": {
            "deleting": false
          }
        },
        "execution": {
          "iopub.status.busy": "2020-11-19T20:02:42.980Z",
          "iopub.execute_input": "2020-11-19T20:02:42.993Z",
          "iopub.status.idle": "2020-11-19T20:02:43.018Z",
          "shell.execute_reply": "2020-11-19T20:02:43.031Z"
        }
      }
    },
    {
      "cell_type": "code",
      "source": [
        "# weak scaling:\n",
        "fig, ax = plt.subplots()\n",
        "# ax.set_xticklabels(labels_l)\n",
        "ax.set_xscale('log', base=2)\n",
        "ax.set_yscale('log', base=2)\n",
        "\n",
        "if False:\n",
        "  np_per_c = '1e5'\n",
        "  tmpdf_mpi = df[df['pe'].isin([PE])][0::3]['mpi']\n",
        "  tmpdf_elapsed = df[df['pe'].isin([PE])][0::3]['elapsed']\n",
        "  ax.plot(tmpdf_mpi, tmpdf_elapsed, 'ro-', label=f'np/c={np_per_c}')\n",
        "\n",
        "  np_per_c = '2e5'\n",
        "  tmpdf_mpi = df[df['pe'].isin([PE])][1::3]['mpi']\n",
        "  tmpdf_elapsed = df[df['pe'].isin([PE])][1::3]['elapsed']\n",
        "  ax.plot(tmpdf_mpi, tmpdf_elapsed, 'bo-', label=f'np/c={np_per_c}')\n",
        "\n",
        "  np_per_c = '3e5'\n",
        "  tmpdf_mpi = df[df['pe'].isin([PE])][2::3]['mpi']\n",
        "  tmpdf_elapsed = df[df['pe'].isin([PE])][2::3]['elapsed']\n",
        "  ax.plot(tmpdf_mpi, tmpdf_elapsed, 'go-', label=f'np/c={np_per_c}')\n",
        "\n",
        "np_per_c = '3e5'\n",
        "tmpdf_mpi = df[df['pe'].isin([PE])]['mpi']\n",
        "tmpdf_elapsed = df[df['pe'].isin([PE])]['elapsed']\n",
        "ax.plot(tmpdf_mpi, tmpdf_elapsed, 'go-', label=f'np/c={np_per_c}')\n",
        "\n",
        "# ax.set_xlabel(f'# of cores ([{min(tmpdf_mpi)}:{max(tmpdf_mpi)}])')\n",
        "tmpdf_elapsed_round = [ '%.1f' % x for x in tmpdf_elapsed ]\n",
        "ax.set_xlabel(f'# of cores\\n({list(tmpdf_mpi)})\\n({list(tmpdf_elapsed_round)})')\n",
        "# ax.set_xticks(tmpdf_mpi) # [128, 256, 512, 1024, 2048, 4096, 8192, 16384, 32768]\n",
        "ax.set_ylabel('Elapsed / s')\n",
        "\n",
        "ax2 = ax.secondary_yaxis('right')\n",
        "# ax2.set_ylabel('Elapsed / s')\n",
        "\n",
        "ax.set_title(f'AMD Eiger ({PE})')\n",
        "plt.grid()\n",
        "# plt.legend(bbox_to_anchor=(1.1, 1.0), loc='upper left')\n",
        "plt.legend(loc='upper left')\n",
        "plt.savefig('weak.jpg')\n",
        "plt.show()"
      ],
      "outputs": [
        {
          "output_type": "display_data",
          "data": {
            "text/plain": "<Figure size 432x288 with 1 Axes>",
            "image/png": "[encoded data removed]"
          },
          "metadata": {
            "needs_background": "light"
          }
        }
      ],
      "execution_count": 48,
      "metadata": {
        "collapsed": true,
        "jupyter": {
          "source_hidden": false,
          "outputs_hidden": false
        },
        "nteract": {
          "transient": {
            "deleting": false
          }
        },
        "execution": {
          "iopub.status.busy": "2020-11-19T20:44:04.548Z",
          "iopub.execute_input": "2020-11-19T20:44:04.563Z",
          "iopub.status.idle": "2020-11-19T20:44:05.021Z",
          "shell.execute_reply": "2020-11-19T20:44:05.046Z"
        }
      }
    },
    {
      "cell_type": "code",
      "source": [
        "tmpdf_mpi"
      ],
      "outputs": [
        {
          "output_type": "execute_result",
          "execution_count": 137,
          "data": {
            "text/plain": "0     128\n1     256\n2     512\n3    1024\n4    2048\n5    4096\n6    5120\n7    6144\n8    7168\n9    8192\nName: mpi, dtype: int64"
          },
          "metadata": {}
        }
      ],
      "execution_count": 137,
      "metadata": {
        "collapsed": true,
        "jupyter": {
          "source_hidden": false,
          "outputs_hidden": false
        },
        "nteract": {
          "transient": {
            "deleting": false
          }
        },
        "execution": {
          "iopub.status.busy": "2020-11-18T11:00:17.789Z",
          "iopub.execute_input": "2020-11-18T11:00:17.805Z",
          "iopub.status.idle": "2020-11-18T11:00:17.835Z",
          "shell.execute_reply": "2020-11-18T11:00:17.848Z"
        }
      }
    },
    {
      "cell_type": "markdown",
      "source": [
        "# SANDBOX"
      ],
      "metadata": {
        "nteract": {
          "transient": {
            "deleting": false
          }
        }
      }
    }
  ],
  "metadata": {
    "kernel_info": {
      "name": "python3"
    },
    "language_info": {
      "name": "python",
      "version": "3.8.5",
      "mimetype": "text/x-python",
      "codemirror_mode": {
        "name": "ipython",
        "version": 3
      },
      "pygments_lexer": "ipython3",
      "nbconvert_exporter": "python",
      "file_extension": ".py"
    },
    "kernelspec": {
      "argv": [
        "python",
        "-m",
        "ipykernel_launcher",
        "-f",
        "{connection_file}"
      ],
      "display_name": "Python 3",
      "language": "python",
      "name": "python3"
    },
    "nteract": {
      "version": "0.26.0"
    }
  },
  "nbformat": 4,
  "nbformat_minor": 0
}