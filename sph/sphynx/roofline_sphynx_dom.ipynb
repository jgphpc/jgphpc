{
 "cells": [
  {
   "cell_type": "code",
   "execution_count": 1,
   "metadata": {},
   "outputs": [],
   "source": [
    "# pyAdvisor.git/advisor/example_scripts/get_arrays_example.py\n",
    "import pylab as pl\n",
    "import advisor"
   ]
  },
  {
   "cell_type": "code",
   "execution_count": 2,
   "metadata": {},
   "outputs": [],
   "source": [
    "# fig = pl.figure(1)\n",
    "# ax = pl.subplot()\n",
    "# roofline(self,fig,ax,x,roofs=None,dram_bandwidth=1,\n",
    "#          mcdram_bandwidth=None,scalar_gflops=2,dp_vect_gflops=4)\n",
    "# pl.show()"
   ]
  },
  {
   "cell_type": "code",
   "execution_count": 3,
   "metadata": {},
   "outputs": [],
   "source": [
    "#fn2 = '../csv_advisor_reports/advixe18_report_dom_sphynx.csv'\n",
    "fn2 = '../csv_advisor_reports/advixe17_report_dom_sphynx.csv'\n",
    "adv2 = advisor.advisor_results(fn2)\n",
    "# adv2.print_keys()\n",
    "\n",
    "# Only show loops from the file:\n",
    "def op1(val_from_loop,val_filter):\n",
    "    return ((val_from_loop) == val_filter)\n",
    "\n",
    "# Only show loops from the file at the corresponding lines:\n",
    "def op2(val_from_loop,val_filter):\n",
    "    return (int(val_from_loop) in val_filter)"
   ]
  },
  {
   "cell_type": "code",
   "execution_count": 5,
   "metadata": {},
   "outputs": [],
   "source": [
    "# --- advisor/2017\n",
    "ai = adv2.get_array('ai',include_children=True,\n",
    "                    filterVal=['calculate_divv.f90'],filterKey=['file'],filterOp=[op1])\n",
    "gflops = adv2.get_array('gflops',include_children=True,\n",
    "                    filterVal=['calculate_divv.f90'],filterKey=['file'],filterOp=[op1])\n",
    "times = adv2.get_array('selftime',include_children=True,\n",
    "                    filterVal=['calculate_divv.f90'],filterKey=['file'],filterOp=[op1])\n",
    "\n",
    "# # --- advisor/2018\n",
    "# ai = adv2.get_array('self arithmetic intensity',include_children=True,\n",
    "#                     filterVal=['calculate_divv.f90'],filterKey=['file'],filterOp=[op1])\n",
    "# gflops = adv2.get_array('self gflop',include_children=True,\n",
    "#                     filterVal=['calculate_divv.f90'],filterKey=['file'],filterOp=[op1])\n",
    "# times = adv2.get_array('self elapsed time',include_children=True,\n",
    "#                     filterVal=['calculate_divv.f90'],filterKey=['file'],filterOp=[op1])\n",
    "\n",
    "# ai = adv2.get_array('ai',include_children=True,\n",
    "#                     filterVal=['charge.F90',[2681,2730,9552]],\n",
    "#                     filterKey=['file'  ,'line'],filterOp=[op1,op2])\n",
    "# gflops = adv2.get_array('gflops',include_children=True,\n",
    "#                     filterVal=['charge.F90',[2681,2730,9552]],\n",
    "#                     filterKey=['file'  ,'line'],filterOp=[op1,op2])\n",
    "# times = adv2.get_array('selftime',include_children=True,\n",
    "#                     filterVal=['charge.F90',[2681,2730,9552]],\n",
    "#                     filterKey=['file'  ,'line'],filterOp=[op1,op2])"
   ]
  },
  {
   "cell_type": "code",
   "execution_count": 6,
   "metadata": {},
   "outputs": [
    {
     "data": {
      "image/png": "[encoded data removed]",
      "text/plain": [
       "<matplotlib.figure.Figure at 0x111866198>"
      ]
     },
     "metadata": {},
     "output_type": "display_data"
    }
   ],
   "source": [
    "fig = pl.figure(1)\n",
    "ax = pl.subplot()\n",
    "scatter = ax.scatter(ai,\n",
    "                     gflops,\n",
    "                     times*400,\n",
    "                     marker='o',\n",
    "                     color='r',\n",
    "                     alpha=0.5,\n",
    "                     label='sphynx/calculate_divv.f90')\n",
    "ax.legend(loc='best')\n",
    "ax.set_xlabel('Arithmetic intensity (flops/byte)')\n",
    "ax.set_ylabel('Performance (gflops/s)')\n",
    "pl.show()"
   ]
  },
  {
   "cell_type": "code",
   "execution_count": 7,
   "metadata": {
    "scrolled": false
   },
   "outputs": [],
   "source": [
    "# adv2.print_keys()"
   ]
  },
  {
   "cell_type": "code",
   "execution_count": null,
   "metadata": {},
   "outputs": [],
   "source": []
  }
 ],
 "metadata": {
  "kernelspec": {
   "display_name": "Python 3",
   "language": "python",
   "name": "python3"
  },
  "language_info": {
   "codemirror_mode": {
    "name": "ipython",
    "version": 3
   },
   "file_extension": ".py",
   "mimetype": "text/x-python",
   "name": "python",
   "nbconvert_exporter": "python",
   "pygments_lexer": "ipython3",
   "version": "3.6.3"
  }
 },
 "nbformat": 4,
 "nbformat_minor": 2
}
