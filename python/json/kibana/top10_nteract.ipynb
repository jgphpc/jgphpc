{
  "cells": [
    {
      "cell_type": "code",
      "source": [
        "import json"
      ],
      "outputs": [],
      "execution_count": 1,
      "metadata": {
        "collapsed": true,
        "jupyter": {
          "source_hidden": false,
          "outputs_hidden": false
        },
        "nteract": {
          "transient": {
            "deleting": false
          }
        },
        "execution": {
          "shell.execute_reply": "2020-11-13T11:57:47.572Z",
          "iopub.status.busy": "2020-11-13T11:57:47.584Z",
          "iopub.execute_input": "2020-11-13T11:57:47.587Z",
          "iopub.status.idle": "2020-11-13T11:57:47.591Z"
        }
      }
    },
    {
      "cell_type": "code",
      "source": [
        "f = open('/tmp/BENCH/response_1605268579352.json')\n",
        "d = json.load(f)\n",
        "f.close()"
      ],
      "outputs": [],
      "execution_count": 3,
      "metadata": {
        "collapsed": true,
        "jupyter": {
          "source_hidden": false,
          "outputs_hidden": false
        },
        "nteract": {
          "transient": {
            "deleting": false
          }
        },
        "execution": {
          "iopub.status.busy": "2020-11-13T11:59:10.301Z",
          "iopub.execute_input": "2020-11-13T11:59:10.307Z",
          "iopub.status.idle": "2020-11-13T11:59:10.316Z",
          "shell.execute_reply": "2020-11-13T11:59:10.319Z"
        }
      }
    },
    {
      "cell_type": "code",
      "source": [
        "d['body']['map']['s1045'].keys()"
      ],
      "outputs": [
        {
          "output_type": "execute_result",
          "execution_count": 8,
          "data": {
            "text/plain": "dict_keys(['title', 'domain', 'status', 'unixGid', 'userIds', 'validTo', 'customer', 'subdomain', 'validFrom', 'groupLeader', 'accessibleTo', 'organization', 'accessibleFrom', 'projectGroupId'])"
          },
          "metadata": {}
        }
      ],
      "execution_count": 8,
      "metadata": {
        "collapsed": true,
        "jupyter": {
          "source_hidden": false,
          "outputs_hidden": false
        },
        "nteract": {
          "transient": {
            "deleting": false
          }
        },
        "execution": {
          "iopub.status.busy": "2020-11-13T12:00:34.336Z",
          "iopub.execute_input": "2020-11-13T12:00:34.340Z",
          "iopub.status.idle": "2020-11-13T12:00:34.349Z",
          "shell.execute_reply": "2020-11-13T12:00:34.353Z"
        }
      }
    },
    {
      "cell_type": "code",
      "source": [
        "# gid = 's1045'\n",
        "# dd = d['body']['map'][gid]\n",
        "for gid in ['s1045', 'pr109', 's929', 'pr108', 's954', 'pr110', 's882', 's994', 's963', 's889']:\n",
        "  dd = d['body']['map'][gid]\n",
        "  ddd = dd['groupLeader']\n",
        "  print(f\"{gid}: {dd['title']} / {dd['domain']} / \"\n",
        "         f\"{ddd['email']}\\n\")"
      ],
      "outputs": [
        {
          "output_type": "stream",
          "name": "stdout",
          "text": [
            "s1045: Double-virtual neutral pseudoscalar meson transition form factors FP???? from Lattice QCD at the physical point / Physics / wenger@itp.unibe.ch\n",
            "\n",
            "pr109: Coding the cosmos: From cosmic strings to superstrings / Physics / carlos.martins@astro.up.pt\n",
            "\n",
            "s929: Modeling, Sensing and Control of Turbulent Flows / Mechanics & Engineering / petros@ethz.ch\n",
            "\n",
            "pr108: FATstor - The role of Bernardinelli-Seip congenital lipodystrophy type 2 protein (BSCL2 - seipin) and its pathological variants in intracellular fat accumulation. / Life Science / stefano.vanni@unifr.ch\n",
            "\n",
            "s954: Precision nucleon structure using lattice QCD / Physics / alexand@ucy.ac.cy\n",
            "\n",
            "pr110: ELGEN - The electronic-structure genome of materials / Chemistry & Materials / nicola.marzari@epfl.ch\n",
            "\n",
            "s882: Simulation of plasma turbulence in the periphery of tokamak devices / Physics / paolo.ricci@epfl.ch\n",
            "\n",
            "s994: Ab-initio calculations of parton distribution functions for the LHC and the EIC / Physics / Savvas.Zafeiropoulos@cpt.univ-mrs.fr\n",
            "\n",
            "s963: Structure and Dynamics of Solids, Interfaces and Clusters / Chemistry & Materials / stefan.goedecker@unibas.ch\n",
            "\n",
            "s889: Coupled and Competing Instabilities in Complex Oxides / Chemistry & Materials / nicola.spaldin@mat.ethz.ch\n",
            "\n"
          ]
        }
      ],
      "execution_count": 30,
      "metadata": {
        "collapsed": true,
        "jupyter": {
          "source_hidden": false,
          "outputs_hidden": false
        },
        "nteract": {
          "transient": {
            "deleting": false
          }
        },
        "execution": {
          "iopub.status.busy": "2020-11-13T12:10:13.075Z",
          "iopub.execute_input": "2020-11-13T12:10:13.078Z",
          "iopub.status.idle": "2020-11-13T12:10:13.086Z",
          "shell.execute_reply": "2020-11-13T12:10:13.089Z"
        }
      }
    },
    {
      "cell_type": "code",
      "source": [
        "d['body']['map']['s1045']['groupLeader'].keys()"
      ],
      "outputs": [
        {
          "output_type": "execute_result",
          "execution_count": 18,
          "data": {
            "text/plain": "dict_keys(['city', 'email', 'phone', 'title', 'userId', 'address', 'zipCode', 'lastName', 'countryId', 'firstName', 'nationalityId'])"
          },
          "metadata": {}
        }
      ],
      "execution_count": 18,
      "metadata": {
        "collapsed": true,
        "jupyter": {
          "source_hidden": false,
          "outputs_hidden": false
        },
        "nteract": {
          "transient": {
            "deleting": false
          }
        },
        "execution": {
          "iopub.status.busy": "2020-11-13T12:05:32.525Z",
          "iopub.execute_input": "2020-11-13T12:05:32.528Z",
          "iopub.status.idle": "2020-11-13T12:05:32.591Z",
          "shell.execute_reply": "2020-11-13T12:05:32.593Z"
        }
      }
    },
    {
      "cell_type": "code",
      "source": [],
      "outputs": [],
      "execution_count": null,
      "metadata": {
        "collapsed": true,
        "jupyter": {
          "source_hidden": false,
          "outputs_hidden": false
        },
        "nteract": {
          "transient": {
            "deleting": false
          }
        }
      }
    }
  ],
  "metadata": {
    "kernel_info": {
      "name": "python3"
    },
    "language_info": {
      "name": "python",
      "version": "3.8.5",
      "mimetype": "text/x-python",
      "codemirror_mode": {
        "name": "ipython",
        "version": 3
      },
      "pygments_lexer": "ipython3",
      "nbconvert_exporter": "python",
      "file_extension": ".py"
    },
    "kernelspec": {
      "argv": [
        "python",
        "-m",
        "ipykernel_launcher",
        "-f",
        "{connection_file}"
      ],
      "display_name": "Python 3",
      "language": "python",
      "name": "python3"
    },
    "nteract": {
      "version": "0.26.0"
    }
  },
  "nbformat": 4,
  "nbformat_minor": 0
}