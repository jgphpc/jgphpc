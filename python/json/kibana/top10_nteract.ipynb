{
  "cells": [
    {
      "cell_type": "code",
      "source": [
        "import json\n",
        "# https://kibana.cscs.ch/s/scs/app/kibana#/visualize/edit/cd13da30-5978-11eb-b2b5-77b0326673d0?_g=(refreshInterval%3A(pause%3A!t%2Cvalue%3A0)%2Ctime%3A(from%3A'2020-09-30T22%3A00%3A00.000Z'%2Cmode%3Aabsolute%2Cto%3A'2021-01-18T09%3A53%3A24.341Z'))\n",
        "# https://umpapi-tds.cscs.ch/be-api/swagger-ui.html#/bulk-json-v-3/getActiveProjectGroupsByFacilityV3UsingGET"
      ],
      "outputs": [],
      "execution_count": 1,
      "metadata": {
        "collapsed": true,
        "jupyter": {
          "source_hidden": false,
          "outputs_hidden": false
        },
        "nteract": {
          "transient": {
            "deleting": false
          }
        },
        "execution": {
          "shell.execute_reply": "2021-01-18T10:29:04.019Z",
          "iopub.status.busy": "2021-01-18T10:29:04.036Z",
          "iopub.execute_input": "2021-01-18T10:29:04.041Z",
          "iopub.status.idle": "2021-01-18T10:29:04.045Z"
        }
      }
    },
    {
      "cell_type": "code",
      "source": [
        "f = open('/tmp/0/TOP_USERS/0.json')\n",
        "d = json.load(f)\n",
        "f.close()"
      ],
      "outputs": [],
      "execution_count": 3,
      "metadata": {
        "collapsed": true,
        "jupyter": {
          "source_hidden": false,
          "outputs_hidden": false
        },
        "nteract": {
          "transient": {
            "deleting": false
          }
        },
        "execution": {
          "iopub.status.busy": "2021-01-18T10:29:10.781Z",
          "iopub.execute_input": "2021-01-18T10:29:10.784Z",
          "iopub.status.idle": "2021-01-18T10:29:10.790Z",
          "shell.execute_reply": "2021-01-18T10:29:10.793Z"
        }
      }
    },
    {
      "cell_type": "code",
      "source": [
        "d['body']['map']['pr75'].keys()"
      ],
      "outputs": [
        {
          "output_type": "execute_result",
          "execution_count": 5,
          "data": {
            "text/plain": "dict_keys(['title', 'domain', 'status', 'unixGid', 'userIds', 'validTo', 'customer', 'subdomain', 'validFrom', 'groupLeader', 'accessibleTo', 'organization', 'accessibleFrom', 'projectGroupId'])"
          },
          "metadata": {}
        }
      ],
      "execution_count": 5,
      "metadata": {
        "collapsed": true,
        "jupyter": {
          "source_hidden": false,
          "outputs_hidden": false
        },
        "nteract": {
          "transient": {
            "deleting": false
          }
        },
        "execution": {
          "iopub.status.busy": "2021-01-18T10:29:28.046Z",
          "iopub.execute_input": "2021-01-18T10:29:28.051Z",
          "iopub.status.idle": "2021-01-18T10:29:28.116Z",
          "shell.execute_reply": "2021-01-18T10:29:28.120Z"
        }
      }
    },
    {
      "cell_type": "code",
      "source": [
        "# gid = 's1045'\n",
        "# dd = d['body']['map'][gid]\n",
        "gids = ['pr75', 'pr92', 's913', 'pr79', 's1000', 'pr91', 's929', 'pr110', 'pr89', 'pr107']\n",
        "for gid in gids:\n",
        "  dd = d['body']['map'][gid]\n",
        "  ddd = dd['groupLeader']\n",
        "  print(f\"{gid}: {dd['title']} / {dd['domain']} / \"\n",
        "         f\"{ddd['email']}\\n\")"
      ],
      "outputs": [
        {
          "output_type": "stream",
          "name": "stdout",
          "text": [
            "pr75: PDLCA - Protein dynamics and toxicity in light chain amyloidosis / Life Science / Carlo.camilloni@unimi.it\n",
            "\n",
            "pr92: Structure of the excess electron in liquid methanol from many-body electronic structure theory / Chemistry & Materials / vladimir.rybkin@chem.uzh.ch\n",
            "\n",
            "s913: Computing statistical solutions of three-dimensional compressible fluid flows / Computer Science / smishra@sam.math.ethz.ch\n",
            "\n",
            "pr79: NPiTwist – The N? system using twisted mass fermions at the physical point / Physics / alexand@ucy.ac.cy\n",
            "\n",
            "s1000: Efficient and reliable crystal structure prediction using quantum Monte Carlo and Machine Learning / Chemistry & Materials / michele.ceriotti@epfl.ch\n",
            "\n",
            "pr91: Dissipative dynamics in fermionic superfluids / Physics / gabrielw@if.pw.edu.pl\n",
            "\n",
            "s929: Modeling, Sensing and Control of Turbulent Flows / Mechanics & Engineering / petros@ethz.ch\n",
            "\n",
            "pr110: ELGEN - The electronic-structure genome of materials / Chemistry & Materials / nicola.marzari@epfl.ch\n",
            "\n",
            "pr89: Lipid modulation of membrane protein functional cycle / Life Science / lucied@kth.se\n",
            "\n",
            "pr107: TRPs - Structure-based characterization of novel TRPV inhibitors / Life Science / C.Domene@bath.ac.uk\n",
            "\n"
          ]
        }
      ],
      "execution_count": 6,
      "metadata": {
        "collapsed": true,
        "jupyter": {
          "source_hidden": false,
          "outputs_hidden": false
        },
        "nteract": {
          "transient": {
            "deleting": false
          }
        },
        "execution": {
          "iopub.status.busy": "2021-01-18T10:30:53.253Z",
          "iopub.execute_input": "2021-01-18T10:30:53.256Z",
          "iopub.status.idle": "2021-01-18T10:30:53.267Z",
          "shell.execute_reply": "2021-01-18T10:30:53.270Z"
        }
      }
    },
    {
      "cell_type": "code",
      "source": [
        "d['body']['map']['s1045']['groupLeader'].keys()"
      ],
      "outputs": [
        {
          "output_type": "execute_result",
          "execution_count": 18,
          "data": {
            "text/plain": "dict_keys(['city', 'email', 'phone', 'title', 'userId', 'address', 'zipCode', 'lastName', 'countryId', 'firstName', 'nationalityId'])"
          },
          "metadata": {}
        }
      ],
      "execution_count": 18,
      "metadata": {
        "collapsed": true,
        "jupyter": {
          "source_hidden": false,
          "outputs_hidden": false
        },
        "nteract": {
          "transient": {
            "deleting": false
          }
        },
        "execution": {
          "iopub.status.busy": "2020-11-13T12:05:32.525Z",
          "iopub.execute_input": "2020-11-13T12:05:32.528Z",
          "iopub.status.idle": "2020-11-13T12:05:32.591Z",
          "shell.execute_reply": "2020-11-13T12:05:32.593Z"
        }
      }
    },
    {
      "cell_type": "code",
      "source": [],
      "outputs": [],
      "execution_count": null,
      "metadata": {
        "collapsed": true,
        "jupyter": {
          "source_hidden": false,
          "outputs_hidden": false
        },
        "nteract": {
          "transient": {
            "deleting": false
          }
        }
      }
    }
  ],
  "metadata": {
    "kernel_info": {
      "name": "python3"
    },
    "language_info": {
      "name": "python",
      "version": "3.8.5",
      "mimetype": "text/x-python",
      "codemirror_mode": {
        "name": "ipython",
        "version": 3
      },
      "pygments_lexer": "ipython3",
      "nbconvert_exporter": "python",
      "file_extension": ".py"
    },
    "kernelspec": {
      "argv": [
        "python",
        "-m",
        "ipykernel_launcher",
        "-f",
        "{connection_file}"
      ],
      "display_name": "Python 3",
      "language": "python",
      "name": "python3"
    },
    "nteract": {
      "version": "0.26.0"
    }
  },
  "nbformat": 4,
  "nbformat_minor": 0
}