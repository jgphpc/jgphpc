{
 "cells": [
  {
   "cell_type": "code",
   "execution_count": 2,
   "metadata": {},
   "outputs": [
    {
     "name": "stdout",
     "output_type": "stream",
     "text": [
      "{'_index': 'reframe_3', '_type': 'message', '_id': 'f0d31193-839d-11ea-8ff8-a679b78ec7f3', '_version': 1, '_score': None, '_source': {'line': 513, 'gl2_remote_ip': '148.187.26.64', 'gl2_remote_port': 42552, 'check_job_completion_time': 1587452486, 'source': 'daint101', 'gl2_source_input': '598979a0076ee46f069aa24a', 'file': 'logging.py', 'check_info': 'LAMMPSCPUCheck_small_prod on daint:mc using builtin', 'check_partition': 'mc', 'osuser': 'jenscscs', 'gl2_source_node': 'f346cd26-9db6-4f20-b4a8-e76ef26c66be', 'logger_name': 'reframe', 'check_jobid': 22102264, 'check_perf_ref': 3824, 'check_perf_unit': 'timesteps/s', 'timestamp': '2020-04-21 07:01:36.166', 'check_stagedir': '/scratch/snx3000/jenscscs/regression/production/stage/2020-04-21_00-51-31/daint/mc/builtin/LAMMPSCPUCheck_small_prod_retry1', 'check_environ': 'builtin', 'check_perf_var': 'perf', 'level': 6, 'module': 'logging', 'streams': ['5a70861f47256e51e7ee7e95'], 'gl2_message_id': '01E6DRNJ9ABCKRH3FSBS77C3BJ', 'osgroup': 'jenscscs', 'check_tags': 'scs,external-resources,production', 'check_outputdir': '/apps/daint/UES/jenscscs/regression/production/2020-04-21_00-51-31/daint/mc/builtin/LAMMPSCPUCheck_small_prod_retry1', 'check_num_tasks': 216, 'message': 'sent by jenscscs', 'version': '3.0-dev4 (rev: ea917eee)', 'check_system': 'daint', 'check_perf_value': 4141.566, 'func': 'log', 'check_name': 'LAMMPSCPUCheck_small_prod', 'facility': 'reframe', 'check_perf_lower_thres': -0.1, 'data-version': '1.0'}, 'fields': {'check_job_completion_time': ['1970-01-19T08:57:32.486Z'], 'timestamp': ['2020-04-21T07:01:36.166Z']}, 'highlight': {'check_name': ['@kibana-highlighted-field@LAMMPSCPUCheck_small_prod@/kibana-highlighted-field@']}, 'sort': [1587452496166]}\n"
     ]
    }
   ],
   "source": [
    "# import pandas as pd \n",
    "# df = pd.read_json('./lammps.json')\n",
    "import json\n",
    "\n",
    "f = open('./lammps.json')\n",
    "d = json.load(f)\n",
    "print(d)\n",
    "f.close()"
   ]
  },
  {
   "cell_type": "code",
   "execution_count": 3,
   "metadata": {},
   "outputs": [
    {
     "data": {
      "text/plain": [
       "dict"
      ]
     },
     "execution_count": 3,
     "metadata": {},
     "output_type": "execute_result"
    }
   ],
   "source": [
    "type(d)"
   ]
  },
  {
   "cell_type": "code",
   "execution_count": 5,
   "metadata": {},
   "outputs": [
    {
     "data": {
      "text/plain": [
       "dict_keys(['_index', '_type', '_id', '_version', '_score', '_source', 'fields', 'highlight', 'sort'])"
      ]
     },
     "execution_count": 5,
     "metadata": {},
     "output_type": "execute_result"
    }
   ],
   "source": [
    "d.keys()"
   ]
  },
  {
   "cell_type": "code",
   "execution_count": 6,
   "metadata": {},
   "outputs": [
    {
     "data": {
      "text/plain": [
       "{'line': 513,\n",
       " 'gl2_remote_ip': '148.187.26.64',\n",
       " 'gl2_remote_port': 42552,\n",
       " 'check_job_completion_time': 1587452486,\n",
       " 'source': 'daint101',\n",
       " 'gl2_source_input': '598979a0076ee46f069aa24a',\n",
       " 'file': 'logging.py',\n",
       " 'check_info': 'LAMMPSCPUCheck_small_prod on daint:mc using builtin',\n",
       " 'check_partition': 'mc',\n",
       " 'osuser': 'jenscscs',\n",
       " 'gl2_source_node': 'f346cd26-9db6-4f20-b4a8-e76ef26c66be',\n",
       " 'logger_name': 'reframe',\n",
       " 'check_jobid': 22102264,\n",
       " 'check_perf_ref': 3824,\n",
       " 'check_perf_unit': 'timesteps/s',\n",
       " 'timestamp': '2020-04-21 07:01:36.166',\n",
       " 'check_stagedir': '/scratch/snx3000/jenscscs/regression/production/stage/2020-04-21_00-51-31/daint/mc/builtin/LAMMPSCPUCheck_small_prod_retry1',\n",
       " 'check_environ': 'builtin',\n",
       " 'check_perf_var': 'perf',\n",
       " 'level': 6,\n",
       " 'module': 'logging',\n",
       " 'streams': ['5a70861f47256e51e7ee7e95'],\n",
       " 'gl2_message_id': '01E6DRNJ9ABCKRH3FSBS77C3BJ',\n",
       " 'osgroup': 'jenscscs',\n",
       " 'check_tags': 'scs,external-resources,production',\n",
       " 'check_outputdir': '/apps/daint/UES/jenscscs/regression/production/2020-04-21_00-51-31/daint/mc/builtin/LAMMPSCPUCheck_small_prod_retry1',\n",
       " 'check_num_tasks': 216,\n",
       " 'message': 'sent by jenscscs',\n",
       " 'version': '3.0-dev4 (rev: ea917eee)',\n",
       " 'check_system': 'daint',\n",
       " 'check_perf_value': 4141.566,\n",
       " 'func': 'log',\n",
       " 'check_name': 'LAMMPSCPUCheck_small_prod',\n",
       " 'facility': 'reframe',\n",
       " 'check_perf_lower_thres': -0.1,\n",
       " 'data-version': '1.0'}"
      ]
     },
     "execution_count": 6,
     "metadata": {},
     "output_type": "execute_result"
    }
   ],
   "source": [
    "d['_source']"
   ]
  },
  {
   "cell_type": "markdown",
   "metadata": {},
   "source": [
    "# json\n",
    "\n",
    "```\n",
    "check_info: \"LAMMPSCPUCheck_small_prod on daint:mc using builtin\"\n",
    "check_partition: \"mc\"\n",
    "check_jobid: 22102264\n",
    "check_perf_ref: 3824\n",
    "check_perf_unit: \"timesteps/s\"\n",
    "timestamp: \"2020-04-21 07:01:36.166\"\n",
    "check_stagedir: \"/scratch/snx3000/jenscscs/regression/production/stage/2020-04-21_00-51-31/daint/mc/builtin/LAMMPSCPUCheck_small_prod_retry1\"\n",
    "check_environ: \"builtin\"\n",
    "check_perf_var: \"perf\"\n",
    "```"
   ]
  },
  {
   "cell_type": "code",
   "execution_count": 10,
   "metadata": {},
   "outputs": [
    {
     "data": {
      "text/plain": [
       "dict"
      ]
     },
     "execution_count": 10,
     "metadata": {},
     "output_type": "execute_result"
    }
   ],
   "source": [
    "dd = d['_source']\n",
    "type(dd)"
   ]
  },
  {
   "cell_type": "code",
   "execution_count": 9,
   "metadata": {},
   "outputs": [
    {
     "data": {
      "text/plain": [
       "'LAMMPSCPUCheck_small_prod on daint:mc using builtin'"
      ]
     },
     "execution_count": 9,
     "metadata": {},
     "output_type": "execute_result"
    }
   ],
   "source": [
    "dd['check_info']"
   ]
  },
  {
   "cell_type": "code",
   "execution_count": 11,
   "metadata": {},
   "outputs": [
    {
     "data": {
      "text/plain": [
       "dict_keys(['line', 'gl2_remote_ip', 'gl2_remote_port', 'check_job_completion_time', 'source', 'gl2_source_input', 'file', 'check_info', 'check_partition', 'osuser', 'gl2_source_node', 'logger_name', 'check_jobid', 'check_perf_ref', 'check_perf_unit', 'timestamp', 'check_stagedir', 'check_environ', 'check_perf_var', 'level', 'module', 'streams', 'gl2_message_id', 'osgroup', 'check_tags', 'check_outputdir', 'check_num_tasks', 'message', 'version', 'check_system', 'check_perf_value', 'func', 'check_name', 'facility', 'check_perf_lower_thres', 'data-version'])"
      ]
     },
     "execution_count": 11,
     "metadata": {},
     "output_type": "execute_result"
    }
   ],
   "source": [
    "dd.keys()"
   ]
  },
  {
   "cell_type": "code",
   "execution_count": 12,
   "metadata": {},
   "outputs": [
    {
     "data": {
      "text/plain": [
       "[1587452486,\n",
       " 'LAMMPSCPUCheck_small_prod on daint:mc using builtin',\n",
       " 'mc',\n",
       " 22102264,\n",
       " 3824,\n",
       " 'timesteps/s',\n",
       " '/scratch/snx3000/jenscscs/regression/production/stage/2020-04-21_00-51-31/daint/mc/builtin/LAMMPSCPUCheck_small_prod_retry1',\n",
       " 'builtin',\n",
       " 'perf',\n",
       " 'scs,external-resources,production',\n",
       " '/apps/daint/UES/jenscscs/regression/production/2020-04-21_00-51-31/daint/mc/builtin/LAMMPSCPUCheck_small_prod_retry1',\n",
       " 216,\n",
       " 'daint',\n",
       " 4141.566,\n",
       " 'LAMMPSCPUCheck_small_prod',\n",
       " -0.1]"
      ]
     },
     "execution_count": 12,
     "metadata": {},
     "output_type": "execute_result"
    }
   ],
   "source": [
    "[ vv for kk,vv in dd.items() if kk.startswith('check')]"
   ]
  },
  {
   "cell_type": "code",
   "execution_count": 17,
   "metadata": {},
   "outputs": [
    {
     "name": "stdout",
     "output_type": "stream",
     "text": [
      "check_job_completion_time = 1587452486\n",
      "check_info = LAMMPSCPUCheck_small_prod on daint:mc using builtin\n",
      "check_partition = mc\n",
      "check_jobid = 22102264\n",
      "check_perf_ref = 3824\n",
      "check_perf_unit = timesteps/s\n",
      "check_stagedir = /scratch/snx3000/jenscscs/regression/production/stage/2020-04-21_00-51-31/daint/mc/builtin/LAMMPSCPUCheck_small_prod_retry1\n",
      "check_environ = builtin\n",
      "check_perf_var = perf\n",
      "check_tags = scs,external-resources,production\n",
      "check_outputdir = /apps/daint/UES/jenscscs/regression/production/2020-04-21_00-51-31/daint/mc/builtin/LAMMPSCPUCheck_small_prod_retry1\n",
      "check_num_tasks = 216\n",
      "check_system = daint\n",
      "check_perf_value = 4141.566\n",
      "check_name = LAMMPSCPUCheck_small_prod\n",
      "check_perf_lower_thres = -0.1\n"
     ]
    }
   ],
   "source": [
    "for kk,vv in dd.items():\n",
    "    if kk.startswith('check'):\n",
    "        print(\"%s = %s\" % (kk,vv))"
   ]
  },
  {
   "cell_type": "code",
   "execution_count": 21,
   "metadata": {},
   "outputs": [
    {
     "data": {
      "text/plain": [
       "(4141.566, 3824, 'timesteps/s')"
      ]
     },
     "execution_count": 21,
     "metadata": {},
     "output_type": "execute_result"
    }
   ],
   "source": [
    "dd['check_perf_value'], dd['check_perf_ref'], dd['check_perf_unit']"
   ]
  },
  {
   "cell_type": "code",
   "execution_count": 41,
   "metadata": {},
   "outputs": [
    {
     "data": {
      "text/plain": [
       "['check_environ',\n",
       " 'check_info',\n",
       " 'check_job_completion_time',\n",
       " 'check_jobid',\n",
       " 'check_name',\n",
       " 'check_num_tasks',\n",
       " 'check_outputdir',\n",
       " 'check_partition',\n",
       " 'check_perf_lower_thres',\n",
       " 'check_perf_ref',\n",
       " 'check_perf_unit',\n",
       " 'check_perf_value',\n",
       " 'check_perf_var',\n",
       " 'check_stagedir',\n",
       " 'check_system',\n",
       " 'check_tags',\n",
       " 'data-version',\n",
       " 'facility',\n",
       " 'file',\n",
       " 'func',\n",
       " 'gl2_message_id',\n",
       " 'gl2_remote_ip',\n",
       " 'gl2_remote_port',\n",
       " 'gl2_source_input',\n",
       " 'gl2_source_node',\n",
       " 'level',\n",
       " 'line',\n",
       " 'logger_name',\n",
       " 'message',\n",
       " 'module',\n",
       " 'osgroup',\n",
       " 'osuser',\n",
       " 'source',\n",
       " 'streams',\n",
       " 'timestamp',\n",
       " 'version']"
      ]
     },
     "execution_count": 41,
     "metadata": {},
     "output_type": "execute_result"
    }
   ],
   "source": [
    "ll = list(dd.keys())\n",
    "ll.sort()\n",
    "ll"
   ]
  },
  {
   "cell_type": "code",
   "execution_count": 42,
   "metadata": {},
   "outputs": [],
   "source": [
    "f = open('./gmx.json')\n",
    "dg = json.load(f)\n",
    "f.close()"
   ]
  },
  {
   "cell_type": "code",
   "execution_count": 58,
   "metadata": {},
   "outputs": [
    {
     "data": {
      "text/plain": [
       "(41.244, 38.8, 'ns/day')"
      ]
     },
     "execution_count": 58,
     "metadata": {},
     "output_type": "execute_result"
    }
   ],
   "source": [
    "ddgl = dg['_source']\n",
    "ddgl['check_perf_value'], ddgl['check_perf_ref'], ddgl['check_perf_unit']"
   ]
  },
  {
   "cell_type": "code",
   "execution_count": 64,
   "metadata": {},
   "outputs": [
    {
     "data": {
      "text/plain": [
       "['line',\n",
       " 'gl2_remote_ip',\n",
       " 'gl2_remote_port',\n",
       " 'check_job_completion_time',\n",
       " 'source',\n",
       " 'gl2_source_input',\n",
       " 'file',\n",
       " 'check_info',\n",
       " 'check_partition',\n",
       " 'osuser',\n",
       " 'gl2_source_node',\n",
       " 'logger_name',\n",
       " 'check_jobid',\n",
       " 'check_perf_ref',\n",
       " 'check_perf_unit',\n",
       " 'timestamp',\n",
       " 'check_stagedir',\n",
       " 'check_environ',\n",
       " 'check_perf_var',\n",
       " 'level',\n",
       " 'module',\n",
       " 'streams',\n",
       " 'gl2_message_id',\n",
       " 'osgroup',\n",
       " 'check_tags',\n",
       " 'check_outputdir',\n",
       " 'check_num_tasks',\n",
       " 'message',\n",
       " 'version',\n",
       " 'check_system',\n",
       " 'check_perf_value',\n",
       " 'func',\n",
       " 'check_name',\n",
       " 'facility',\n",
       " 'check_perf_lower_thres',\n",
       " 'data-version']"
      ]
     },
     "execution_count": 64,
     "metadata": {},
     "output_type": "execute_result"
    }
   ],
   "source": [
    "ddgl2 = list(ddgl.keys())\n",
    "ddgl2"
   ]
  },
  {
   "cell_type": "code",
   "execution_count": 71,
   "metadata": {},
   "outputs": [],
   "source": [
    "ddgl2.sort()"
   ]
  },
  {
   "cell_type": "code",
   "execution_count": 77,
   "metadata": {},
   "outputs": [
    {
     "data": {
      "text/plain": [
       "['check_info',\n",
       " 'check_job_completion_time',\n",
       " 'check_jobid',\n",
       " 'check_name',\n",
       " 'check_num_tasks',\n",
       " 'check_outputdir',\n",
       " 'check_partition',\n",
       " 'check_perf_lower_thres',\n",
       " 'check_perf_ref',\n",
       " 'check_perf_unit',\n",
       " 'check_perf_value',\n",
       " 'check_perf_var',\n",
       " 'check_stagedir',\n",
       " 'check_system',\n",
       " 'check_tags']"
      ]
     },
     "execution_count": 77,
     "metadata": {},
     "output_type": "execute_result"
    }
   ],
   "source": [
    "ddgl2[1:16]"
   ]
  },
  {
   "cell_type": "code",
   "execution_count": 78,
   "metadata": {},
   "outputs": [
    {
     "data": {
      "text/plain": [
       "['check_info',\n",
       " 'check_job_completion_time',\n",
       " 'check_jobid',\n",
       " 'check_name',\n",
       " 'check_num_tasks',\n",
       " 'check_outputdir',\n",
       " 'check_partition',\n",
       " 'check_perf_lower_thres',\n",
       " 'check_perf_ref',\n",
       " 'check_perf_unit',\n",
       " 'check_perf_value',\n",
       " 'check_perf_var',\n",
       " 'check_stagedir',\n",
       " 'check_system',\n",
       " 'check_tags']"
      ]
     },
     "execution_count": 78,
     "metadata": {},
     "output_type": "execute_result"
    }
   ],
   "source": [
    "ll[1:16]"
   ]
  },
  {
   "cell_type": "code",
   "execution_count": 79,
   "metadata": {},
   "outputs": [
    {
     "data": {
      "text/plain": [
       "True"
      ]
     },
     "execution_count": 79,
     "metadata": {},
     "output_type": "execute_result"
    }
   ],
   "source": [
    "ddgl2[1:16] == ll[1:16]"
   ]
  },
  {
   "cell_type": "code",
   "execution_count": 82,
   "metadata": {},
   "outputs": [
    {
     "name": "stdout",
     "output_type": "stream",
     "text": [
      "check_environ check_environ True\n",
      "check_info check_info True\n",
      "check_job_completion_time check_job_completion_time True\n",
      "check_jobid check_jobid True\n",
      "check_name check_name True\n",
      "check_num_tasks check_num_tasks True\n",
      "check_outputdir check_outputdir True\n",
      "check_partition check_partition True\n",
      "check_perf_lower_thres check_perf_lower_thres True\n",
      "check_perf_ref check_perf_ref True\n",
      "check_perf_unit check_perf_unit True\n",
      "check_perf_value check_perf_value True\n",
      "check_perf_var check_perf_var True\n",
      "check_stagedir check_stagedir True\n",
      "check_system check_system True\n",
      "check_tags check_tags True\n"
     ]
    }
   ],
   "source": [
    "for i in range(16):\n",
    "    print(ddgl2[i], ll[i], ddgl2[i] == ll[i])"
   ]
  }
 ],
 "metadata": {
  "kernelspec": {
   "display_name": "Python 3",
   "language": "python",
   "name": "python3"
  },
  "language_info": {
   "codemirror_mode": {
    "name": "ipython",
    "version": 3
   },
   "file_extension": ".py",
   "mimetype": "text/x-python",
   "name": "python",
   "nbconvert_exporter": "python",
   "pygments_lexer": "ipython3",
   "version": "3.7.6"
  }
 },
 "nbformat": 4,
 "nbformat_minor": 4
}
