{
 "cells": [
  {
   "cell_type": "code",
   "execution_count": 52,
   "metadata": {},
   "outputs": [],
   "source": [
    "# import pandas as pd \n",
    "# df = pd.read_json('./lammps.json')\n",
    "import json\n",
    "\n",
    "f = open('./eff_in.json')\n",
    "d = json.load(f)\n",
    "f.close()"
   ]
  },
  {
   "cell_type": "code",
   "execution_count": 53,
   "metadata": {},
   "outputs": [],
   "source": [
    "cubeside_d = {1: 'xsmall', 6: 'small', 24: 'medium', 672: 'large'} \n",
    "# cubeside_d[24]"
   ]
  },
  {
   "cell_type": "code",
   "execution_count": 54,
   "metadata": {},
   "outputs": [
    {
     "name": "stdout",
     "output_type": "stream",
     "text": [
      "{'session_info': {'cmdline': '/users/piccinal/reframe.git/bin/reframe -C /users/piccinal/reframe.git/config/cscs.py --skip-system-check --system dom:gpu -p PrgEnv-gnu --keep-stage-files --prefix=/scratch/snx3000tds/piccinal --report-file /users/piccinal/eff.json --performance-report -v -c test2.py -r -n SphExa_MPI_Check*', 'config_file': '/users/piccinal/reframe.git/config/cscs.py', 'data_version': '1.0', 'hostname': 'dom101', 'prefix_output': '/scratch/snx3000tds/piccinal/output', 'prefix_stage': '/scratch/snx3000tds/piccinal/stage', 'user': 'piccinal', 'version': '3.2-dev0 (rev: 0a4dc520)', 'workdir': '/apps/common/UES/sandbox/jgp/hpctools.git/AURELIEN/SPH-EXA_mini-app.git/scripts/reframe/DEBUGJG/TESTJG_DEPS2', 'time_start': '2020-07-28T21:28:26+0200', 'time_end': '2020-07-28T21:29:04+0200', 'time_elapsed': 38.192410469055176, 'num_cases': 3, 'num_failures': 0}, 'runs': [{'num_cases': 3, 'num_failures': 0, 'runid': 0, 'testcases': [{'build_stderr': 'rfm_SphExa_MPI_Check_1_build.err', 'build_stdout': 'rfm_SphExa_MPI_Check_1_build.out', 'description': 'Tool validation', 'environment': 'PrgEnv-gnu', 'fail_reason': None, 'fail_phase': None, 'jobid': 1103068, 'job_stderr': 'rfm_SphExa_MPI_Check_1_job.err', 'job_stdout': 'rfm_SphExa_MPI_Check_1_job.out', 'name': 'SphExa_MPI_Check_1', 'maintainers': ['JG'], 'nodelist': ['nid00000'], 'outputdir': '/scratch/snx3000tds/piccinal/output/dom/gpu/PrgEnv-gnu/SphExa_MPI_Check_1', 'perfvars': [{'name': 'Elapsed', 'reference': 0, 'thres_lower': None, 'thres_upper': None, 'unit': 's', 'value': 0.8846}, {'name': '_Elapsed', 'reference': 0, 'thres_lower': None, 'thres_upper': None, 'unit': 's', 'value': 2}, {'name': 'mpi_ranks', 'reference': 0, 'thres_lower': None, 'thres_upper': None, 'unit': '', 'value': 1}, {'name': 'cubeside', 'reference': 0, 'thres_lower': None, 'thres_upper': None, 'unit': '', 'value': 30}, {'name': 'steps', 'reference': 0, 'thres_lower': None, 'thres_upper': None, 'unit': '', 'value': 0}, {'name': 'FindNeighbors', 'reference': 0, 'thres_lower': None, 'thres_upper': None, 'unit': 's', 'value': 0.1176}, {'name': 'MomentumEnergyIAD', 'reference': 0, 'thres_lower': None, 'thres_upper': None, 'unit': 's', 'value': 0.4115}, {'name': '%MomentumEnergyIAD', 'reference': 0, 'thres_lower': None, 'thres_upper': None, 'unit': '%', 'value': 46.52}, {'name': '%FindNeighbors', 'reference': 0, 'thres_lower': None, 'thres_upper': None, 'unit': '%', 'value': 13.29}, {'name': 'Total Neighbors', 'reference': 0, 'thres_lower': None, 'thres_upper': None, 'unit': '', 'value': 6190320.0}, {'name': 'Avg neighbor count per particle', 'reference': 0, 'thres_lower': None, 'thres_upper': None, 'unit': '', 'value': 229.0}, {'name': 'Total energy', 'reference': 0, 'thres_lower': None, 'thres_upper': None, 'unit': 'erg', 'value': 20811200000.0}, {'name': 'Internal energy', 'reference': 0, 'thres_lower': None, 'thres_upper': None, 'unit': 'erg', 'value': 1000000.0}], 'result': 'success', 'stagedir': None, 'scheduler': 'slurm', 'system': 'dom:gpu', 'tags': ['sph', 'cpu', 'hpctools'], 'time_compile': 6.788120746612549, 'time_performance': 0.013454198837280273, 'time_run': 16.154615879058838, 'time_sanity': 0.0026624202728271484, 'time_setup': 0.031066417694091797, 'time_total': 23.13016152381897}, {'build_stderr': 'rfm_SphExa_MPI_Check_6_build.err', 'build_stdout': 'rfm_SphExa_MPI_Check_6_build.out', 'description': 'Tool validation', 'environment': 'PrgEnv-gnu', 'fail_reason': None, 'fail_phase': None, 'jobid': 1103069, 'job_stderr': 'rfm_SphExa_MPI_Check_6_job.err', 'job_stdout': 'rfm_SphExa_MPI_Check_6_job.out', 'name': 'SphExa_MPI_Check_6', 'maintainers': ['JG'], 'nodelist': ['nid00000'], 'outputdir': '/scratch/snx3000tds/piccinal/output/dom/gpu/PrgEnv-gnu/SphExa_MPI_Check_6', 'perfvars': [{'name': 'Elapsed', 'reference': 0, 'thres_lower': None, 'thres_upper': None, 'unit': 's', 'value': 0.5223}, {'name': '_Elapsed', 'reference': 0, 'thres_lower': None, 'thres_upper': None, 'unit': 's', 'value': 1}, {'name': 'mpi_ranks', 'reference': 0, 'thres_lower': None, 'thres_upper': None, 'unit': '', 'value': 6}, {'name': 'cubeside', 'reference': 0, 'thres_lower': None, 'thres_upper': None, 'unit': '', 'value': 30}, {'name': 'steps', 'reference': 0, 'thres_lower': None, 'thres_upper': None, 'unit': '', 'value': 1}, {'name': 'FindNeighbors', 'reference': 0, 'thres_lower': None, 'thres_upper': None, 'unit': 's', 'value': 0.0604}, {'name': 'MomentumEnergyIAD', 'reference': 0, 'thres_lower': None, 'thres_upper': None, 'unit': 's', 'value': 0.2318}, {'name': '%MomentumEnergyIAD', 'reference': 0, 'thres_lower': None, 'thres_upper': None, 'unit': '%', 'value': 44.38}, {'name': '%FindNeighbors', 'reference': 0, 'thres_lower': None, 'thres_upper': None, 'unit': '%', 'value': 11.56}, {'name': 'Total Neighbors', 'reference': 0, 'thres_lower': None, 'thres_upper': None, 'unit': '', 'value': 6445844.0}, {'name': 'Avg neighbor count per particle', 'reference': 0, 'thres_lower': None, 'thres_upper': None, 'unit': '', 'value': 238.5}, {'name': 'Total energy', 'reference': 0, 'thres_lower': None, 'thres_upper': None, 'unit': 'erg', 'value': 20811200000.0}, {'name': 'Internal energy', 'reference': 0, 'thres_lower': None, 'thres_upper': None, 'unit': 'erg', 'value': 999945.5}], 'result': 'success', 'stagedir': None, 'scheduler': 'slurm', 'system': 'dom:gpu', 'tags': ['sph', 'cpu', 'hpctools'], 'time_compile': 6.971142292022705, 'time_performance': 0.009945392608642578, 'time_run': 8.893105745315552, 'time_sanity': 0.014800548553466797, 'time_setup': 0.03210163116455078, 'time_total': 15.96122145652771}, {'build_stderr': 'rfm_SphExa_MPI_Check_24_build.err', 'build_stdout': 'rfm_SphExa_MPI_Check_24_build.out', 'description': 'Tool validation', 'environment': 'PrgEnv-gnu', 'fail_reason': None, 'fail_phase': None, 'jobid': 1103070, 'job_stderr': 'rfm_SphExa_MPI_Check_24_job.err', 'job_stdout': 'rfm_SphExa_MPI_Check_24_job.out', 'name': 'SphExa_MPI_Check_24', 'maintainers': ['JG'], 'nodelist': ['nid00000'], 'outputdir': '/scratch/snx3000tds/piccinal/output/dom/gpu/PrgEnv-gnu/SphExa_MPI_Check_24', 'perfvars': [{'name': 'Elapsed', 'reference': 0, 'thres_lower': None, 'thres_upper': None, 'unit': 's', 'value': 10.031}, {'name': '_Elapsed', 'reference': 0, 'thres_lower': None, 'thres_upper': None, 'unit': 's', 'value': 12}, {'name': 'mpi_ranks', 'reference': 0, 'thres_lower': None, 'thres_upper': None, 'unit': '', 'value': 24}, {'name': 'cubeside', 'reference': 0, 'thres_lower': None, 'thres_upper': None, 'unit': '', 'value': 100}, {'name': 'steps', 'reference': 0, 'thres_lower': None, 'thres_upper': None, 'unit': '', 'value': 2}, {'name': 'FindNeighbors', 'reference': 0, 'thres_lower': None, 'thres_upper': None, 'unit': 's', 'value': 1.1509}, {'name': 'MomentumEnergyIAD', 'reference': 0, 'thres_lower': None, 'thres_upper': None, 'unit': 's', 'value': 3.9387}, {'name': '%MomentumEnergyIAD', 'reference': 0, 'thres_lower': None, 'thres_upper': None, 'unit': '%', 'value': 39.27}, {'name': '%FindNeighbors', 'reference': 0, 'thres_lower': None, 'thres_upper': None, 'unit': '%', 'value': 11.47}, {'name': 'Total Neighbors', 'reference': 0, 'thres_lower': None, 'thres_upper': None, 'unit': '', 'value': 248584201.66666666}, {'name': 'Avg neighbor count per particle', 'reference': 0, 'thres_lower': None, 'thres_upper': None, 'unit': '', 'value': 248.0}, {'name': 'Total energy', 'reference': 0, 'thres_lower': None, 'thres_upper': None, 'unit': 'erg', 'value': 20832300000.0}, {'name': 'Internal energy', 'reference': 0, 'thres_lower': None, 'thres_upper': None, 'unit': 'erg', 'value': 939592.3333333334}], 'result': 'success', 'stagedir': None, 'scheduler': 'slurm', 'system': 'dom:gpu', 'tags': ['sph', 'cpu', 'hpctools'], 'time_compile': 6.749064207077026, 'time_performance': 0.011678934097290039, 'time_run': 15.992111682891846, 'time_sanity': 0.050249576568603516, 'time_setup': 0.006397247314453125, 'time_total': 22.84980583190918}]}]}\n"
     ]
    }
   ],
   "source": [
    "print(d)"
   ]
  },
  {
   "cell_type": "code",
   "execution_count": 55,
   "metadata": {},
   "outputs": [
    {
     "data": {
      "text/plain": [
       "dict"
      ]
     },
     "execution_count": 55,
     "metadata": {},
     "output_type": "execute_result"
    }
   ],
   "source": [
    "type(d)"
   ]
  },
  {
   "cell_type": "code",
   "execution_count": 56,
   "metadata": {},
   "outputs": [
    {
     "data": {
      "text/plain": [
       "dict_keys(['session_info', 'runs'])"
      ]
     },
     "execution_count": 56,
     "metadata": {},
     "output_type": "execute_result"
    }
   ],
   "source": [
    "d.keys()"
   ]
  },
  {
   "cell_type": "code",
   "execution_count": 57,
   "metadata": {},
   "outputs": [
    {
     "data": {
      "text/plain": [
       "list"
      ]
     },
     "execution_count": 57,
     "metadata": {},
     "output_type": "execute_result"
    }
   ],
   "source": [
    "type(d['runs'])"
   ]
  },
  {
   "cell_type": "code",
   "execution_count": 58,
   "metadata": {},
   "outputs": [
    {
     "data": {
      "text/plain": [
       "1"
      ]
     },
     "execution_count": 58,
     "metadata": {},
     "output_type": "execute_result"
    }
   ],
   "source": [
    "len(d['runs'])"
   ]
  },
  {
   "cell_type": "code",
   "execution_count": 59,
   "metadata": {},
   "outputs": [
    {
     "data": {
      "text/plain": [
       "dict_keys(['num_cases', 'num_failures', 'runid', 'testcases'])"
      ]
     },
     "execution_count": 59,
     "metadata": {},
     "output_type": "execute_result"
    }
   ],
   "source": [
    "d['runs'][0].keys() # ['perfvars']"
   ]
  },
  {
   "cell_type": "code",
   "execution_count": 60,
   "metadata": {},
   "outputs": [
    {
     "data": {
      "text/plain": [
       "dict_keys(['build_stderr', 'build_stdout', 'description', 'environment', 'fail_reason', 'fail_phase', 'jobid', 'job_stderr', 'job_stdout', 'name', 'maintainers', 'nodelist', 'outputdir', 'perfvars', 'result', 'stagedir', 'scheduler', 'system', 'tags', 'time_compile', 'time_performance', 'time_run', 'time_sanity', 'time_setup', 'time_total'])"
      ]
     },
     "execution_count": 60,
     "metadata": {},
     "output_type": "execute_result"
    }
   ],
   "source": [
    "d['runs'][0]['testcases'][0].keys()"
   ]
  },
  {
   "cell_type": "code",
   "execution_count": 61,
   "metadata": {},
   "outputs": [
    {
     "data": {
      "text/plain": [
       "list"
      ]
     },
     "execution_count": 61,
     "metadata": {},
     "output_type": "execute_result"
    }
   ],
   "source": [
    "type(d['runs'][0]['testcases'][0]['perfvars'])"
   ]
  },
  {
   "cell_type": "code",
   "execution_count": 66,
   "metadata": {},
   "outputs": [
    {
     "name": "stdout",
     "output_type": "stream",
     "text": [
      "SphExa_MPI_Check_1\n",
      "SphExa_MPI_Check_6\n",
      "SphExa_MPI_Check_24\n"
     ]
    }
   ],
   "source": [
    "for ii in range(len(d['runs'][0]['testcases'])):\n",
    "    print(d['runs'][0]['testcases'][ii]['name'])"
   ]
  },
  {
   "cell_type": "code",
   "execution_count": 67,
   "metadata": {},
   "outputs": [
    {
     "data": {
      "text/plain": [
       "13"
      ]
     },
     "execution_count": 67,
     "metadata": {},
     "output_type": "execute_result"
    }
   ],
   "source": [
    "len(d['runs'][0]['testcases'][0]['perfvars'])"
   ]
  },
  {
   "cell_type": "code",
   "execution_count": 35,
   "metadata": {},
   "outputs": [
    {
     "data": {
      "text/plain": [
       "[{'name': 'Elapsed',\n",
       "  'reference': 0,\n",
       "  'thres_lower': None,\n",
       "  'thres_upper': None,\n",
       "  'unit': 's',\n",
       "  'value': 0.8846},\n",
       " {'name': '_Elapsed',\n",
       "  'reference': 0,\n",
       "  'thres_lower': None,\n",
       "  'thres_upper': None,\n",
       "  'unit': 's',\n",
       "  'value': 2}]"
      ]
     },
     "execution_count": 35,
     "metadata": {},
     "output_type": "execute_result"
    }
   ],
   "source": [
    "d['runs'][0]['testcases'][0]['perfvars'][0:2]"
   ]
  },
  {
   "cell_type": "code",
   "execution_count": 36,
   "metadata": {},
   "outputs": [
    {
     "data": {
      "text/plain": [
       "dict_keys(['name', 'reference', 'thres_lower', 'thres_upper', 'unit', 'value'])"
      ]
     },
     "execution_count": 36,
     "metadata": {},
     "output_type": "execute_result"
    }
   ],
   "source": [
    "d['runs'][0]['testcases'][0]['perfvars'][0].keys()"
   ]
  },
  {
   "cell_type": "code",
   "execution_count": 37,
   "metadata": {},
   "outputs": [
    {
     "data": {
      "text/plain": [
       "'Elapsed'"
      ]
     },
     "execution_count": 37,
     "metadata": {},
     "output_type": "execute_result"
    }
   ],
   "source": [
    "d['runs'][0]['testcases'][0]['perfvars'][0]['name']"
   ]
  },
  {
   "cell_type": "code",
   "execution_count": 38,
   "metadata": {},
   "outputs": [
    {
     "data": {
      "text/plain": [
       "0.8846"
      ]
     },
     "execution_count": 38,
     "metadata": {},
     "output_type": "execute_result"
    }
   ],
   "source": [
    "d['runs'][0]['testcases'][0]['perfvars'][0]['value']"
   ]
  },
  {
   "cell_type": "code",
   "execution_count": 39,
   "metadata": {},
   "outputs": [
    {
     "data": {
      "text/plain": [
       "dict"
      ]
     },
     "execution_count": 39,
     "metadata": {},
     "output_type": "execute_result"
    }
   ],
   "source": [
    "type(d['runs'][0]['testcases'][0]['perfvars'][0])"
   ]
  },
  {
   "cell_type": "code",
   "execution_count": 40,
   "metadata": {},
   "outputs": [
    {
     "data": {
      "text/plain": [
       "dict_items([('name', 'Elapsed'), ('reference', 0), ('thres_lower', None), ('thres_upper', None), ('unit', 's'), ('value', 0.8846)])"
      ]
     },
     "execution_count": 40,
     "metadata": {},
     "output_type": "execute_result"
    }
   ],
   "source": [
    "d['runs'][0]['testcases'][0]['perfvars'][0].items()"
   ]
  },
  {
   "cell_type": "markdown",
   "metadata": {},
   "source": [
    "# create dict:"
   ]
  },
  {
   "cell_type": "raw",
   "metadata": {},
   "source": [
    "Elapsed 0.8913 s\n",
    "_Elapsed 2 s\n",
    "mpi_ranks 1 \n",
    "cubeside 30 \n",
    "steps 0 \n",
    "FindNeighbors 0.1224 s\n",
    "MomentumEnergyIAD 0.4107 s\n",
    "%MomentumEnergyIAD 46.08 %\n",
    "%FindNeighbors 13.73 %\n",
    "Total Neighbors 6190320.0 \n",
    "Avg neighbor count per particle 229.0 \n",
    "Total energy 20811200000.0 erg\n",
    "Internal energy 1000000.0 erg"
   ]
  },
  {
   "cell_type": "code",
   "execution_count": 68,
   "metadata": {},
   "outputs": [
    {
     "name": "stdout",
     "output_type": "stream",
     "text": [
      "SphExa_MPI_Check_1 SphExa_MPI_Check_1\n",
      "SphExa_MPI_Check_6 SphExa_MPI_Check_6\n",
      "SphExa_MPI_Check_24 SphExa_MPI_Check_24\n"
     ]
    }
   ],
   "source": [
    "row = {}\n",
    "for ii in range(len(d['runs'][0]['testcases'])):\n",
    "    dd = d['runs'][0]['testcases'][ii]\n",
    "    print(d['runs'][0]['testcases'][ii]['name'], dd['name'])"
   ]
  },
  {
   "cell_type": "code",
   "execution_count": 82,
   "metadata": {},
   "outputs": [
    {
     "name": "stdout",
     "output_type": "stream",
     "text": [
      "xsmall-MPI-gnu 0.8846 6190320.0 229.0 20811200000.0 1000000.0\n",
      "small-MPI-gnu 0.5223 6445844.0 238.5 20811200000.0 999945.5\n",
      "medium-MPI-gnu 10.031 248584201.66666666 248.0 20832300000.0 939592.3333333334\n"
     ]
    }
   ],
   "source": [
    "row = {}\n",
    "for ii in range(len(d['runs'][0]['testcases'])):\n",
    "    dd = d['runs'][0]['testcases'][ii]    \n",
    "    prgenv_ = dd['environment']\n",
    "    prgmodel_ = dd['name']\n",
    "    ll = len(dd['perfvars'])\n",
    "    #print(prgenv_, prgmodel_)\n",
    "    for lll in range(ll):       \n",
    "        name_ = dd['perfvars'][lll]['name']\n",
    "        #value_ = d['runs'][0]['testcases'][0]['perfvars'][lll]['value']\n",
    "        #unit_ = d['runs'][0]['testcases'][0]['perfvars'][lll]['unit']    \n",
    "        if name_ == 'Elapsed':        \n",
    "            #elapsed_ = d['runs'][0]['testcases'][0]['perfvars'][lll]['value']\n",
    "            elapsed_ = dd['perfvars'][lll]['value']\n",
    "        if name_ == 'mpi_ranks':\n",
    "            mpi_ = dd['perfvars'][lll]['value']\n",
    "        if name_ == 'cubeside':\n",
    "            cubeside_ = dd['perfvars'][lll]['value']\n",
    "        if name_ == 'steps':\n",
    "            steps_ = dd['perfvars'][lll]['value']\n",
    "            avg_elapsed_ = elapsed_ / ( steps_ + 1 )\n",
    "        if name_ == 'Total Neighbors':\n",
    "            total_neighb_ = dd['perfvars'][lll]['value']\n",
    "        if name_ == 'Avg neighbor count per particle':\n",
    "            avg_neighb_ = dd['perfvars'][lll]['value']\n",
    "        if name_ == 'Total energy':\n",
    "            total_energy = dd['perfvars'][lll]['value']\n",
    "        if name_ == 'Internal energy':\n",
    "            int_energy = dd['perfvars'][lll]['value']\n",
    "            title_ = cubeside_d[mpi_] + '-' + \\\n",
    "                     prgmodel_.split('_')[1] + '-' + \\\n",
    "                     prgenv_.replace('PrgEnv-', '')\n",
    "        #row[title_] = [total_neighb_, avg_neighb_, total_energy, int_energy]\n",
    "            row[title_] = [avg_elapsed_]\n",
    "            print(title_,\n",
    "                  elapsed_,\n",
    "                  total_neighb_, avg_neighb_,\n",
    "                  total_energy, int_energy)    "
   ]
  },
  {
   "cell_type": "code",
   "execution_count": 83,
   "metadata": {},
   "outputs": [
    {
     "data": {
      "text/plain": [
       "{'xsmall-MPI-gnu': [0.8846],\n",
       " 'small-MPI-gnu': [0.26115],\n",
       " 'medium-MPI-gnu': [3.343666666666667]}"
      ]
     },
     "execution_count": 83,
     "metadata": {},
     "output_type": "execute_result"
    }
   ],
   "source": [
    "row"
   ]
  },
  {
   "cell_type": "code",
   "execution_count": 73,
   "metadata": {},
   "outputs": [
    {
     "data": {
      "text/plain": [
       "['xsmall-MPI-gnu', 'small-MPI-gnu', 'medium-MPI-gnu']"
      ]
     },
     "execution_count": 73,
     "metadata": {},
     "output_type": "execute_result"
    }
   ],
   "source": [
    "rows_labels = list(row.keys())\n",
    "rows_labels"
   ]
  },
  {
   "cell_type": "code",
   "execution_count": 74,
   "metadata": {},
   "outputs": [
    {
     "name": "stdout",
     "output_type": "stream",
     "text": [
      "myplt_data= [[ 0.8846]\n",
      " [ 0.5223]\n",
      " [10.031 ]]\n"
     ]
    }
   ],
   "source": [
    "import numpy as np\n",
    "list_of_lists = [row[k] for k in row.keys()]\n",
    "myplt_data = np.array(list_of_lists)\n",
    "print('myplt_data=', myplt_data)"
   ]
  },
  {
   "cell_type": "code",
   "execution_count": 75,
   "metadata": {},
   "outputs": [
    {
     "data": {
      "text/plain": [
       "{'name': 'Internal energy',\n",
       " 'reference': 0,\n",
       " 'thres_lower': None,\n",
       " 'thres_upper': None,\n",
       " 'unit': 'erg',\n",
       " 'value': 1000000.0}"
      ]
     },
     "execution_count": 75,
     "metadata": {},
     "output_type": "execute_result"
    }
   ],
   "source": [
    "d['runs'][0]['testcases'][0]['perfvars'][lll]"
   ]
  },
  {
   "cell_type": "code",
   "execution_count": 76,
   "metadata": {},
   "outputs": [
    {
     "data": {
      "text/plain": [
       "'PrgEnv-gnu'"
      ]
     },
     "execution_count": 76,
     "metadata": {},
     "output_type": "execute_result"
    }
   ],
   "source": [
    "d['runs'][0]['testcases'][0]['environment']"
   ]
  },
  {
   "cell_type": "markdown",
   "metadata": {},
   "source": [
    "# PLOT"
   ]
  },
  {
   "cell_type": "code",
   "execution_count": 77,
   "metadata": {},
   "outputs": [],
   "source": [
    "from jg import *"
   ]
  },
  {
   "cell_type": "code",
   "execution_count": 78,
   "metadata": {},
   "outputs": [],
   "source": [
    "import numpy as np                                                              \n",
    "import matplotlib                                                               \n",
    "# import matplotlib_terminal                                                      \n",
    "import matplotlib.pyplot as plt                                                 \n",
    "import sys                    "
   ]
  },
  {
   "cell_type": "code",
   "execution_count": 91,
   "metadata": {},
   "outputs": [],
   "source": [
    "#columns_labels = ['Total Neighbors', 'Avg neighbor per particle',\n",
    "#                  'Total energy', 'Internal energy']\n",
    "#columns_labels = ['Elapsed']\n",
    "columns_labels = ['xsmall']\n",
    "columns_labels = ['xsmall', 'small']\n",
    "myplt_data= [[ 0.8846, 0.8846],\n",
    " [ 0.5223, 0.8846], \n",
    " [10.031, 11 ]]"
   ]
  },
  {
   "cell_type": "code",
   "execution_count": 92,
   "metadata": {},
   "outputs": [
    {
     "ename": "AttributeError",
     "evalue": "'list' object has no attribute 'shape'",
     "output_type": "error",
     "traceback": [
      "\u001b[0;31m---------------------------------------------------------------------------\u001b[0m",
      "\u001b[0;31mAttributeError\u001b[0m                            Traceback (most recent call last)",
      "\u001b[0;32m<ipython-input-92-08f6b8d23c18>\u001b[0m in \u001b[0;36m<module>\u001b[0;34m\u001b[0m\n\u001b[1;32m      1\u001b[0m \u001b[0mfig\u001b[0m\u001b[0;34m,\u001b[0m \u001b[0max\u001b[0m \u001b[0;34m=\u001b[0m \u001b[0mplt\u001b[0m\u001b[0;34m.\u001b[0m\u001b[0msubplots\u001b[0m\u001b[0;34m(\u001b[0m\u001b[0;34m)\u001b[0m\u001b[0;34m\u001b[0m\u001b[0;34m\u001b[0m\u001b[0m\n\u001b[1;32m      2\u001b[0m \u001b[0;31m# im, cbar = heatmap(myplt_data, short_rows_labels, columns_labels, ax=ax,\u001b[0m\u001b[0;34m\u001b[0m\u001b[0;34m\u001b[0m\u001b[0;34m\u001b[0m\u001b[0m\n\u001b[0;32m----> 3\u001b[0;31m im, cbar = heatmap(myplt_data, rows_labels, columns_labels, ax=ax,\n\u001b[0m\u001b[1;32m      4\u001b[0m                    cmap=\"YlGn\", cbarlabel=\"Average Execution Time (s/iteration)\")\n\u001b[1;32m      5\u001b[0m                    \u001b[0;31m# cmap=\"YlGn\", cbarlabel=\"Metrics [count|erg]\")\u001b[0m\u001b[0;34m\u001b[0m\u001b[0;34m\u001b[0m\u001b[0;34m\u001b[0m\u001b[0m\n",
      "\u001b[0;32m~/git/jgphpc.git/python/json/jg.py\u001b[0m in \u001b[0;36mheatmap\u001b[0;34m(data, row_labels, col_labels, ax, cbar_kw, cbarlabel, **kwargs)\u001b[0m\n\u001b[1;32m     41\u001b[0m \u001b[0;34m\u001b[0m\u001b[0m\n\u001b[1;32m     42\u001b[0m     \u001b[0;31m# We want to show all ticks...\u001b[0m\u001b[0;34m\u001b[0m\u001b[0;34m\u001b[0m\u001b[0;34m\u001b[0m\u001b[0m\n\u001b[0;32m---> 43\u001b[0;31m     \u001b[0max\u001b[0m\u001b[0;34m.\u001b[0m\u001b[0mset_xticks\u001b[0m\u001b[0;34m(\u001b[0m\u001b[0mnp\u001b[0m\u001b[0;34m.\u001b[0m\u001b[0marange\u001b[0m\u001b[0;34m(\u001b[0m\u001b[0mdata\u001b[0m\u001b[0;34m.\u001b[0m\u001b[0mshape\u001b[0m\u001b[0;34m[\u001b[0m\u001b[0;36m1\u001b[0m\u001b[0;34m]\u001b[0m\u001b[0;34m)\u001b[0m\u001b[0;34m)\u001b[0m\u001b[0;34m\u001b[0m\u001b[0;34m\u001b[0m\u001b[0m\n\u001b[0m\u001b[1;32m     44\u001b[0m     \u001b[0max\u001b[0m\u001b[0;34m.\u001b[0m\u001b[0mset_yticks\u001b[0m\u001b[0;34m(\u001b[0m\u001b[0mnp\u001b[0m\u001b[0;34m.\u001b[0m\u001b[0marange\u001b[0m\u001b[0;34m(\u001b[0m\u001b[0mdata\u001b[0m\u001b[0;34m.\u001b[0m\u001b[0mshape\u001b[0m\u001b[0;34m[\u001b[0m\u001b[0;36m0\u001b[0m\u001b[0;34m]\u001b[0m\u001b[0;34m)\u001b[0m\u001b[0;34m)\u001b[0m\u001b[0;34m\u001b[0m\u001b[0;34m\u001b[0m\u001b[0m\n\u001b[1;32m     45\u001b[0m     \u001b[0;31m# ... and label them with the respective list entries.\u001b[0m\u001b[0;34m\u001b[0m\u001b[0;34m\u001b[0m\u001b[0;34m\u001b[0m\u001b[0m\n",
      "\u001b[0;31mAttributeError\u001b[0m: 'list' object has no attribute 'shape'"
     ]
    },
    {
     "data": {
      "image/png": "[encoded data removed]",
      "text/plain": [
       "<Figure size 432x288 with 2 Axes>"
      ]
     },
     "metadata": {
      "needs_background": "light"
     },
     "output_type": "display_data"
    }
   ],
   "source": [
    "fig, ax = plt.subplots()\n",
    "# im, cbar = heatmap(myplt_data, short_rows_labels, columns_labels, ax=ax,\n",
    "im, cbar = heatmap(myplt_data, rows_labels, columns_labels, ax=ax,\n",
    "                   cmap=\"YlGn\", cbarlabel=\"Average Execution Time (s/iteration)\")\n",
    "                   # cmap=\"YlGn\", cbarlabel=\"Metrics [count|erg]\")\n",
    "texts = annotate_heatmap(im, valfmt=\"{x:.1f} s\")\n",
    "fig.tight_layout()\n",
    "plt.show()       \n",
    "#ok plt.savefig('heatmap_matplot_sqpatch.png')\n",
    "plt.close()"
   ]
  },
  {
   "cell_type": "code",
   "execution_count": null,
   "metadata": {},
   "outputs": [],
   "source": []
  },
  {
   "cell_type": "markdown",
   "metadata": {},
   "source": [
    "# old"
   ]
  },
  {
   "cell_type": "code",
   "execution_count": null,
   "metadata": {},
   "outputs": [],
   "source": [
    "[ vv for kk,vv in dd.items() if kk.startswith('check')]"
   ]
  },
  {
   "cell_type": "code",
   "execution_count": null,
   "metadata": {},
   "outputs": [],
   "source": [
    "for kk,vv in dd.items():\n",
    "    if kk.startswith('check'):\n",
    "        print(\"%s = %s\" % (kk,vv))"
   ]
  },
  {
   "cell_type": "code",
   "execution_count": null,
   "metadata": {},
   "outputs": [],
   "source": [
    "dd['check_perf_value'], dd['check_perf_ref'], dd['check_perf_unit']"
   ]
  },
  {
   "cell_type": "code",
   "execution_count": null,
   "metadata": {},
   "outputs": [],
   "source": [
    "ll = list(dd.keys())\n",
    "ll.sort()\n",
    "ll"
   ]
  },
  {
   "cell_type": "code",
   "execution_count": null,
   "metadata": {},
   "outputs": [],
   "source": [
    "f = open('./gmx.json')\n",
    "dg = json.load(f)\n",
    "f.close()"
   ]
  },
  {
   "cell_type": "code",
   "execution_count": null,
   "metadata": {},
   "outputs": [],
   "source": [
    "ddgl = dg['_source']\n",
    "ddgl['check_perf_value'], ddgl['check_perf_ref'], ddgl['check_perf_unit']"
   ]
  },
  {
   "cell_type": "code",
   "execution_count": null,
   "metadata": {},
   "outputs": [],
   "source": [
    "ddgl2 = list(ddgl.keys())\n",
    "ddgl2"
   ]
  },
  {
   "cell_type": "code",
   "execution_count": null,
   "metadata": {},
   "outputs": [],
   "source": [
    "ddgl2.sort()"
   ]
  },
  {
   "cell_type": "code",
   "execution_count": null,
   "metadata": {},
   "outputs": [],
   "source": [
    "ddgl2[1:16]"
   ]
  },
  {
   "cell_type": "code",
   "execution_count": null,
   "metadata": {},
   "outputs": [],
   "source": [
    "ll[1:16]"
   ]
  },
  {
   "cell_type": "code",
   "execution_count": null,
   "metadata": {},
   "outputs": [],
   "source": [
    "ddgl2[1:16] == ll[1:16]"
   ]
  },
  {
   "cell_type": "code",
   "execution_count": null,
   "metadata": {},
   "outputs": [],
   "source": [
    "for i in range(16):\n",
    "    print(ddgl2[i], ll[i], ddgl2[i] == ll[i])"
   ]
  }
 ],
 "metadata": {
  "kernelspec": {
   "display_name": "Python 3",
   "language": "python",
   "name": "python3"
  },
  "language_info": {
   "codemirror_mode": {
    "name": "ipython",
    "version": 3
   },
   "file_extension": ".py",
   "mimetype": "text/x-python",
   "name": "python",
   "nbconvert_exporter": "python",
   "pygments_lexer": "ipython3",
   "version": "3.8.2"
  }
 },
 "nbformat": 4,
 "nbformat_minor": 4
}
