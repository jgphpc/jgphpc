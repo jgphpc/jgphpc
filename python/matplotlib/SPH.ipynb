{
 "cells": [
  {
   "cell_type": "code",
   "execution_count": 1,
   "metadata": {},
   "outputs": [],
   "source": [
    "rows = []\n",
    "### awk '{print \"rows.append({XmpiX: X\"$1\"cX, XelapsedX:\"$2\" ,XcontainerX: XsarusX, XgyreX: 40, XstepsX: 50})\"}' in0 |tr X \\'\n",
    "# native:\n",
    "rows.append({'mpi': '0006c', 'elapsed':662.75 ,'container': 'native', 'gyre': 40, 'steps': 50})\n",
    "rows.append({'mpi': '0012c', 'elapsed':553.798 ,'container': 'native', 'gyre': 40, 'steps': 50})\n",
    "rows.append({'mpi': '0024c', 'elapsed':268.994 ,'container': 'native', 'gyre': 40, 'steps': 50})\n",
    "rows.append({'mpi': '0096c', 'elapsed':58.9833 ,'container': 'native', 'gyre': 40, 'steps': 50})\n",
    "rows.append({'mpi': '0384c', 'elapsed':14.918 ,'container': 'native', 'gyre': 40, 'steps': 50})\n",
    "rows.append({'mpi': '1536c', 'elapsed':3.30672 ,'container': 'native', 'gyre': 40, 'steps': 50})\n",
    "# sarus:\n",
    "rows.append({'mpi': '0012c', 'elapsed':563.710 ,'container': 'sarus', 'gyre': 40, 'steps': 50})\n",
    "rows.append({'mpi': '0024c', 'elapsed':272.303 ,'container': 'sarus', 'gyre': 40, 'steps': 50})\n",
    "rows.append({'mpi': '0096c', 'elapsed':58.749 ,'container': 'sarus', 'gyre': 40, 'steps': 50})\n",
    "rows.append({'mpi': '0384c', 'elapsed':14.811 ,'container': 'sarus', 'gyre': 40, 'steps': 50})\n",
    "rows.append({'mpi': '1536c', 'elapsed':3.192 ,'container': 'sarus', 'gyre': 40, 'steps': 50})"
   ]
  },
  {
   "cell_type": "code",
   "execution_count": 2,
   "metadata": {},
   "outputs": [
    {
     "data": {
      "text/plain": [
       "[{'mpi': '0006c',\n",
       "  'elapsed': 662.75,\n",
       "  'container': 'native',\n",
       "  'gyre': 40,\n",
       "  'steps': 50},\n",
       " {'mpi': '0012c',\n",
       "  'elapsed': 553.798,\n",
       "  'container': 'native',\n",
       "  'gyre': 40,\n",
       "  'steps': 50},\n",
       " {'mpi': '0024c',\n",
       "  'elapsed': 268.994,\n",
       "  'container': 'native',\n",
       "  'gyre': 40,\n",
       "  'steps': 50},\n",
       " {'mpi': '0096c',\n",
       "  'elapsed': 58.9833,\n",
       "  'container': 'native',\n",
       "  'gyre': 40,\n",
       "  'steps': 50},\n",
       " {'mpi': '0384c',\n",
       "  'elapsed': 14.918,\n",
       "  'container': 'native',\n",
       "  'gyre': 40,\n",
       "  'steps': 50},\n",
       " {'mpi': '1536c',\n",
       "  'elapsed': 3.30672,\n",
       "  'container': 'native',\n",
       "  'gyre': 40,\n",
       "  'steps': 50},\n",
       " {'mpi': '0012c',\n",
       "  'elapsed': 563.71,\n",
       "  'container': 'sarus',\n",
       "  'gyre': 40,\n",
       "  'steps': 50},\n",
       " {'mpi': '0024c',\n",
       "  'elapsed': 272.303,\n",
       "  'container': 'sarus',\n",
       "  'gyre': 40,\n",
       "  'steps': 50},\n",
       " {'mpi': '0096c',\n",
       "  'elapsed': 58.749,\n",
       "  'container': 'sarus',\n",
       "  'gyre': 40,\n",
       "  'steps': 50},\n",
       " {'mpi': '0384c',\n",
       "  'elapsed': 14.811,\n",
       "  'container': 'sarus',\n",
       "  'gyre': 40,\n",
       "  'steps': 50},\n",
       " {'mpi': '1536c',\n",
       "  'elapsed': 3.192,\n",
       "  'container': 'sarus',\n",
       "  'gyre': 40,\n",
       "  'steps': 50}]"
      ]
     },
     "execution_count": 2,
     "metadata": {},
     "output_type": "execute_result"
    }
   ],
   "source": [
    "rows"
   ]
  },
  {
   "cell_type": "code",
   "execution_count": 5,
   "metadata": {},
   "outputs": [
    {
     "data": {
      "image/png": "[encoded data removed]",
      "text/plain": [
       "<Figure size 432x288 with 1 Axes>"
      ]
     },
     "metadata": {
      "needs_background": "light"
     },
     "output_type": "display_data"
    }
   ],
   "source": [
    "import matplotlib\n",
    "import matplotlib.pyplot as plt\n",
    "import numpy as np\n",
    "\n",
    "labels = ['G1', 'G2', 'G3', 'G4', 'G5']\n",
    "men_means = [20, 34, 30, 35, 27]\n",
    "women_means = [25, 32, 34, 20, 25]\n",
    "\n",
    "x = np.arange(len(labels))  # the label locations\n",
    "width = 0.35  # the width of the bars\n",
    "\n",
    "fig, ax = plt.subplots()\n",
    "rects1 = ax.bar(x - width/2, men_means, width, label='Men')\n",
    "rects2 = ax.bar(x + width/2, women_means, width, label='Women')\n",
    "\n",
    "# Add some text for labels, title and custom x-axis tick labels, etc.\n",
    "ax.set_ylabel('Scores')\n",
    "ax.set_title('Scores by group and gender')\n",
    "ax.set_xticks(x)\n",
    "ax.set_xticklabels(labels)\n",
    "ax.legend()\n",
    "\n",
    "\n",
    "def autolabel(rects):\n",
    "    \"\"\"Attach a text label above each bar in *rects*, displaying its height.\"\"\"\n",
    "    for rect in rects:\n",
    "        height = rect.get_height()\n",
    "        ax.annotate('{}'.format(height),\n",
    "                    xy=(rect.get_x() + rect.get_width() / 2, height),\n",
    "                    xytext=(0, 3),  # 3 points vertical offset\n",
    "                    textcoords=\"offset points\",\n",
    "                    ha='center', va='bottom')\n",
    "\n",
    "\n",
    "autolabel(rects1)\n",
    "autolabel(rects2)"
   ]
  },
  {
   "cell_type": "code",
   "execution_count": 88,
   "metadata": {},
   "outputs": [
    {
     "data": {
      "text/plain": [
       "matplotlib.container.BarContainer"
      ]
     },
     "execution_count": 88,
     "metadata": {},
     "output_type": "execute_result"
    }
   ],
   "source": [
    "type(rects1)"
   ]
  },
  {
   "cell_type": "code",
   "execution_count": 4,
   "metadata": {},
   "outputs": [],
   "source": [
    "fig.tight_layout()\n",
    "plt.show()"
   ]
  },
  {
   "cell_type": "code",
   "execution_count": 6,
   "metadata": {},
   "outputs": [
    {
     "data": {
      "image/png": "[encoded data removed]",
      "text/plain": [
       "<Figure size 432x288 with 1 Axes>"
      ]
     },
     "metadata": {
      "needs_background": "light"
     },
     "output_type": "display_data"
    }
   ],
   "source": [
    "# https://matplotlib.org/gallery/misc/table_demo.html#sphx-glr-gallery-misc-table-demo-py\n",
    "import numpy as np\n",
    "import matplotlib.pyplot as plt\n",
    "\n",
    "\n",
    "data = [[ 66386, 174296,  75131, 577908,  32015],\n",
    "        [ 58230, 381139,  78045,  99308, 160454],\n",
    "        [ 89135,  80552, 152558, 497981, 603535],\n",
    "        [ 78415,  81858, 150656, 193263,  69638],\n",
    "        [139361, 331509, 343164, 781380,  52269]]\n",
    "\n",
    "columns = ('Freeze', 'Wind', 'Flood', 'Quake', 'Hail')\n",
    "rows = ['%d year' % x for x in (100, 50, 20, 10, 5)]\n",
    "\n",
    "values = np.arange(0, 2500, 500)\n",
    "value_increment = 1000\n",
    "\n",
    "# Get some pastel shades for the colors\n",
    "colors = plt.cm.BuPu(np.linspace(0, 0.5, len(rows)))\n",
    "n_rows = len(data)\n",
    "\n",
    "index = np.arange(len(columns)) + 0.3\n",
    "bar_width = 0.4\n",
    "\n",
    "# Initialize the vertical-offset for the stacked bar chart.\n",
    "y_offset = np.zeros(len(columns))\n",
    "\n",
    "# Plot bars and create text labels for the table\n",
    "cell_text = []\n",
    "for row in range(n_rows):\n",
    "    plt.bar(index, data[row], bar_width, bottom=y_offset, color=colors[row])\n",
    "    y_offset = y_offset + data[row]\n",
    "    cell_text.append(['%1.1f' % (x / 1000.0) for x in y_offset])\n",
    "# Reverse colors and text labels to display the last value at the top.\n",
    "colors = colors[::-1]\n",
    "cell_text.reverse()\n",
    "\n",
    "# Add a table at the bottom of the axes\n",
    "the_table = plt.table(cellText=cell_text,\n",
    "                      rowLabels=rows,\n",
    "                      rowColours=colors,\n",
    "                      colLabels=columns,\n",
    "                      loc='bottom')\n",
    "\n",
    "# Adjust layout to make room for the table:\n",
    "plt.subplots_adjust(left=0.2, bottom=0.2)\n",
    "\n",
    "plt.ylabel(\"Loss in ${0}'s\".format(value_increment))\n",
    "plt.yticks(values * value_increment, ['%d' % val for val in values])\n",
    "plt.xticks([])\n",
    "plt.title('Loss by Disaster')\n",
    "\n",
    "plt.show()"
   ]
  },
  {
   "cell_type": "code",
   "execution_count": 7,
   "metadata": {},
   "outputs": [
    {
     "data": {
      "image/png": "[encoded data removed]",
      "text/plain": [
       "<Figure size 640x480 with 1 Axes>"
      ]
     },
     "metadata": {},
     "output_type": "display_data"
    }
   ],
   "source": [
    "# https://matplotlib.org/gallery/lines_bars_and_markers/barh.html#sphx-glr-gallery-lines-bars-and-markers-barh-py\n",
    "import matplotlib.pyplot as plt\n",
    "import numpy as np\n",
    "\n",
    "# Fixing random state for reproducibility\n",
    "np.random.seed(19680801)\n",
    "\n",
    "\n",
    "plt.rcdefaults()\n",
    "fig, ax = plt.subplots()\n",
    "\n",
    "# Example data\n",
    "people = ('Tom', 'Dick', 'Harry', 'Slim', 'Jim')\n",
    "y_pos = np.arange(len(people))\n",
    "performance = 3 + 10 * np.random.rand(len(people))\n",
    "error = np.random.rand(len(people))\n",
    "\n",
    "ax.barh(y_pos, performance, xerr=error, align='center')\n",
    "ax.set_yticks(y_pos)\n",
    "ax.set_yticklabels(people)\n",
    "ax.invert_yaxis()  # labels read top-to-bottom\n",
    "ax.set_xlabel('Performance')\n",
    "ax.set_title('How fast do you want to go today?')\n",
    "\n",
    "plt.show()"
   ]
  },
  {
   "cell_type": "code",
   "execution_count": 26,
   "metadata": {},
   "outputs": [],
   "source": [
    "in1='0.in'\n",
    "exec(open(in1).read())"
   ]
  },
  {
   "cell_type": "code",
   "execution_count": 30,
   "metadata": {},
   "outputs": [
    {
     "data": {
      "text/plain": [
       "{'pe': 'PrgEnv-pgi',\n",
       " 'ntasks': 1,\n",
       " 'elapsed': 7.3506,\n",
       " 'tot_neighb': 6707644,\n",
       " 'avg_neighb': 248,\n",
       " 'tot_nrg': 20814700000.0,\n",
       " 'int_nrg': -254600.0}"
      ]
     },
     "execution_count": 30,
     "metadata": {},
     "output_type": "execute_result"
    }
   ],
   "source": [
    "mydata['mpi+omp']['xsmall']"
   ]
  },
  {
   "cell_type": "code",
   "execution_count": 87,
   "metadata": {},
   "outputs": [
    {
     "name": "stdout",
     "output_type": "stream",
     "text": [
      "large mpi+omp PrgEnv-pgi -1\n",
      "large mpi+omp+acc x -1\n",
      "large mpi+omp+cuda PrgEnv-gnu 6746728736\n",
      "large mpi+omp+target PrgEnv-cray 6746728736\n",
      "\n",
      "medium mpi+omp PrgEnv-pgi 249279719\n",
      "medium mpi+omp+acc x -1\n",
      "medium mpi+omp+cuda PrgEnv-gnu 249279719\n",
      "medium mpi+omp+target PrgEnv-cray 249279719\n",
      "\n",
      "small mpi+omp PrgEnv-pgi 6748609\n",
      "small mpi+omp+acc PrgEnv-pgi 6751293\n",
      "small mpi+omp+cuda PrgEnv-gnu 6753118\n",
      "small mpi+omp+target PrgEnv-cray 6748609\n",
      "\n",
      "xsmall mpi+omp PrgEnv-pgi 6707644\n",
      "xsmall mpi+omp+acc PrgEnv-pgi 6707644\n",
      "xsmall mpi+omp+cuda PrgEnv-gnu 6707644\n",
      "xsmall mpi+omp+target PrgEnv-cray 6707644\n",
      "\n"
     ]
    }
   ],
   "source": [
    "for dim in mydata['mpi+omp'].keys():\n",
    "    # dim = ['large', 'medium', 'small', 'xsmall']\n",
    "    # exe = ['mpi+omp', 'mpi+omp+acc', 'mpi+omp+cuda', 'mpi+omp+target']\n",
    "    for exe in mydata.keys():\n",
    "        print(dim, exe, end=' ')\n",
    "        try:\n",
    "            print(mydata[exe][dim]['pe'], mydata[exe][dim]['tot_neighb'])\n",
    "        except:\n",
    "            print('x -1')\n",
    "    print()"
   ]
  }
 ],
 "metadata": {
  "kernelspec": {
   "display_name": "Python 3",
   "language": "python",
   "name": "python3"
  },
  "language_info": {
   "codemirror_mode": {
    "name": "ipython",
    "version": 3
   },
   "file_extension": ".py",
   "mimetype": "text/x-python",
   "name": "python",
   "nbconvert_exporter": "python",
   "pygments_lexer": "ipython3",
   "version": "3.7.6"
  }
 },
 "nbformat": 4,
 "nbformat_minor": 4
}
