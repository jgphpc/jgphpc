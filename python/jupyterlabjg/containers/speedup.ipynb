{
 "cells": [
  {
   "cell_type": "code",
   "execution_count": 1,
   "metadata": {
    "collapsed": false
   },
   "outputs": [
    {
     "name": "stdout",
     "output_type": "stream",
     "text": [
      "sys version= 3.5.2 (default, Nov 23 2017, 16:37:01) \n",
      "[GCC 5.4.0 20160609]\n",
      "done\n"
     ]
    }
   ],
   "source": [
    "%reset -f\n",
    "%matplotlib inline\n",
    "import numpy as np\n",
    "import matplotlib.pyplot as plt\n",
    "#import matplotlib\n",
    "#print('matplotlib version=',matplotlib.__version__)\n",
    "import matplotlib.ticker as ticker\n",
    "# http://matplotlib.sourceforge.net/faq/howto_faq.html#multiple-y-axis-scales\n",
    "import sys\n",
    "print('sys version=',sys.version)\n",
    "# ----------------------------------------\n",
    "def ticks_cn2c(CN):\n",
    "    #V = 1/(1+X)\n",
    "    C = CN*12\n",
    "    return [\"%.0f\" % c for c in C]\n",
    "# ----------------------------------------\n",
    "\n",
    "print('done')"
   ]
  },
  {
   "cell_type": "markdown",
   "metadata": {},
   "source": [
    "# Strong scaling results"
   ]
  },
  {
   "cell_type": "code",
   "execution_count": 4,
   "metadata": {
    "collapsed": false
   },
   "outputs": [
    {
     "name": "stdout",
     "output_type": "stream",
     "text": [
      "daint_sec= [317.506, 194.92, 130.784, 84.7541, 68.3856, 47.2624, 32.8842, 27.5419]\n",
      "daint_secperstep= [0.00793765, 0.004873, 0.0032695999999999997, 0.0021188525, 0.00170964, 0.00118156, 0.000822105, 0.0006885474999999999]\n"
     ]
    }
   ],
   "source": [
    "# --- input data:\n",
    "app='lammps' ;testcase='water_collapse'\n",
    "if app=='lammps' and testcase=='water_collapse': \n",
    "    titlejg='LAMMPS/16Jul2018-CrayGNU-18.07-cuda-9.1\\n(water_collapse, 9702 water particles, 40000 steps)'\n",
    "    pdfjg='lammps_water'\n",
    "    cores = [1,2,4,8,12,24,48,96]\n",
    "    daintgpu_sec = [317.506,194.920,130.784,84.7541,68.3856,47.2624,32.8842,27.5419] # list\n",
    "    nsteps=40000\n",
    "    daintgpu_secperstep = [tt/nsteps for tt in daintgpu_sec] # list                                        \n",
    "    #mn4_sec = [None,None,11.9, 5.9, 4.2, 2.8, 3.1]\n",
    "print('daint_sec=',daintgpu_sec)\n",
    "print('daint_secperstep=',daintgpu_secperstep)"
   ]
  },
  {
   "cell_type": "code",
   "execution_count": 5,
   "metadata": {
    "collapsed": false
   },
   "outputs": [
    {
     "name": "stdout",
     "output_type": "stream",
     "text": [
      "LAMMPS/16Jul2018-CrayGNU-18.07-cuda-9.1\n",
      "(water_collapse, 9702 water particles, 40000 steps)\n"
     ]
    },
    {
     "data": {
      "image/png": "[encoded data removed]",
      "text/plain": [
       "<Figure size 432x288 with 2 Axes>"
      ]
     },
     "metadata": {},
     "output_type": "display_data"
    }
   ],
   "source": [
    "# --- setup figure:\n",
    "# Turn interactive plotting off\n",
    "# https://stackoverflow.com/questions/15713279/calling-pylab-savefig-without-display-in-ipython\n",
    "plt.ioff()\n",
    "plt.clf()\n",
    "#plt.close(1)\n",
    "#fig = plt.figure(figsize=(150,150), linewidth=50) # horizontal, vertical\n",
    "#fig = plt.figure(figsize=plt.figaspect(2.)) # horizontal, vertical\n",
    "fig = plt.figure(1) # horizontal, vertical # <--------------------------------\n",
    "#plt.rc('font', size=300)\n",
    "\n",
    "# --------------------------------------------------\n",
    "ax1 = fig.add_subplot(121) # nrows, ncols and index\n",
    "#ax1.set_title(titlejg, fontsize=10)\n",
    "ax1.set_xscale('log')\n",
    "ax1.set_yscale('linear')\n",
    "#ax1.set_yscale('log')\n",
    "# ax1.loglog()\n",
    "## x axis1:\n",
    "ax1.set_xlabel(r\"CPU cores (daint-gpu=12c/cn)\")\n",
    "ax1.set_ylabel('Time per timestep (seconds)')\n",
    "#ax1.xaxis.set_major_locator(ticker.FixedLocator([1,2,4,8,16])) # ticks x1\n",
    "ax1.xaxis.set_major_locator(ticker.FixedLocator( np.array(cores) )) # ticks x1\n",
    "ax1.xaxis.set_major_formatter(ticker.ScalarFormatter())\n",
    "#ax1.set_xticks([24])\n",
    "plt.grid(True)\n",
    "ax1.plot(cores, daintgpu_secperstep, 'ro-', label='', markersize=10)  # , linewidth=3\n",
    "\n",
    "# --------------------------------------------------\n",
    "ax2 = fig.add_subplot(122) # nrows, ncols and index\n",
    "#ax2.set_title(titlejg, fontsize=10)\n",
    "ax2.set_xscale('log')\n",
    "ax2.set_yscale('log')\n",
    "ax2.set_xlabel(r\"CPU cores (daint-gpu=12c/cn)\")\n",
    "ax2.set_ylabel('Elapsed time (seconds)')\n",
    "ax2.xaxis.set_major_locator(ticker.FixedLocator( np.array(cores) )) # ticks x1\n",
    "ax2.xaxis.set_major_formatter(ticker.ScalarFormatter())\n",
    "plt.grid(True)\n",
    "ax2.plot(cores, daintgpu_sec, 'ro-', label='', markersize=10)  # , linewidth=3\n",
    "\n",
    "# --------------------------------------------------\n",
    "plt.tick_params(\n",
    "    axis='y',        # changes apply to the x-axis\n",
    "    which='minor',   # both major and minor ticks are affected\n",
    "    left=False,      # ticks along the left edge are off\n",
    "    right=False,     # ticks along the right edge are off\n",
    "    labelleft=False  # labels along the left edge are off\n",
    ") \n",
    "\n",
    "#plt.legend(loc='upper right', frameon=False)\n",
    "#plt.grid(True)\n",
    "#### plt.savefig(fname='./2018/'+pdfjg+'.pdf')\n",
    "print(titlejg)\n",
    "plt.tight_layout()\n",
    "plt.show()"
   ]
  },
  {
   "cell_type": "markdown",
   "metadata": {},
   "source": [
    "# Speedup and Parallel Efficiency"
   ]
  },
  {
   "cell_type": "code",
   "execution_count": 7,
   "metadata": {
    "collapsed": true
   },
   "outputs": [],
   "source": [
    "# http://www.vi-hps.org/upload/material/alechile12/vi-hps-alechile12-Intro_PerfAnal.pdf\n",
    "\n",
    "# lists:\n",
    "def ideal_speedup(inlist):\n",
    "# ideal_speedup = cnn / cn1\n",
    "    outlist = [] # list\n",
    "    cn1 = inlist[0] # [0]\n",
    "    for ccc in inlist:\n",
    "        outlist.append(ccc)\n",
    "    return outlist\n",
    "\n",
    "def speedup(inlist):\n",
    "# speedup = t1 / tn\n",
    "    outlist = [] # list\n",
    "    t1 = inlist[0]\n",
    "    for tt in inlist:\n",
    "        outlist.append(t1/tt)\n",
    "    return outlist\n",
    "\n",
    "def parallel_efficiency(inlistS, inlistC):\n",
    "# parallel_efficiency = speedupn / cnn\n",
    "    outlist = [] # list\n",
    "    nn = 0\n",
    "    for ss in inlistS:        \n",
    "        outlist.append(ss / inlistC[nn] * 100)\n",
    "        nn += 1\n",
    "    return outlist"
   ]
  },
  {
   "cell_type": "code",
   "execution_count": 9,
   "metadata": {
    "collapsed": false
   },
   "outputs": [
    {
     "name": "stdout",
     "output_type": "stream",
     "text": [
      "ok\n"
     ]
    }
   ],
   "source": [
    "# from IPython.display import display, Markdown\n",
    "# display(Markdown('*some markdown* $\\phi$'))\n",
    "# https://stackoverflow.com/questions/25698448/how-to-embed-html-into-ipython-output\n",
    "import io\n",
    "from IPython.core.display import HTML\n",
    "def html_table(np, tt, ss, iss, peff):\n",
    "    strjg = '<table><thead><tr> <th>np</th> <th>mpi tasks</th> <th>seconds</th> <th>speedup</th> <th>// efficiency</th> </tr></thead>'\n",
    "    strjg += '<tbody>'\n",
    "\n",
    "    bufjg = io.StringIO()\n",
    "    nnn=0\n",
    "    for vv in peff:\n",
    "        print(\"<tr> <th>{0}</th> <td>{1:02d}</td> <td> {2:8.2f}</td> <td> {3:5.1f}/{4:03.0f}</td> <td> {5:03.0f}%</td> </tr>\"\n",
    "          .format(np, cores[nnn] ,tt[nnn] ,ss[nnn], iss[nnn] ,vv), file=bufjg )    \n",
    "        nnn=nnn+1\n",
    "\n",
    "    strjg += bufjg.getvalue()    \n",
    "    bufjg.close()\n",
    "    strjg += '</tbody></table>'\n",
    "    #print('strjg=',strjg)\n",
    "    #HTML(strjg)\n",
    "    return strjg\n",
    "\n",
    "print('ok')"
   ]
  },
  {
   "cell_type": "code",
   "execution_count": 10,
   "metadata": {
    "collapsed": false
   },
   "outputs": [
    {
     "data": {
      "text/html": [
       "<table><thead><tr> <th>np</th> <th>mpi tasks</th> <th>seconds</th> <th>speedup</th> <th>// efficiency</th> </tr></thead><tbody><tr> <th>15702</th> <td>01</td> <td>   317.51</td> <td>   1.0/001</td> <td> 100%</td> </tr>\n",
       "<tr> <th>15702</th> <td>02</td> <td>   194.92</td> <td>   1.6/002</td> <td> 081%</td> </tr>\n",
       "<tr> <th>15702</th> <td>04</td> <td>   130.78</td> <td>   2.4/004</td> <td> 061%</td> </tr>\n",
       "<tr> <th>15702</th> <td>08</td> <td>    84.75</td> <td>   3.7/008</td> <td> 047%</td> </tr>\n",
       "<tr> <th>15702</th> <td>12</td> <td>    68.39</td> <td>   4.6/012</td> <td> 039%</td> </tr>\n",
       "<tr> <th>15702</th> <td>24</td> <td>    47.26</td> <td>   6.7/024</td> <td> 028%</td> </tr>\n",
       "<tr> <th>15702</th> <td>48</td> <td>    32.88</td> <td>   9.7/048</td> <td> 020%</td> </tr>\n",
       "<tr> <th>15702</th> <td>96</td> <td>    27.54</td> <td>  11.5/096</td> <td> 012%</td> </tr>\n",
       "</tbody></table>"
      ],
      "text/plain": [
       "<IPython.core.display.HTML object>"
      ]
     },
     "execution_count": 10,
     "metadata": {},
     "output_type": "execute_result"
    }
   ],
   "source": [
    "npart=15702\n",
    "isp=ideal_speedup(cores)\n",
    "sp=speedup(daintgpu_sec)\n",
    "peff=parallel_efficiency(sp,cores)\n",
    "#print(isp,sp,peff)\n",
    "HTML( html_table(npart, daintgpu_sec, sp, isp, peff) )\n",
    "#no!!! print('after')"
   ]
  }
 ],
 "metadata": {
  "kernelspec": {
   "display_name": "Python 3",
   "language": "python",
   "name": "python3"
  },
  "language_info": {
   "codemirror_mode": {
    "name": "ipython",
    "version": 3
   },
   "file_extension": ".py",
   "mimetype": "text/x-python",
   "name": "python",
   "nbconvert_exporter": "python",
   "pygments_lexer": "ipython3",
   "version": "3.5.2"
  }
 },
 "nbformat": 4,
 "nbformat_minor": 2
}
