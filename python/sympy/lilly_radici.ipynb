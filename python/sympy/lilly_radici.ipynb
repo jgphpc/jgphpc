{
 "cells": [
  {
   "cell_type": "code",
   "execution_count": 4,
   "metadata": {},
   "outputs": [],
   "source": [
    "from __future__ import division\n",
    "from sympy import *"
   ]
  },
  {
   "cell_type": "code",
   "execution_count": 5,
   "metadata": {},
   "outputs": [],
   "source": [
    "x, y, z, t = symbols('x y z t')\n",
    "k, m, n = symbols('k m n', integer=True)\n",
    "f, g, h = symbols('f g h', cls=Function)\n",
    "init_printing()"
   ]
  },
  {
   "cell_type": "code",
   "execution_count": 6,
   "metadata": {},
   "outputs": [
    {
     "data": {
      "image/png": "[encoded data removed]",
      "text/latex": [
       "$\\displaystyle x^{2} + \\frac{x}{3}$"
      ],
      "text/plain": [
       " 2   x\n",
       "x  + ─\n",
       "     3"
      ]
     },
     "execution_count": 6,
     "metadata": {},
     "output_type": "execute_result"
    }
   ],
   "source": [
    "x/3+x**2"
   ]
  },
  {
   "cell_type": "code",
   "execution_count": 7,
   "metadata": {},
   "outputs": [
    {
     "data": {
      "image/png": "[encoded data removed]",
      "text/latex": [
       "$\\displaystyle \\sqrt{x}$"
      ],
      "text/plain": [
       "√x"
      ]
     },
     "execution_count": 7,
     "metadata": {},
     "output_type": "execute_result"
    }
   ],
   "source": [
    "from sympy import sqrt\n",
    "sqrt(x)"
   ]
  },
  {
   "cell_type": "code",
   "execution_count": 8,
   "metadata": {},
   "outputs": [
    {
     "data": {
      "image/png": "[encoded data removed]",
      "text/latex": [
       "$\\displaystyle \\sqrt{x^{2}}$"
      ],
      "text/plain": [
       "   ____\n",
       "  ╱  2 \n",
       "╲╱  x  "
      ]
     },
     "execution_count": 8,
     "metadata": {},
     "output_type": "execute_result"
    }
   ],
   "source": [
    "simplify(sqrt(x*x))"
   ]
  },
  {
   "cell_type": "code",
   "execution_count": 9,
   "metadata": {},
   "outputs": [
    {
     "data": {
      "image/png": "[encoded data removed]",
      "text/latex": [
       "$\\displaystyle \\operatorname{Cbrt}{\\left(x \\right)}$"
      ],
      "text/plain": [
       "Cbrt(x)"
      ]
     },
     "execution_count": 9,
     "metadata": {},
     "output_type": "execute_result"
    }
   ],
   "source": [
    "from sympy.codegen.cfunctions import Cbrt\n",
    "Cbrt(x)"
   ]
  },
  {
   "cell_type": "code",
   "execution_count": 10,
   "metadata": {},
   "outputs": [
    {
     "data": {
      "image/png": "[encoded data removed]",
      "text/latex": [
       "$\\displaystyle \\sqrt[3]{x}$"
      ],
      "text/plain": [
       "3 ___\n",
       "╲╱ x "
      ]
     },
     "execution_count": 10,
     "metadata": {},
     "output_type": "execute_result"
    }
   ],
   "source": [
    "cbrt(x)"
   ]
  },
  {
   "cell_type": "code",
   "execution_count": 11,
   "metadata": {},
   "outputs": [
    {
     "data": {
      "image/png": "[encoded data removed]",
      "text/latex": [
       "$\\displaystyle \\sqrt[3]{x^{3}}$"
      ],
      "text/plain": [
       "   ____\n",
       "3 ╱  3 \n",
       "╲╱  x  "
      ]
     },
     "execution_count": 11,
     "metadata": {},
     "output_type": "execute_result"
    }
   ],
   "source": [
    "cbrt(x**3)"
   ]
  },
  {
   "cell_type": "code",
   "execution_count": 14,
   "metadata": {},
   "outputs": [
    {
     "name": "stdout",
     "output_type": "stream",
     "text": [
      "Help on function simplify in module sympy.simplify.simplify:\n",
      "\n",
      "simplify(expr, ratio=1.7, measure=<function count_ops at 0x111d4e598>, rational=False, inverse=False)\n",
      "    Simplifies the given expression.\n",
      "    \n",
      "    Simplification is not a well defined term and the exact strategies\n",
      "    this function tries can change in the future versions of SymPy. If\n",
      "    your algorithm relies on \"simplification\" (whatever it is), try to\n",
      "    determine what you need exactly  -  is it powsimp()?, radsimp()?,\n",
      "    together()?, logcombine()?, or something else? And use this particular\n",
      "    function directly, because those are well defined and thus your algorithm\n",
      "    will be robust.\n",
      "    \n",
      "    Nonetheless, especially for interactive use, or when you don't know\n",
      "    anything about the structure of the expression, simplify() tries to apply\n",
      "    intelligent heuristics to make the input expression \"simpler\".  For\n",
      "    example:\n",
      "    \n",
      "    >>> from sympy import simplify, cos, sin\n",
      "    >>> from sympy.abc import x, y\n",
      "    >>> a = (x + x**2)/(x*sin(y)**2 + x*cos(y)**2)\n",
      "    >>> a\n",
      "    (x**2 + x)/(x*sin(y)**2 + x*cos(y)**2)\n",
      "    >>> simplify(a)\n",
      "    x + 1\n",
      "    \n",
      "    Note that we could have obtained the same result by using specific\n",
      "    simplification functions:\n",
      "    \n",
      "    >>> from sympy import trigsimp, cancel\n",
      "    >>> trigsimp(a)\n",
      "    (x**2 + x)/x\n",
      "    >>> cancel(_)\n",
      "    x + 1\n",
      "    \n",
      "    In some cases, applying :func:`simplify` may actually result in some more\n",
      "    complicated expression. The default ``ratio=1.7`` prevents more extreme\n",
      "    cases: if (result length)/(input length) > ratio, then input is returned\n",
      "    unmodified.  The ``measure`` parameter lets you specify the function used\n",
      "    to determine how complex an expression is.  The function should take a\n",
      "    single argument as an expression and return a number such that if\n",
      "    expression ``a`` is more complex than expression ``b``, then\n",
      "    ``measure(a) > measure(b)``.  The default measure function is\n",
      "    :func:`count_ops`, which returns the total number of operations in the\n",
      "    expression.\n",
      "    \n",
      "    For example, if ``ratio=1``, ``simplify`` output can't be longer\n",
      "    than input.\n",
      "    \n",
      "    ::\n",
      "    \n",
      "        >>> from sympy import sqrt, simplify, count_ops, oo\n",
      "        >>> root = 1/(sqrt(2)+3)\n",
      "    \n",
      "    Since ``simplify(root)`` would result in a slightly longer expression,\n",
      "    root is returned unchanged instead::\n",
      "    \n",
      "       >>> simplify(root, ratio=1) == root\n",
      "       True\n",
      "    \n",
      "    If ``ratio=oo``, simplify will be applied anyway::\n",
      "    \n",
      "        >>> count_ops(simplify(root, ratio=oo)) > count_ops(root)\n",
      "        True\n",
      "    \n",
      "    Note that the shortest expression is not necessary the simplest, so\n",
      "    setting ``ratio`` to 1 may not be a good idea.\n",
      "    Heuristically, the default value ``ratio=1.7`` seems like a reasonable\n",
      "    choice.\n",
      "    \n",
      "    You can easily define your own measure function based on what you feel\n",
      "    should represent the \"size\" or \"complexity\" of the input expression.  Note\n",
      "    that some choices, such as ``lambda expr: len(str(expr))`` may appear to be\n",
      "    good metrics, but have other problems (in this case, the measure function\n",
      "    may slow down simplify too much for very large expressions).  If you don't\n",
      "    know what a good metric would be, the default, ``count_ops``, is a good\n",
      "    one.\n",
      "    \n",
      "    For example:\n",
      "    \n",
      "    >>> from sympy import symbols, log\n",
      "    >>> a, b = symbols('a b', positive=True)\n",
      "    >>> g = log(a) + log(b) + log(a)*log(1/b)\n",
      "    >>> h = simplify(g)\n",
      "    >>> h\n",
      "    log(a*b**(1 - log(a)))\n",
      "    >>> count_ops(g)\n",
      "    8\n",
      "    >>> count_ops(h)\n",
      "    5\n",
      "    \n",
      "    So you can see that ``h`` is simpler than ``g`` using the count_ops metric.\n",
      "    However, we may not like how ``simplify`` (in this case, using\n",
      "    ``logcombine``) has created the ``b**(log(1/a) + 1)`` term.  A simple way\n",
      "    to reduce this would be to give more weight to powers as operations in\n",
      "    ``count_ops``.  We can do this by using the ``visual=True`` option:\n",
      "    \n",
      "    >>> print(count_ops(g, visual=True))\n",
      "    2*ADD + DIV + 4*LOG + MUL\n",
      "    >>> print(count_ops(h, visual=True))\n",
      "    2*LOG + MUL + POW + SUB\n",
      "    \n",
      "    >>> from sympy import Symbol, S\n",
      "    >>> def my_measure(expr):\n",
      "    ...     POW = Symbol('POW')\n",
      "    ...     # Discourage powers by giving POW a weight of 10\n",
      "    ...     count = count_ops(expr, visual=True).subs(POW, 10)\n",
      "    ...     # Every other operation gets a weight of 1 (the default)\n",
      "    ...     count = count.replace(Symbol, type(S.One))\n",
      "    ...     return count\n",
      "    >>> my_measure(g)\n",
      "    8\n",
      "    >>> my_measure(h)\n",
      "    14\n",
      "    >>> 15./8 > 1.7 # 1.7 is the default ratio\n",
      "    True\n",
      "    >>> simplify(g, measure=my_measure)\n",
      "    -log(a)*log(b) + log(a) + log(b)\n",
      "    \n",
      "    Note that because ``simplify()`` internally tries many different\n",
      "    simplification strategies and then compares them using the measure\n",
      "    function, we get a completely different result that is still different\n",
      "    from the input expression by doing this.\n",
      "    \n",
      "    If rational=True, Floats will be recast as Rationals before simplification.\n",
      "    If rational=None, Floats will be recast as Rationals but the result will\n",
      "    be recast as Floats. If rational=False(default) then nothing will be done\n",
      "    to the Floats.\n",
      "    \n",
      "    If inverse=True, it will be assumed that a composition of inverse\n",
      "    functions, such as sin and asin, can be cancelled in any order.\n",
      "    For example, ``asin(sin(x))`` will yield ``x`` without checking whether\n",
      "    x belongs to the set where this relation is true. The default is\n",
      "    False.\n",
      "\n"
     ]
    }
   ],
   "source": [
    "help(simplify)"
   ]
  },
  {
   "cell_type": "code",
   "execution_count": 17,
   "metadata": {},
   "outputs": [
    {
     "data": {
      "image/png": "[encoded data removed]",
      "text/latex": [
       "$\\displaystyle \\frac{1}{\\sqrt{2} + 3}$"
      ],
      "text/plain": [
       "  1   \n",
       "──────\n",
       "√2 + 3"
      ]
     },
     "execution_count": 17,
     "metadata": {},
     "output_type": "execute_result"
    }
   ],
   "source": [
    "root = 1/(sqrt(2)+3)\n",
    "root"
   ]
  },
  {
   "cell_type": "code",
   "execution_count": 18,
   "metadata": {},
   "outputs": [
    {
     "data": {
      "image/png": "[encoded data removed]",
      "text/latex": [
       "$\\displaystyle \\frac{3}{7} - \\frac{\\sqrt{2}}{7}$"
      ],
      "text/plain": [
       "3   √2\n",
       "─ - ──\n",
       "7   7 "
      ]
     },
     "execution_count": 18,
     "metadata": {},
     "output_type": "execute_result"
    }
   ],
   "source": [
    "simplify(root)"
   ]
  },
  {
   "cell_type": "code",
   "execution_count": 19,
   "metadata": {},
   "outputs": [
    {
     "data": {
      "image/png": "[encoded data removed]",
      "text/latex": [
       "$\\displaystyle 1 + \\sqrt{3}$"
      ],
      "text/plain": [
       "1 + √3"
      ]
     },
     "execution_count": 19,
     "metadata": {},
     "output_type": "execute_result"
    }
   ],
   "source": [
    "simplify(2/(sqrt(3)-1))"
   ]
  },
  {
   "cell_type": "code",
   "execution_count": 20,
   "metadata": {},
   "outputs": [
    {
     "data": {
      "image/png": "[encoded data removed]",
      "text/latex": [
       "$\\displaystyle \\frac{2 \\sqrt{3}}{3}$"
      ],
      "text/plain": [
       "2⋅√3\n",
       "────\n",
       " 3  "
      ]
     },
     "execution_count": 20,
     "metadata": {},
     "output_type": "execute_result"
    }
   ],
   "source": [
    "simplify(2/sqrt(3))"
   ]
  },
  {
   "cell_type": "code",
   "execution_count": 4,
   "metadata": {},
   "outputs": [],
   "source": [
    "from sympy import *\n",
    "a, b = symbols('a b')\n",
    "serie_huit_1 = (((a+b)/(a-b) + (a-b)/(a+b))/(((a+b)/(a-b) - (a-b)/(a+b))))\n",
    "serie_huit_2 = (2*a*b/(a**2+b**2))\n",
    "serie_huit_3 = (((a)/(a-b) - (b)/(a+b))/(((a)/(a+b) + (b)/(a-b))))\n",
    "serie_huit = serie_huit_1 * serie_huit_2 * serie_huit_3"
   ]
  },
  {
   "cell_type": "code",
   "execution_count": 5,
   "metadata": {},
   "outputs": [
    {
     "data": {
      "text/latex": [
       "$\\displaystyle \\frac{2 a b \\left(\\frac{a}{a - b} - \\frac{b}{a + b}\\right) \\left(\\frac{a - b}{a + b} + \\frac{a + b}{a - b}\\right)}{\\left(a^{2} + b^{2}\\right) \\left(\\frac{a}{a + b} + \\frac{b}{a - b}\\right) \\left(- \\frac{a - b}{a + b} + \\frac{a + b}{a - b}\\right)}$"
      ],
      "text/plain": [
       "2*a*b*(a/(a - b) - b/(a + b))*((a - b)/(a + b) + (a + b)/(a - b))/((a**2 + b**2)*(a/(a + b) + b/(a - b))*(-(a - b)/(a + b) + (a + b)/(a - b)))"
      ]
     },
     "execution_count": 5,
     "metadata": {},
     "output_type": "execute_result"
    }
   ],
   "source": [
    "serie_huit"
   ]
  },
  {
   "cell_type": "code",
   "execution_count": 6,
   "metadata": {},
   "outputs": [
    {
     "data": {
      "text/latex": [
       "$\\displaystyle 1$"
      ],
      "text/plain": [
       "1"
      ]
     },
     "execution_count": 6,
     "metadata": {},
     "output_type": "execute_result"
    }
   ],
   "source": [
    "simplify(serie_huit)"
   ]
  },
  {
   "cell_type": "code",
   "execution_count": 7,
   "metadata": {},
   "outputs": [
    {
     "data": {
      "text/latex": [
       "$\\displaystyle \\frac{a}{2 b} + \\frac{b}{2 a}$"
      ],
      "text/plain": [
       "a/(2*b) + b/(2*a)"
      ]
     },
     "execution_count": 7,
     "metadata": {},
     "output_type": "execute_result"
    }
   ],
   "source": [
    "simplify(serie_huit_1)"
   ]
  },
  {
   "cell_type": "code",
   "execution_count": 8,
   "metadata": {},
   "outputs": [
    {
     "data": {
      "text/latex": [
       "$\\displaystyle \\frac{2 a b}{a^{2} + b^{2}}$"
      ],
      "text/plain": [
       "2*a*b/(a**2 + b**2)"
      ]
     },
     "execution_count": 8,
     "metadata": {},
     "output_type": "execute_result"
    }
   ],
   "source": [
    "simplify(serie_huit_2)"
   ]
  },
  {
   "cell_type": "code",
   "execution_count": 9,
   "metadata": {},
   "outputs": [
    {
     "data": {
      "text/latex": [
       "$\\displaystyle 1$"
      ],
      "text/plain": [
       "1"
      ]
     },
     "execution_count": 9,
     "metadata": {},
     "output_type": "execute_result"
    }
   ],
   "source": [
    "simplify(serie_huit_3)"
   ]
  },
  {
   "cell_type": "code",
   "execution_count": 10,
   "metadata": {},
   "outputs": [
    {
     "data": {
      "text/latex": [
       "$\\displaystyle 1$"
      ],
      "text/plain": [
       "1"
      ]
     },
     "execution_count": 10,
     "metadata": {},
     "output_type": "execute_result"
    }
   ],
   "source": [
    "simplify(serie_huit_1 * serie_huit_2)"
   ]
  },
  {
   "cell_type": "markdown",
   "metadata": {},
   "source": [
    "# serie 7"
   ]
  },
  {
   "cell_type": "code",
   "execution_count": 31,
   "metadata": {},
   "outputs": [
    {
     "data": {
      "text/latex": [
       "$\\displaystyle \\frac{2 \\sqrt{x} \\sqrt{y}}{3}$"
      ],
      "text/plain": [
       "2*sqrt(x)*sqrt(y)/3"
      ]
     },
     "execution_count": 31,
     "metadata": {},
     "output_type": "execute_result"
    }
   ],
   "source": [
    "from sympy import *\n",
    "x, y = symbols('x y')\n",
    "f = 2*x*sqrt(y) / (3*sqrt(x))\n",
    "f"
   ]
  },
  {
   "cell_type": "code",
   "execution_count": 32,
   "metadata": {},
   "outputs": [
    {
     "data": {
      "text/latex": [
       "$\\displaystyle \\frac{2 \\sqrt{x} \\sqrt{y}}{3}$"
      ],
      "text/plain": [
       "2*sqrt(x)*sqrt(y)/3"
      ]
     },
     "execution_count": 32,
     "metadata": {},
     "output_type": "execute_result"
    }
   ],
   "source": [
    "simplify(f)"
   ]
  },
  {
   "cell_type": "code",
   "execution_count": 44,
   "metadata": {},
   "outputs": [
    {
     "data": {
      "text/latex": [
       "$\\displaystyle a \\sqrt[3]{b} + b \\sqrt[3]{a b}$"
      ],
      "text/plain": [
       "a*b**(1/3) + b*(a*b)**(1/3)"
      ]
     },
     "execution_count": 44,
     "metadata": {},
     "output_type": "execute_result"
    }
   ],
   "source": [
    "a, b = symbols('a b')\n",
    "g1 = a*cbrt(b)+b*(cbrt(a*b))\n",
    "g2 = cbrt(a*a*b)\n",
    "g1"
   ]
  },
  {
   "cell_type": "code",
   "execution_count": 45,
   "metadata": {},
   "outputs": [
    {
     "data": {
      "text/latex": [
       "$\\displaystyle \\sqrt[3]{a^{2} b}$"
      ],
      "text/plain": [
       "(a**2*b)**(1/3)"
      ]
     },
     "execution_count": 45,
     "metadata": {},
     "output_type": "execute_result"
    }
   ],
   "source": [
    "g2"
   ]
  },
  {
   "cell_type": "code",
   "execution_count": 54,
   "metadata": {},
   "outputs": [
    {
     "data": {
      "text/latex": [
       "$\\displaystyle \\sqrt[3]{a^{2} b}$"
      ],
      "text/plain": [
       "(a**2*b)**(1/3)"
      ]
     },
     "execution_count": 54,
     "metadata": {},
     "output_type": "execute_result"
    }
   ],
   "source": [
    "simplify(g2)"
   ]
  },
  {
   "cell_type": "code",
   "execution_count": 55,
   "metadata": {},
   "outputs": [
    {
     "data": {
      "text/latex": [
       "$\\displaystyle \\frac{3}{2} - \\frac{\\sqrt{5}}{2}$"
      ],
      "text/plain": [
       "3/2 - sqrt(5)/2"
      ]
     },
     "execution_count": 55,
     "metadata": {},
     "output_type": "execute_result"
    }
   ],
   "source": [
    "simplify(2/(3+sqrt(5)))"
   ]
  },
  {
   "cell_type": "code",
   "execution_count": 56,
   "metadata": {},
   "outputs": [
    {
     "data": {
      "text/latex": [
       "$\\displaystyle \\frac{17}{23} - \\frac{8 \\sqrt{2}}{23}$"
      ],
      "text/plain": [
       "17/23 - 8*sqrt(2)/23"
      ]
     },
     "execution_count": 56,
     "metadata": {},
     "output_type": "execute_result"
    }
   ],
   "source": [
    "simplify((3-sqrt(2))/(5+sqrt(2)))"
   ]
  },
  {
   "cell_type": "code",
   "execution_count": 57,
   "metadata": {},
   "outputs": [
    {
     "data": {
      "text/latex": [
       "$\\displaystyle \\frac{2 \\sqrt{5} + \\sqrt{21}}{- 2 \\sqrt{5} + \\sqrt{21}}$"
      ],
      "text/plain": [
       "(2*sqrt(5) + sqrt(21))/(-2*sqrt(5) + sqrt(21))"
      ]
     },
     "execution_count": 57,
     "metadata": {},
     "output_type": "execute_result"
    }
   ],
   "source": [
    "simplify((sqrt(20)+sqrt(21))/(sqrt(21)-2*sqrt(5)))"
   ]
  },
  {
   "cell_type": "code",
   "execution_count": 65,
   "metadata": {},
   "outputs": [],
   "source": [
    "l = sqrt(2)-sqrt(3)+1\n",
    "ll = 2/l"
   ]
  },
  {
   "cell_type": "code",
   "execution_count": 66,
   "metadata": {},
   "outputs": [
    {
     "data": {
      "text/latex": [
       "$\\displaystyle \\frac{2}{- \\sqrt{3} + 1 + \\sqrt{2}}$"
      ],
      "text/plain": [
       "2/(-sqrt(3) + 1 + sqrt(2))"
      ]
     },
     "execution_count": 66,
     "metadata": {},
     "output_type": "execute_result"
    }
   ],
   "source": [
    "simplify(ll)"
   ]
  }
 ],
 "metadata": {
  "kernelspec": {
   "display_name": "Python 3",
   "language": "python",
   "name": "python3"
  },
  "language_info": {
   "codemirror_mode": {
    "name": "ipython",
    "version": 3
   },
   "file_extension": ".py",
   "mimetype": "text/x-python",
   "name": "python",
   "nbconvert_exporter": "python",
   "pygments_lexer": "ipython3",
   "version": "3.7.3"
  }
 },
 "nbformat": 4,
 "nbformat_minor": 4
}
