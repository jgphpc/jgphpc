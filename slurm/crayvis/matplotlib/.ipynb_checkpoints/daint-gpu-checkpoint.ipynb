{
 "cells": [
  {
   "cell_type": "code",
   "execution_count": 37,
   "metadata": {
    "collapsed": false
   },
   "outputs": [
    {
     "name": "stdout",
     "output_type": "stream",
     "text": [
      "7\n",
      "3\n"
     ]
    }
   ],
   "source": [
    "import re\n",
    "import sys\n",
    "\n",
    "# -------\n",
    "#   7293   0x1c7d c7-3c2s15n1  compute        up interactive\n",
    "in_xt = '/home/piccinal/linux.git/slurm/crayvis/matplotlib/xtprocadmin.daint'\n",
    "file_in_xt = open(in_xt, \"r\")\n",
    "\n",
    "dict_cabinet_of_nid = {}\n",
    "dict_row_of_nid = {}\n",
    "for line in file_in_xt.readlines()[1:]:\n",
    "    nidn = line.split()[0]\n",
    "    nidn = int(nidn)\n",
    "\n",
    "    cabinet_i = line.split()[2].split('-')[0][1:]\n",
    "    dict_cabinet_of_nid[nidn] = int(cabinet_i)\n",
    "\n",
    "    row_j = line.split()[2].split('-')[1].split('c')[0]\n",
    "    dict_row_of_nid[nidn] = int(row_j)\n",
    "\n",
    "print(dict_cabinet_of_nid[7293])\n",
    "print(dict_row_of_nid[7293])\n",
    "#quit(0)"
   ]
  },
  {
   "cell_type": "code",
   "execution_count": 40,
   "metadata": {
    "collapsed": false
   },
   "outputs": [
    {
     "name": "stdout",
     "output_type": "stream",
     "text": [
      "2302 1 1\n",
      "2670 3 1\n",
      "3025 5 1\n",
      "3027 5 1\n",
      "7293 7 3\n"
     ]
    }
   ],
   "source": [
    "# -------\n",
    "# hostlist -e `sacct -j 1323038 -o nodelist -P |grep -m1 ^nid` > nids.daint\n",
    "# nid02302\n",
    "# nid02596\n",
    "in_nids = '/home/piccinal/linux.git/slurm/crayvis/matplotlib/nids.daint'\n",
    "file_in_nids = open(in_nids, \"r\")\n",
    "\n",
    "for nnn in file_in_nids:\n",
    "    nidtmp = nnn.split('nid')[1]\n",
    "    nidtmp = int(nidtmp)\n",
    "    print(nidtmp, dict_cabinet_of_nid[nidtmp], dict_row_of_nid[nidtmp])"
   ]
  },
  {
   "cell_type": "code",
   "execution_count": 46,
   "metadata": {
    "collapsed": false
   },
   "outputs": [
    {
     "name": "stdout",
     "output_type": "stream",
     "text": [
      "type= <class 'numpy.ndarray'>\n"
     ]
    },
    {
     "data": {
      "image/png": "[encoded data removed]",
      "text/plain": [
       "<Figure size 720x288 with 1 Axes>"
      ]
     },
     "metadata": {},
     "output_type": "display_data"
    }
   ],
   "source": [
    "import matplotlib.pyplot as plt\n",
    "import numpy as np\n",
    "\n",
    "def samplemat(dims):\n",
    "    \"\"\"Make a matrix with all zeros and increasing elements on the diagonal\"\"\"\n",
    "    aa = np.zeros(dims)   # numpy.ndarray\n",
    "    for i in range(min(dims)):\n",
    "        aa[i, i] = 10\n",
    "    return aa\n",
    "\n",
    "# Display matrix\n",
    "plt.matshow(samplemat((4, 10)))\n",
    "plt.show()"
   ]
  }
 ],
 "metadata": {
  "kernelspec": {
   "display_name": "Python 3",
   "language": "python",
   "name": "python3"
  },
  "language_info": {
   "codemirror_mode": {
    "name": "ipython",
    "version": 3
   },
   "file_extension": ".py",
   "mimetype": "text/x-python",
   "name": "python",
   "nbconvert_exporter": "python",
   "pygments_lexer": "ipython3",
   "version": "3.5.2"
  }
 },
 "nbformat": 4,
 "nbformat_minor": 2
}
