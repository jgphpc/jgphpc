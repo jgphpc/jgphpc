{
 "cells": [
  {
   "cell_type": "code",
   "execution_count": 51,
   "metadata": {
    "collapsed": false
   },
   "outputs": [
    {
     "name": "stdout",
     "output_type": "stream",
     "text": [
      "Found 7246 compute nodes\n",
      "nid7293: cabinet= 7 row= 3\n"
     ]
    }
   ],
   "source": [
    "import re\n",
    "import sys\n",
    "\n",
    "# -------\n",
    "#   7293   0x1c7d c7-3c2s15n1  compute        up interactive\n",
    "in_xt = '/home/piccinal/linux.git/slurm/crayvis/matplotlib/xtprocadmin.daint'\n",
    "file_in_xt = open(in_xt, \"r\")\n",
    "\n",
    "dict_cabinet_of_nid = {}\n",
    "dict_row_of_nid = {}\n",
    "for line in file_in_xt.readlines()[1:]:\n",
    "    nidn = line.split()[0]\n",
    "    nidn = int(nidn)\n",
    "\n",
    "    cabinet_i = line.split()[2].split('-')[0][1:]\n",
    "    dict_cabinet_of_nid[nidn] = int(cabinet_i)\n",
    "\n",
    "    row_j = line.split()[2].split('-')[1].split('c')[0]\n",
    "    dict_row_of_nid[nidn] = int(row_j)\n",
    "\n",
    "print('Found', len(dict_cabinet_of_nid), 'compute nodes')    \n",
    "print('nid7293: cabinet=', dict_cabinet_of_nid[7293], 'row=',dict_row_of_nid[7293])\n",
    "\n",
    "#quit(0)"
   ]
  },
  {
   "cell_type": "code",
   "execution_count": 40,
   "metadata": {
    "collapsed": false
   },
   "outputs": [
    {
     "name": "stdout",
     "output_type": "stream",
     "text": [
      "2302 1 1\n",
      "2670 3 1\n",
      "3025 5 1\n",
      "3027 5 1\n",
      "7293 7 3\n"
     ]
    }
   ],
   "source": [
    "# -------\n",
    "# hostlist -e `sacct -j 1323038 -o nodelist -P |grep -m1 ^nid` > nids.daint\n",
    "# nid02302\n",
    "# nid02596\n",
    "in_nids = '/home/piccinal/linux.git/slurm/crayvis/matplotlib/nids.daint'\n",
    "file_in_nids = open(in_nids, \"r\")\n",
    "\n",
    "for nnn in file_in_nids:\n",
    "    nidtmp = nnn.split('nid')[1]\n",
    "    nidtmp = int(nidtmp)\n",
    "    print(nidtmp, dict_cabinet_of_nid[nidtmp], dict_row_of_nid[nidtmp])"
   ]
  },
  {
   "cell_type": "code",
   "execution_count": 77,
   "metadata": {
    "collapsed": false
   },
   "outputs": [
    {
     "name": "stdout",
     "output_type": "stream",
     "text": [
      "2302 1 1\n",
      "2670 3 1\n",
      "3025 5 1\n",
      "3027 5 1\n",
      "7293 7 3\n",
      "[[ 0.  0.  0.  0.  0.  0.  0.  0.  0.  0.]\n",
      " [ 0. 10.  0. 10.  0. 20.  0.  0.  0.  0.]\n",
      " [ 0.  0.  0.  0.  0.  0.  0.  0.  0.  0.]\n",
      " [ 0.  0.  0.  0.  0.  0.  0. 10.  0.  0.]]\n"
     ]
    },
    {
     "data": {
      "image/png": "[encoded data removed]",
      "text/plain": [
       "<Figure size 432x288 with 2 Axes>"
      ]
     },
     "metadata": {},
     "output_type": "display_data"
    }
   ],
   "source": [
    "import numpy as np\n",
    "import matplotlib.pyplot as plt\n",
    "import matplotlib.ticker as ticker\n",
    "\n",
    "#def samplemat(dims):\n",
    "#    \"\"\"Make a matrix with all zeros and increasing elements on the diagonal\"\"\"\n",
    "#    aa = np.zeros(dims)   # numpy.ndarray\n",
    "#    for i in range(min(dims)):\n",
    "#        aa[i, i] = 10\n",
    "#    return aa\n",
    "\n",
    "in_nids = '/home/piccinal/linux.git/slurm/crayvis/matplotlib/nids.daint'\n",
    "file_in_nids = open(in_nids, \"r\")\n",
    "\n",
    "ndarray_daint_gpu = np.zeros( (4,10) ) # 0:9cabinets * 0:3rows\n",
    "for nnn in file_in_nids:\n",
    "    nidtmp = nnn.split('nid')[1]\n",
    "    nidtmp = int(nidtmp)\n",
    "    print(nidtmp, dict_cabinet_of_nid[nidtmp], dict_row_of_nid[nidtmp])\n",
    "    ndarray_daint_gpu[dict_row_of_nid[nidtmp], dict_cabinet_of_nid[nidtmp] ] += 10\n",
    "    \n",
    "print(ndarray_daint_gpu)\n",
    "\n",
    "# Display matrix\n",
    "plt.close(1)\n",
    "#plt.matshow(samplemat((4, 10)))\n",
    "fig = plt.figure()\n",
    "ax = fig.add_subplot(111)\n",
    "cax = ax.matshow(ndarray_daint_gpu) # ,interpolation='nearest')\n",
    "fig.colorbar(cax)\n",
    "#ax.set_title('Piz Daint')\n",
    "ax.set_xlabel('cabinets')\n",
    "ax.set_ylabel('rows')\n",
    "#fig.colorbar(111)\n",
    "#fig.matshow(ndarray_daint_gpu)\n",
    "plt.grid(True)\n",
    "\n",
    "ax.xaxis.set_major_locator(ticker.FixedLocator([0,1,2,3,4,5,6,7,8,9]))\n",
    "\n",
    "#alpha = ['ABC', 'DEF', 'GHI', 'JKL']\n",
    "#ax.set_xticklabels(['']+alpha)\n",
    "#ax.set_yticklabels(['']+alpha)\n",
    "plt.show()\n",
    "\n",
    "\n",
    "#data = np.random.random((4,4))\n",
    "#fig = plt.figure()\n",
    "#ax = fig.add_subplot(111)\n",
    "#cax = ax.matshow(data, interpolation='nearest')\n",
    "#fig.colorbar(cax)\n",
    "#plt.show()"
   ]
  }
 ],
 "metadata": {
  "kernelspec": {
   "display_name": "Python 3",
   "language": "python",
   "name": "python3"
  },
  "language_info": {
   "codemirror_mode": {
    "name": "ipython",
    "version": 3
   },
   "file_extension": ".py",
   "mimetype": "text/x-python",
   "name": "python",
   "nbconvert_exporter": "python",
   "pygments_lexer": "ipython3",
   "version": "3.5.2"
  }
 },
 "nbformat": 4,
 "nbformat_minor": 2
}
