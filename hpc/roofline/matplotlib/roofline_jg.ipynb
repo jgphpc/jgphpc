{
  "cells": [
    {
      "cell_type": "code",
      "source": [
        "# https://matplotlib.org/3.2.1/gallery/lines_bars_and_markers/simple_plot.html\n",
        "import matplotlib\n",
        "import matplotlib.pyplot as plt\n",
        "# %matplotlib inline\n",
        "import numpy as np"
      ],
      "outputs": [],
      "execution_count": 22,
      "metadata": {
        "collapsed": true,
        "jupyter": {
          "source_hidden": false,
          "outputs_hidden": false
        },
        "nteract": {
          "transient": {
            "deleting": false
          }
        },
        "execution": {
          "iopub.status.busy": "2020-11-14T12:44:31.334Z",
          "iopub.execute_input": "2020-11-14T12:44:31.339Z",
          "iopub.status.idle": "2020-11-14T12:44:31.345Z",
          "shell.execute_reply": "2020-11-14T12:44:31.347Z"
        }
      }
    },
    {
      "cell_type": "code",
      "source": [
        "def affine(ptA, ptB):\n",
        "    \"\"\"\n",
        "    y = ax + b from (A, B)\n",
        "    Example:\n",
        "     ptA: 153.8 = a * 0.10 + b\n",
        "     ptB: 7484.7 = a * 4.87 + b\n",
        "       (7484.7 - 153.8) = a (4.87 - 0.10) => a = (7484.7 - 153.8) / (4.87 - 0.10) = 1536.876\n",
        "       b = 7484.7 - a * 4.87 = 7484.7 - a * 4.87 = .11236\n",
        "       => y = 1536.876 * x + .11236\n",
        "    \"\"\"\n",
        "    coeff = [] \n",
        "    coeff.append((ptB[1] - ptA[1]) / (ptB[0] - ptA[0]))\n",
        "    coeff.append(ptB[1] - coeff[0] * ptB[0])\n",
        "    return(coeff)\n",
        "\n",
        "\n",
        "pointA = [0.10, 153.8]  # AI, FLOP/s\n",
        "pointB = [4.87, 7484.7] # AI, FLOP/s\n",
        "coeff = affine(pointA, pointB)\n",
        "x = np.linspace(0, 50, 2) # start, stop, num=50\n",
        "y = coeff[0] * x + coeff[1]\n",
        "\n",
        "fig, ax = plt.subplots()\n",
        "ax.plot(x, y)"
      ],
      "outputs": [
        {
          "output_type": "execute_result",
          "execution_count": 56,
          "data": {
            "text/plain": "[<matplotlib.lines.Line2D at 0x149e3f0eb250>]"
          },
          "metadata": {}
        },
        {
          "output_type": "display_data",
          "data": {
            "text/plain": "<Figure size 432x288 with 1 Axes>",
            "image/png": "[encoded data removed]"
          },
          "metadata": {
            "needs_background": "light"
          }
        }
      ],
      "execution_count": 56,
      "metadata": {
        "collapsed": true,
        "jupyter": {
          "source_hidden": false,
          "outputs_hidden": false
        },
        "nteract": {
          "transient": {
            "deleting": false
          }
        },
        "execution": {
          "iopub.status.busy": "2020-11-14T13:34:02.878Z",
          "iopub.execute_input": "2020-11-14T13:34:02.881Z",
          "iopub.status.idle": "2020-11-14T13:34:02.978Z",
          "shell.execute_reply": "2020-11-14T13:34:02.988Z"
        }
      }
    },
    {
      "cell_type": "code",
      "source": [
        "# https://github.com/mohamed/roofline.git  \n",
        "START = -4 ;STOP = 6 ;N = abs(STOP - START + 1) # N=11\n",
        "# arithmetic_intensity = np.logspace(START, STOP, num=N, base=2)\n",
        "# array([6.25e-02, 1.25e-01, 2.50e-01, 5.00e-01, 1.00e+00, 2.00e+00, 4.00e+00, 8.00e+00, 1.60e+01, 3.20e+01, 6.40e+01])\n",
        "arithmetic_intensity = np.array([0.01, 0.1, 1, 10, 100, 1000])\n",
        "platforms = ['NVIDIA V100', 'NVIDIA P100']\n",
        "# achievable_performance = np.zeros((len(platforms), len(arithmetic_intensity)))\n",
        "# achievable_performance = np.array([6.25e-02, 1.25e-01, 2.50e-01, 5.00e-01, 1.00e+00, 2.00e+00, 4.00e+00, 8.00e+00, 1.60e+01, 3.20e+01, 6.40e+01])\n",
        "achievable_performance = np.array([6.25e-02, 1.25e-01, 2.50e-01, 5.00e-01, 1.00e+00, 2.00e+00])\n",
        "\n",
        "\n",
        "# fig, axes = plt.subplots(2, 1) # 2\n",
        "fig, axes = plt.subplots()\n",
        "\n",
        "axis.set_xscale('log', base=2)\n",
        "axis.set_yscale('log', base=2)\n",
        "\n",
        "#plt.setp(axes,\n",
        "#         xticks=arithmetic_intensity,\n",
        "#         yticks=np.logspace(1, 20, num=20, base=2))  \n",
        "# plt.setp(axes,\n",
        "#         xticks=[0.01, 0.1, 1, 10],\n",
        "#         yticks=[0.001, 0.01, 0.1, 1, 10])\n",
        "         # xticks=[0.01, 0.1, 1, 10, 100, 1000],\n",
        "         # yticks=[0.001, 0.01, 0.1, 1, 10, 100, 1000])\n",
        "# axis.grid(True, which='major')\n",
        "\n",
        "achieved = {\n",
        "  'n060': [34.9, 16.8], # AI, GFLOP/s\n",
        "  'n120': [66.5, 124.9], # AI, GFLOP/s\n",
        "  'n240': [13.14, 752.9], # AI, GFLOP/s\n",
        "}\n",
        "plt.plot(achieved['n060'][0], achieved['n060'][1], 'go', label=f\"-n  60 (0.2e6 particles)\\n{achieved['n060']}\");\n",
        "plt.plot(achieved['n120'][0], achieved['n120'][1], 'bo', label=f\"-n 120 (1.7e6 particles)\\n{achieved['n120']}\"); # plt.legend();   \n",
        "# plt.plot(achieved['n240'][0], achieved['n240'][1], 'ro', label='-n 240 (13.8e6 particles)'); # plt.legend();   \n",
        "\n",
        "# DP roofline:\n",
        "# 'n060', [0.1, 155.4], [4.87, 7565.2], \n",
        "# 'n120', [0.1, 153.8], [4.87, 7484.7],\n",
        "# 'n240', [0.01, 15.55], [4.87, 7566.0]\n",
        "pointA = [0.10, 153.8]  # AI, FLOP/s\n",
        "pointB = [4.87, 7484.7] # AI, FLOP/s\n",
        "# pointA = [0.10, 153.8]  # AI, FLOP/s\n",
        "# pointB = [4.87, 7484.7] # AI, FLOP/s\n",
        "coeff = affine(pointA, pointB)\n",
        "x = np.linspace(pointA[0], pointB[0], 2) # start, stop, num=50\n",
        "y = coeff[0] * x + coeff[1]\n",
        "axes.plot(x, y, 'r') #, label='DP roofline')\n",
        "\n",
        "# horiz line: a=0, b=cte \n",
        "# x = np.linspace(10, 1100, 2) # start, stop, num=50\n",
        "x = np.linspace(pointB[0], achieved['n120'][1], 2) # start, stop, num=50\n",
        "y = np.array([pointB[1], pointB[1]])\n",
        "axes.plot(x, y, 'r', label=f'DP roofline\\n{pointA},\\n{pointB}')\n",
        "\n",
        "axes.set_title('Roofline Model (1 NVIDIA A100-SXM4-40GB)', fontsize=13)\n",
        "# label = \n",
        "axes.set_xlabel('Arithmetic Intensity / FLOP/byte') # fontsize=8)\n",
        "# axes.xaxis.set_label_coords(1.05, -0.025)\n",
        "\n",
        "axes.set_ylabel('Performance / GFLOP/s')\n",
        "plt.grid()\n",
        "# fig.tight_layout()\n",
        "# fig.savefig('/tmp/test.png')\n",
        "plt.legend(bbox_to_anchor=(1.0, 1.0), loc='upper left')\n",
        "plt.show()\n",
        "print('findneighbors')"
      ],
      "outputs": [
        {
          "output_type": "display_data",
          "data": {
            "text/plain": "<Figure size 432x288 with 1 Axes>",
            "image/png": "[encoded data removed]"
          },
          "metadata": {
            "needs_background": "light"
          }
        },
        {
          "output_type": "stream",
          "name": "stdout",
          "text": [
            "findneighbors\n"
          ]
        }
      ],
      "execution_count": 121,
      "metadata": {
        "collapsed": false,
        "jupyter": {
          "source_hidden": false,
          "outputs_hidden": false
        },
        "nteract": {
          "transient": {
            "deleting": false
          }
        },
        "execution": {
          "iopub.status.busy": "2020-11-14T14:37:04.543Z",
          "iopub.execute_input": "2020-11-14T14:37:04.554Z",
          "iopub.status.idle": "2020-11-14T14:37:04.710Z",
          "shell.execute_reply": "2020-11-14T14:37:04.735Z"
        }
      }
    },
    {
      "cell_type": "code",
      "source": [
        "axes"
      ],
      "outputs": [
        {
          "output_type": "execute_result",
          "execution_count": 69,
          "data": {
            "text/plain": "<AxesSubplot:title={'center':'Roofline Model (NVIDIA A100-SXM4-40GB)'}, ylabel='Performance / FLOP/s'>"
          },
          "metadata": {}
        }
      ],
      "execution_count": 69,
      "metadata": {
        "collapsed": true,
        "jupyter": {
          "source_hidden": false,
          "outputs_hidden": false
        },
        "nteract": {
          "transient": {
            "deleting": false
          }
        },
        "execution": {
          "iopub.status.busy": "2020-11-14T13:47:30.659Z",
          "iopub.execute_input": "2020-11-14T13:47:30.661Z",
          "iopub.status.idle": "2020-11-14T13:47:30.670Z",
          "shell.execute_reply": "2020-11-14T13:47:30.673Z"
        }
      }
    },
    {
      "cell_type": "code",
      "source": [],
      "outputs": [
        {
          "output_type": "stream",
          "name": "stderr",
          "text": [
            "No handles with labels found to put in legend.\n"
          ]
        },
        {
          "output_type": "execute_result",
          "execution_count": 41,
          "data": {
            "text/plain": "<matplotlib.legend.Legend at 0x149e3f0b26d0>"
          },
          "metadata": {}
        },
        {
          "output_type": "display_data",
          "data": {
            "text/plain": "<Figure size 432x288 with 1 Axes>",
            "image/png": "[encoded data removed]"
          },
          "metadata": {
            "needs_background": "light"
          }
        }
      ],
      "execution_count": 41,
      "metadata": {
        "collapsed": true,
        "jupyter": {
          "source_hidden": false,
          "outputs_hidden": false
        },
        "nteract": {
          "transient": {
            "deleting": false
          }
        },
        "execution": {
          "iopub.status.busy": "2020-11-14T13:06:54.954Z",
          "iopub.execute_input": "2020-11-14T13:06:54.958Z",
          "iopub.status.idle": "2020-11-14T13:06:54.997Z",
          "shell.execute_reply": "2020-11-14T13:06:55.003Z"
        }
      }
    },
    {
      "cell_type": "code",
      "source": [],
      "outputs": [],
      "execution_count": null,
      "metadata": {
        "collapsed": true,
        "jupyter": {
          "source_hidden": false,
          "outputs_hidden": false
        },
        "nteract": {
          "transient": {
            "deleting": false
          }
        }
      }
    },
    {
      "cell_type": "code",
      "source": [],
      "outputs": [],
      "execution_count": null,
      "metadata": {
        "collapsed": true,
        "jupyter": {
          "source_hidden": false,
          "outputs_hidden": false
        },
        "nteract": {
          "transient": {
            "deleting": false
          }
        }
      }
    },
    {
      "cell_type": "code",
      "source": [],
      "outputs": [],
      "execution_count": null,
      "metadata": {
        "collapsed": true,
        "jupyter": {
          "source_hidden": false,
          "outputs_hidden": false
        },
        "nteract": {
          "transient": {
            "deleting": false
          }
        }
      }
    },
    {
      "cell_type": "code",
      "source": [],
      "outputs": [],
      "execution_count": null,
      "metadata": {
        "collapsed": true,
        "jupyter": {
          "source_hidden": false,
          "outputs_hidden": false
        },
        "nteract": {
          "transient": {
            "deleting": false
          }
        }
      }
    },
    {
      "cell_type": "code",
      "source": [],
      "outputs": [],
      "execution_count": null,
      "metadata": {
        "collapsed": true,
        "jupyter": {
          "source_hidden": false,
          "outputs_hidden": false
        },
        "nteract": {
          "transient": {
            "deleting": false
          }
        }
      }
    },
    {
      "cell_type": "code",
      "source": [],
      "outputs": [],
      "execution_count": null,
      "metadata": {
        "collapsed": true,
        "jupyter": {
          "source_hidden": false,
          "outputs_hidden": false
        },
        "nteract": {
          "transient": {
            "deleting": false
          }
        }
      }
    },
    {
      "cell_type": "code",
      "source": [],
      "outputs": [],
      "execution_count": null,
      "metadata": {
        "collapsed": true,
        "jupyter": {
          "source_hidden": false,
          "outputs_hidden": false
        },
        "nteract": {
          "transient": {
            "deleting": false
          }
        }
      }
    },
    {
      "cell_type": "code",
      "source": [],
      "outputs": [],
      "execution_count": null,
      "metadata": {
        "collapsed": true,
        "jupyter": {
          "source_hidden": false,
          "outputs_hidden": false
        },
        "nteract": {
          "transient": {
            "deleting": false
          }
        }
      }
    },
    {
      "cell_type": "code",
      "source": [],
      "outputs": [],
      "execution_count": null,
      "metadata": {
        "collapsed": true,
        "jupyter": {
          "source_hidden": false,
          "outputs_hidden": false
        },
        "nteract": {
          "transient": {
            "deleting": false
          }
        }
      }
    },
    {
      "cell_type": "code",
      "source": [],
      "outputs": [],
      "execution_count": null,
      "metadata": {
        "collapsed": true,
        "jupyter": {
          "source_hidden": false,
          "outputs_hidden": false
        },
        "nteract": {
          "transient": {
            "deleting": false
          }
        }
      }
    },
    {
      "cell_type": "code",
      "source": [],
      "outputs": [],
      "execution_count": null,
      "metadata": {
        "collapsed": true,
        "jupyter": {
          "source_hidden": false,
          "outputs_hidden": false
        },
        "nteract": {
          "transient": {
            "deleting": false
          }
        }
      }
    },
    {
      "cell_type": "code",
      "source": [],
      "outputs": [],
      "execution_count": null,
      "metadata": {
        "collapsed": true,
        "jupyter": {
          "source_hidden": false,
          "outputs_hidden": false
        },
        "nteract": {
          "transient": {
            "deleting": false
          }
        }
      }
    },
    {
      "cell_type": "code",
      "source": [],
      "outputs": [],
      "execution_count": null,
      "metadata": {
        "collapsed": true,
        "jupyter": {
          "source_hidden": false,
          "outputs_hidden": false
        },
        "nteract": {
          "transient": {
            "deleting": false
          }
        }
      }
    },
    {
      "cell_type": "code",
      "source": [],
      "outputs": [],
      "execution_count": null,
      "metadata": {
        "collapsed": true,
        "jupyter": {
          "source_hidden": false,
          "outputs_hidden": false
        },
        "nteract": {
          "transient": {
            "deleting": false
          }
        }
      }
    },
    {
      "cell_type": "code",
      "source": [],
      "outputs": [],
      "execution_count": null,
      "metadata": {
        "collapsed": true,
        "jupyter": {
          "source_hidden": false,
          "outputs_hidden": false
        },
        "nteract": {
          "transient": {
            "deleting": false
          }
        }
      }
    },
    {
      "cell_type": "code",
      "source": [],
      "outputs": [],
      "execution_count": null,
      "metadata": {
        "collapsed": true,
        "jupyter": {
          "source_hidden": false,
          "outputs_hidden": false
        },
        "nteract": {
          "transient": {
            "deleting": false
          }
        }
      }
    },
    {
      "cell_type": "code",
      "source": [],
      "outputs": [],
      "execution_count": null,
      "metadata": {
        "collapsed": true,
        "jupyter": {
          "source_hidden": false,
          "outputs_hidden": false
        },
        "nteract": {
          "transient": {
            "deleting": false
          }
        }
      }
    },
    {
      "cell_type": "code",
      "source": [],
      "outputs": [],
      "execution_count": null,
      "metadata": {
        "collapsed": true,
        "jupyter": {
          "source_hidden": false,
          "outputs_hidden": false
        },
        "nteract": {
          "transient": {
            "deleting": false
          }
        }
      }
    },
    {
      "cell_type": "code",
      "source": [],
      "outputs": [],
      "execution_count": null,
      "metadata": {
        "collapsed": true,
        "jupyter": {
          "source_hidden": false,
          "outputs_hidden": false
        },
        "nteract": {
          "transient": {
            "deleting": false
          }
        }
      }
    },
    {
      "cell_type": "code",
      "source": [],
      "outputs": [],
      "execution_count": null,
      "metadata": {
        "collapsed": true,
        "jupyter": {
          "source_hidden": false,
          "outputs_hidden": false
        },
        "nteract": {
          "transient": {
            "deleting": false
          }
        }
      }
    },
    {
      "cell_type": "code",
      "source": [],
      "outputs": [],
      "execution_count": null,
      "metadata": {
        "collapsed": true,
        "jupyter": {
          "source_hidden": false,
          "outputs_hidden": false
        },
        "nteract": {
          "transient": {
            "deleting": false
          }
        }
      }
    },
    {
      "cell_type": "code",
      "source": [],
      "outputs": [],
      "execution_count": null,
      "metadata": {
        "collapsed": true,
        "jupyter": {
          "source_hidden": false,
          "outputs_hidden": false
        },
        "nteract": {
          "transient": {
            "deleting": false
          }
        }
      }
    },
    {
      "cell_type": "code",
      "source": [],
      "outputs": [],
      "execution_count": null,
      "metadata": {
        "collapsed": true,
        "jupyter": {
          "source_hidden": false,
          "outputs_hidden": false
        },
        "nteract": {
          "transient": {
            "deleting": false
          }
        }
      }
    },
    {
      "cell_type": "code",
      "source": [],
      "outputs": [],
      "execution_count": null,
      "metadata": {
        "collapsed": true,
        "jupyter": {
          "source_hidden": false,
          "outputs_hidden": false
        },
        "nteract": {
          "transient": {
            "deleting": false
          }
        }
      }
    },
    {
      "cell_type": "code",
      "source": [],
      "outputs": [],
      "execution_count": null,
      "metadata": {
        "collapsed": true,
        "jupyter": {
          "source_hidden": false,
          "outputs_hidden": false
        },
        "nteract": {
          "transient": {
            "deleting": false
          }
        }
      }
    },
    {
      "cell_type": "code",
      "source": [],
      "outputs": [],
      "execution_count": null,
      "metadata": {
        "collapsed": true,
        "jupyter": {
          "source_hidden": false,
          "outputs_hidden": false
        },
        "nteract": {
          "transient": {
            "deleting": false
          }
        }
      }
    },
    {
      "cell_type": "code",
      "source": [],
      "outputs": [],
      "execution_count": null,
      "metadata": {
        "collapsed": true,
        "jupyter": {
          "source_hidden": false,
          "outputs_hidden": false
        },
        "nteract": {
          "transient": {
            "deleting": false
          }
        }
      }
    },
    {
      "cell_type": "code",
      "source": [],
      "outputs": [],
      "execution_count": null,
      "metadata": {
        "collapsed": true,
        "jupyter": {
          "source_hidden": false,
          "outputs_hidden": false
        },
        "nteract": {
          "transient": {
            "deleting": false
          }
        }
      }
    },
    {
      "cell_type": "code",
      "source": [],
      "outputs": [],
      "execution_count": null,
      "metadata": {
        "collapsed": true,
        "jupyter": {
          "source_hidden": false,
          "outputs_hidden": false
        },
        "nteract": {
          "transient": {
            "deleting": false
          }
        }
      }
    },
    {
      "cell_type": "code",
      "source": [],
      "outputs": [],
      "execution_count": null,
      "metadata": {
        "collapsed": true,
        "jupyter": {
          "source_hidden": false,
          "outputs_hidden": false
        },
        "nteract": {
          "transient": {
            "deleting": false
          }
        }
      }
    },
    {
      "cell_type": "code",
      "source": [],
      "outputs": [],
      "execution_count": null,
      "metadata": {
        "collapsed": true,
        "jupyter": {
          "source_hidden": false,
          "outputs_hidden": false
        },
        "nteract": {
          "transient": {
            "deleting": false
          }
        }
      }
    },
    {
      "cell_type": "code",
      "source": [],
      "outputs": [],
      "execution_count": null,
      "metadata": {
        "collapsed": true,
        "jupyter": {
          "source_hidden": false,
          "outputs_hidden": false
        },
        "nteract": {
          "transient": {
            "deleting": false
          }
        }
      }
    },
    {
      "cell_type": "code",
      "source": [],
      "outputs": [],
      "execution_count": null,
      "metadata": {
        "collapsed": true,
        "jupyter": {
          "source_hidden": false,
          "outputs_hidden": false
        },
        "nteract": {
          "transient": {
            "deleting": false
          }
        }
      }
    },
    {
      "cell_type": "code",
      "source": [],
      "outputs": [],
      "execution_count": null,
      "metadata": {
        "collapsed": true,
        "jupyter": {
          "source_hidden": false,
          "outputs_hidden": false
        },
        "nteract": {
          "transient": {
            "deleting": false
          }
        }
      }
    },
    {
      "cell_type": "code",
      "source": [],
      "outputs": [],
      "execution_count": null,
      "metadata": {
        "collapsed": true,
        "jupyter": {
          "source_hidden": false,
          "outputs_hidden": false
        },
        "nteract": {
          "transient": {
            "deleting": false
          }
        }
      }
    },
    {
      "cell_type": "code",
      "source": [],
      "outputs": [],
      "execution_count": null,
      "metadata": {
        "collapsed": true,
        "jupyter": {
          "source_hidden": false,
          "outputs_hidden": false
        },
        "nteract": {
          "transient": {
            "deleting": false
          }
        }
      }
    },
    {
      "cell_type": "code",
      "source": [],
      "outputs": [],
      "execution_count": null,
      "metadata": {
        "collapsed": true,
        "jupyter": {
          "source_hidden": false,
          "outputs_hidden": false
        },
        "nteract": {
          "transient": {
            "deleting": false
          }
        }
      }
    },
    {
      "cell_type": "code",
      "source": [],
      "outputs": [],
      "execution_count": null,
      "metadata": {
        "collapsed": true,
        "jupyter": {
          "source_hidden": false,
          "outputs_hidden": false
        },
        "nteract": {
          "transient": {
            "deleting": false
          }
        }
      }
    },
    {
      "cell_type": "code",
      "source": [],
      "outputs": [],
      "execution_count": null,
      "metadata": {
        "collapsed": true,
        "jupyter": {
          "source_hidden": false,
          "outputs_hidden": false
        },
        "nteract": {
          "transient": {
            "deleting": false
          }
        }
      }
    }
  ],
  "metadata": {
    "kernel_info": {
      "name": "python3"
    },
    "language_info": {
      "name": "python",
      "version": "3.8.5",
      "mimetype": "text/x-python",
      "codemirror_mode": {
        "name": "ipython",
        "version": 3
      },
      "pygments_lexer": "ipython3",
      "nbconvert_exporter": "python",
      "file_extension": ".py"
    },
    "kernelspec": {
      "argv": [
        "python",
        "-m",
        "ipykernel_launcher",
        "-f",
        "{connection_file}"
      ],
      "display_name": "Python 3",
      "language": "python",
      "name": "python3"
    },
    "nteract": {
      "version": "0.26.0"
    }
  },
  "nbformat": 4,
  "nbformat_minor": 0
}