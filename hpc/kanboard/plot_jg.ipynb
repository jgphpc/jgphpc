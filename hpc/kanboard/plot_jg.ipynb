{
 "cells": [
  {
   "cell_type": "code",
   "execution_count": 1,
   "metadata": {},
   "outputs": [],
   "source": [
    "%matplotlib inline"
   ]
  },
  {
   "cell_type": "markdown",
   "metadata": {},
   "source": [
    "\n",
    "# Stacked Bar Graph\n",
    "\n",
    "\n",
    "This is an example of creating a stacked bar plot with error bars\n",
    "using `~matplotlib.pyplot.bar`.  Note the parameters *yerr* used for\n",
    "error bars, and *bottom* to stack the women's bars on top of the men's\n",
    "bars.\n"
   ]
  },
  {
   "cell_type": "code",
   "execution_count": 2,
   "metadata": {},
   "outputs": [
    {
     "data": {
      "image/png": "[encoded data removed]",
      "text/plain": [
       "<Figure size 432x288 with 1 Axes>"
      ]
     },
     "metadata": {
      "needs_background": "light"
     },
     "output_type": "display_data"
    }
   ],
   "source": [
    "import numpy as np\n",
    "import matplotlib.pyplot as plt\n",
    "\n",
    "\n",
    "N = 5\n",
    "menMeans = (20, 35, 30, 35, 27)\n",
    "womenMeans = (25, 32, 34, 20, 25)\n",
    "menStd = (2, 3, 4, 1, 2)\n",
    "womenStd = (3, 5, 2, 3, 3)\n",
    "ind = np.arange(N)    # the x locations for the groups\n",
    "width = 0.35       # the width of the bars: can also be len(x) sequence\n",
    "\n",
    "p1 = plt.bar(ind, menMeans, width, yerr=menStd)\n",
    "p2 = plt.bar(ind, womenMeans, width,\n",
    "             bottom=menMeans, yerr=womenStd)\n",
    "\n",
    "plt.ylabel('Scores')\n",
    "plt.title('Scores by group and gender')\n",
    "plt.xticks(ind, ('G1', 'G2', 'G3', 'G4', 'G5'))\n",
    "plt.yticks(np.arange(0, 81, 10))\n",
    "plt.legend((p1[0], p2[0]), ('Men', 'Women'))\n",
    "\n",
    "plt.show()"
   ]
  },
  {
   "cell_type": "code",
   "execution_count": 16,
   "metadata": {
    "scrolled": true
   },
   "outputs": [
    {
     "data": {
      "image/png": "[encoded data removed]",
      "text/plain": [
       "<Figure size 432x288 with 1 Axes>"
      ]
     },
     "metadata": {
      "needs_background": "light"
     },
     "output_type": "display_data"
    }
   ],
   "source": [
    "# --> https://docs.google.com/spreadsheets/d/1GepYjOgcZNz83nNKolKanAEqasX1ffhaOJqNkougRC8/edit?usp=sharing\n",
    "# reframe 18.35\n",
    "# education 14.2\n",
    "# debug 2.02\n",
    "# benchm 14.38\n",
    "# L1 1.44\n",
    "# L0 0.371\n",
    "# containers 3.79\n",
    "# L2 10.73\n",
    "# sph 2.45\n",
    "\n",
    "N = 1\n",
    "ind = np.arange(N)    # the x locations for the groups\n",
    "width = 0.35       # the width of the bars: can also be len(x) sequence\n",
    "\n",
    "reframe = (18.35)\n",
    "education = (14.2)\n",
    "debug = (2.02)\n",
    "benchm = (14.38)\n",
    "L1 = (1.44)\n",
    "L0 = (0.371)\n",
    "containers = (3.79)\n",
    "L2 = (10.73)\n",
    "sphexa = (2.45)\n",
    "\n",
    "p1 = plt.bar(ind, reframe, width)\n",
    "p2 = plt.bar(ind, education, width, bottom=reframe)\n",
    "p3 = plt.bar(ind, debug, width, bottom=education)\n",
    "p4 = plt.bar(ind, benchm, width, bottom=debug)\n",
    "p5 = plt.bar(ind, L1, width, bottom=benchm)\n",
    "p6 = plt.bar(ind, L0, width, bottom=L1)\n",
    "p7 = plt.bar(ind, containers, width, bottom=L0)\n",
    "p8 = plt.bar(ind, L2, width, bottom=containers)\n",
    "p9 = plt.bar(ind, sphexa, width, bottom=L2)\n",
    "\n",
    "plt.title('JG work time (2019)')\n",
    "plt.ylabel('Time spent (hours)')\n",
    "plt.xticks(ind, ('October', 'November', 'December',))\n",
    "# plt.yticks(np.arange(0, 81, 10))\n",
    "legend_labels = ('reframe', 'education', 'debug', 'benchm', 'L1', 'L0', 'containers', 'L2', 'sphexa')\n",
    "# legend_labels = ('L1', 'L2')\n",
    "legend_colors = (p1[0], p2[0], p3[0], p4[0], p5[0], p6[0], p7[0], p8[0], p9[0])\n",
    "plt.legend(legend_colors, legend_labels)\n",
    "\n",
    "plt.show()"
   ]
  },
  {
   "cell_type": "code",
   "execution_count": 17,
   "metadata": {},
   "outputs": [
    {
     "data": {
      "text/plain": [
       "float"
      ]
     },
     "execution_count": 17,
     "metadata": {},
     "output_type": "execute_result"
    }
   ],
   "source": []
  },
  {
   "cell_type": "code",
   "execution_count": null,
   "metadata": {},
   "outputs": [],
   "source": []
  }
 ],
 "metadata": {
  "kernelspec": {
   "display_name": "Python 3",
   "language": "python",
   "name": "python3"
  },
  "language_info": {
   "codemirror_mode": {
    "name": "ipython",
    "version": 3
   },
   "file_extension": ".py",
   "mimetype": "text/x-python",
   "name": "python",
   "nbconvert_exporter": "python",
   "pygments_lexer": "ipython3",
   "version": "3.7.3"
  }
 },
 "nbformat": 4,
 "nbformat_minor": 1
}
